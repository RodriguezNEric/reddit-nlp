{
 "cells": [
  {
   "cell_type": "markdown",
   "metadata": {},
   "source": [
    "# Project 3: Reddit data scraping\n",
    "\n",
    "## Part 2 - Data Cleaning and Basic EDA"
   ]
  },
  {
   "cell_type": "code",
   "execution_count": 1,
   "metadata": {},
   "outputs": [],
   "source": [
    "# General\n",
    "import pandas as pd\n",
    "import seaborn as sns\n",
    "import numpy as np\n",
    "import matplotlib.pyplot as plt\n",
    "%matplotlib inline\n",
    "\n",
    "# For Natural Language Processing\n",
    "import regex as re\n",
    "import unidecode\n",
    "from nltk.stem import WordNetLemmatizer\n",
    "from nltk.corpus import stopwords\n",
    "from sklearn.feature_extraction.text import CountVectorizer\n",
    "\n",
    "import warnings\n",
    "warnings.filterwarnings(\"ignore\", 'This pattern has match groups')\n",
    "\n",
    "# For classification modeling\n",
    "from sklearn.model_selection import train_test_split, cross_val_score, GridSearchCV\n",
    "from sklearn.linear_model import LogisticRegression\n",
    "from sklearn.ensemble import RandomForestClassifier\n",
    "from sklearn.naive_bayes import MultinomialNB\n",
    "\n",
    "# For evaluation\n",
    "from sklearn.metrics import confusion_matrix"
   ]
  },
  {
   "cell_type": "code",
   "execution_count": 6,
   "metadata": {},
   "outputs": [],
   "source": [
    "# Read in both subreddit datasets\n",
    "mental_df = pd.read_csv('../data/mentalhealth_210305_043016.csv')\n",
    "covid_df = pd.read_csv('../data/Coronavirus_210305_045141.csv')\n",
    "\n",
    "# Combine into single dataframe\n",
    "df = pd.concat([mental_df, covid_df])\n",
    "df = df.reset_index(drop=True)\n",
    "df['is_mental'] = df['subreddit'].map(lambda t: 1 if t == 'mentalhealth' else 0)"
   ]
  },
  {
   "cell_type": "code",
   "execution_count": 8,
   "metadata": {},
   "outputs": [
    {
     "data": {
      "text/html": [
       "<div>\n",
       "<style scoped>\n",
       "    .dataframe tbody tr th:only-of-type {\n",
       "        vertical-align: middle;\n",
       "    }\n",
       "\n",
       "    .dataframe tbody tr th {\n",
       "        vertical-align: top;\n",
       "    }\n",
       "\n",
       "    .dataframe thead th {\n",
       "        text-align: right;\n",
       "    }\n",
       "</style>\n",
       "<table border=\"1\" class=\"dataframe\">\n",
       "  <thead>\n",
       "    <tr style=\"text-align: right;\">\n",
       "      <th></th>\n",
       "      <th>created_utc</th>\n",
       "      <th>url</th>\n",
       "      <th>id</th>\n",
       "      <th>num_comments</th>\n",
       "      <th>title</th>\n",
       "      <th>selftext</th>\n",
       "      <th>subreddit</th>\n",
       "      <th>timestamp</th>\n",
       "      <th>is_mental</th>\n",
       "    </tr>\n",
       "  </thead>\n",
       "  <tbody>\n",
       "    <tr>\n",
       "      <th>0</th>\n",
       "      <td>1614791880</td>\n",
       "      <td>https://www.reddit.com/r/mentalhealth/comments...</td>\n",
       "      <td>lwz48u</td>\n",
       "      <td>8</td>\n",
       "      <td>What to do during an anxiety attack?</td>\n",
       "      <td>[deleted]</td>\n",
       "      <td>mentalhealth</td>\n",
       "      <td>2021-03-03 12:18:00</td>\n",
       "      <td>1</td>\n",
       "    </tr>\n",
       "    <tr>\n",
       "      <th>1</th>\n",
       "      <td>1614791523</td>\n",
       "      <td>https://www.reddit.com/r/mentalhealth/comments...</td>\n",
       "      <td>lwyz3p</td>\n",
       "      <td>1</td>\n",
       "      <td>Even though I wanted someone to notice how I'm...</td>\n",
       "      <td>[deleted]</td>\n",
       "      <td>mentalhealth</td>\n",
       "      <td>2021-03-03 12:12:03</td>\n",
       "      <td>1</td>\n",
       "    </tr>\n",
       "    <tr>\n",
       "      <th>2</th>\n",
       "      <td>1614790739</td>\n",
       "      <td>https://www.reddit.com/r/mentalhealth/comments...</td>\n",
       "      <td>lwyn5a</td>\n",
       "      <td>3</td>\n",
       "      <td>Does anyone ever feel like they have an episod...</td>\n",
       "      <td>it doesn't happen al of the time, but theres a...</td>\n",
       "      <td>mentalhealth</td>\n",
       "      <td>2021-03-03 11:58:59</td>\n",
       "      <td>1</td>\n",
       "    </tr>\n",
       "    <tr>\n",
       "      <th>3</th>\n",
       "      <td>1614790227</td>\n",
       "      <td>https://www.reddit.com/r/mentalhealth/comments...</td>\n",
       "      <td>lwyfv8</td>\n",
       "      <td>4</td>\n",
       "      <td>Need some help and advice please</td>\n",
       "      <td>Hi everyone I’m 19F and this is my first ever ...</td>\n",
       "      <td>mentalhealth</td>\n",
       "      <td>2021-03-03 11:50:27</td>\n",
       "      <td>1</td>\n",
       "    </tr>\n",
       "    <tr>\n",
       "      <th>4</th>\n",
       "      <td>1614790100</td>\n",
       "      <td>https://www.reddit.com/r/mentalhealth/comments...</td>\n",
       "      <td>lwye2m</td>\n",
       "      <td>1</td>\n",
       "      <td>Im trying to understand myself, but cant seem ...</td>\n",
       "      <td>I cant tell where to start... Im sorry that I ...</td>\n",
       "      <td>mentalhealth</td>\n",
       "      <td>2021-03-03 11:48:20</td>\n",
       "      <td>1</td>\n",
       "    </tr>\n",
       "  </tbody>\n",
       "</table>\n",
       "</div>"
      ],
      "text/plain": [
       "   created_utc                                                url      id  \\\n",
       "0   1614791880  https://www.reddit.com/r/mentalhealth/comments...  lwz48u   \n",
       "1   1614791523  https://www.reddit.com/r/mentalhealth/comments...  lwyz3p   \n",
       "2   1614790739  https://www.reddit.com/r/mentalhealth/comments...  lwyn5a   \n",
       "3   1614790227  https://www.reddit.com/r/mentalhealth/comments...  lwyfv8   \n",
       "4   1614790100  https://www.reddit.com/r/mentalhealth/comments...  lwye2m   \n",
       "\n",
       "   num_comments                                              title  \\\n",
       "0             8               What to do during an anxiety attack?   \n",
       "1             1  Even though I wanted someone to notice how I'm...   \n",
       "2             3  Does anyone ever feel like they have an episod...   \n",
       "3             4                   Need some help and advice please   \n",
       "4             1  Im trying to understand myself, but cant seem ...   \n",
       "\n",
       "                                            selftext     subreddit  \\\n",
       "0                                          [deleted]  mentalhealth   \n",
       "1                                          [deleted]  mentalhealth   \n",
       "2  it doesn't happen al of the time, but theres a...  mentalhealth   \n",
       "3  Hi everyone I’m 19F and this is my first ever ...  mentalhealth   \n",
       "4  I cant tell where to start... Im sorry that I ...  mentalhealth   \n",
       "\n",
       "             timestamp  is_mental  \n",
       "0  2021-03-03 12:18:00          1  \n",
       "1  2021-03-03 12:12:03          1  \n",
       "2  2021-03-03 11:58:59          1  \n",
       "3  2021-03-03 11:50:27          1  \n",
       "4  2021-03-03 11:48:20          1  "
      ]
     },
     "execution_count": 8,
     "metadata": {},
     "output_type": "execute_result"
    }
   ],
   "source": [
    "# Viewing the first 5 rows\n",
    "df.head(5)"
   ]
  },
  {
   "cell_type": "code",
   "execution_count": 9,
   "metadata": {},
   "outputs": [
    {
     "data": {
      "text/plain": [
       "(2450, 9)"
      ]
     },
     "execution_count": 9,
     "metadata": {},
     "output_type": "execute_result"
    }
   ],
   "source": [
    "# Viewing the shape\n",
    "df.shape"
   ]
  },
  {
   "cell_type": "code",
   "execution_count": 10,
   "metadata": {},
   "outputs": [
    {
     "data": {
      "text/plain": [
       "created_utc      int64\n",
       "url             object\n",
       "id              object\n",
       "num_comments     int64\n",
       "title           object\n",
       "selftext        object\n",
       "subreddit       object\n",
       "timestamp       object\n",
       "is_mental        int64\n",
       "dtype: object"
      ]
     },
     "execution_count": 10,
     "metadata": {},
     "output_type": "execute_result"
    }
   ],
   "source": [
    "# Checking to see if any of the data types look wrong\n",
    "df.dtypes"
   ]
  },
  {
   "cell_type": "code",
   "execution_count": 11,
   "metadata": {},
   "outputs": [
    {
     "data": {
      "text/plain": [
       "created_utc        0\n",
       "url                0\n",
       "id                 0\n",
       "num_comments       0\n",
       "title              0\n",
       "selftext        1106\n",
       "subreddit          0\n",
       "timestamp          0\n",
       "is_mental          0\n",
       "dtype: int64"
      ]
     },
     "execution_count": 11,
     "metadata": {},
     "output_type": "execute_result"
    }
   ],
   "source": [
    "# Checking for nulls\n",
    "df.isnull().sum()"
   ]
  },
  {
   "cell_type": "code",
   "execution_count": 12,
   "metadata": {
    "collapsed": true,
    "jupyter": {
     "outputs_hidden": true
    }
   },
   "outputs": [
    {
     "data": {
      "text/plain": [
       "created_utc        0\n",
       "url                0\n",
       "id                 0\n",
       "num_comments       0\n",
       "title              0\n",
       "selftext        1106\n",
       "subreddit          0\n",
       "timestamp          0\n",
       "is_mental          0\n",
       "dtype: int64"
      ]
     },
     "execution_count": 12,
     "metadata": {},
     "output_type": "execute_result"
    }
   ],
   "source": [
    "# Replacing '[deleted]' with '' in the 'selftext' column\n",
    "df['selftext'] = df['selftext'].replace({'[deleted]': ''})"
   ]
  },
  {
   "cell_type": "code",
   "execution_count": 61,
   "metadata": {},
   "outputs": [
    {
     "data": {
      "text/html": [
       "<div>\n",
       "<style scoped>\n",
       "    .dataframe tbody tr th:only-of-type {\n",
       "        vertical-align: middle;\n",
       "    }\n",
       "\n",
       "    .dataframe tbody tr th {\n",
       "        vertical-align: top;\n",
       "    }\n",
       "\n",
       "    .dataframe thead th {\n",
       "        text-align: right;\n",
       "    }\n",
       "</style>\n",
       "<table border=\"1\" class=\"dataframe\">\n",
       "  <thead>\n",
       "    <tr style=\"text-align: right;\">\n",
       "      <th></th>\n",
       "      <th>created_utc</th>\n",
       "      <th>url</th>\n",
       "      <th>id</th>\n",
       "      <th>num_comments</th>\n",
       "      <th>title</th>\n",
       "      <th>selftext</th>\n",
       "      <th>subreddit</th>\n",
       "      <th>timestamp</th>\n",
       "      <th>is_mental</th>\n",
       "    </tr>\n",
       "  </thead>\n",
       "  <tbody>\n",
       "    <tr>\n",
       "      <th>0</th>\n",
       "      <td>1614791880</td>\n",
       "      <td>https://www.reddit.com/r/mentalhealth/comments...</td>\n",
       "      <td>lwz48u</td>\n",
       "      <td>8</td>\n",
       "      <td>What to do during an anxiety attack?</td>\n",
       "      <td></td>\n",
       "      <td>mentalhealth</td>\n",
       "      <td>2021-03-03 12:18:00</td>\n",
       "      <td>1</td>\n",
       "    </tr>\n",
       "    <tr>\n",
       "      <th>1</th>\n",
       "      <td>1614791523</td>\n",
       "      <td>https://www.reddit.com/r/mentalhealth/comments...</td>\n",
       "      <td>lwyz3p</td>\n",
       "      <td>1</td>\n",
       "      <td>Even though I wanted someone to notice how I'm...</td>\n",
       "      <td></td>\n",
       "      <td>mentalhealth</td>\n",
       "      <td>2021-03-03 12:12:03</td>\n",
       "      <td>1</td>\n",
       "    </tr>\n",
       "    <tr>\n",
       "      <th>2</th>\n",
       "      <td>1614790739</td>\n",
       "      <td>https://www.reddit.com/r/mentalhealth/comments...</td>\n",
       "      <td>lwyn5a</td>\n",
       "      <td>3</td>\n",
       "      <td>Does anyone ever feel like they have an episod...</td>\n",
       "      <td>it doesn't happen al of the time, but theres a...</td>\n",
       "      <td>mentalhealth</td>\n",
       "      <td>2021-03-03 11:58:59</td>\n",
       "      <td>1</td>\n",
       "    </tr>\n",
       "    <tr>\n",
       "      <th>3</th>\n",
       "      <td>1614790227</td>\n",
       "      <td>https://www.reddit.com/r/mentalhealth/comments...</td>\n",
       "      <td>lwyfv8</td>\n",
       "      <td>4</td>\n",
       "      <td>Need some help and advice please</td>\n",
       "      <td>Hi everyone I’m 19F and this is my first ever ...</td>\n",
       "      <td>mentalhealth</td>\n",
       "      <td>2021-03-03 11:50:27</td>\n",
       "      <td>1</td>\n",
       "    </tr>\n",
       "    <tr>\n",
       "      <th>4</th>\n",
       "      <td>1614790100</td>\n",
       "      <td>https://www.reddit.com/r/mentalhealth/comments...</td>\n",
       "      <td>lwye2m</td>\n",
       "      <td>1</td>\n",
       "      <td>Im trying to understand myself, but cant seem ...</td>\n",
       "      <td>I cant tell where to start... Im sorry that I ...</td>\n",
       "      <td>mentalhealth</td>\n",
       "      <td>2021-03-03 11:48:20</td>\n",
       "      <td>1</td>\n",
       "    </tr>\n",
       "  </tbody>\n",
       "</table>\n",
       "</div>"
      ],
      "text/plain": [
       "   created_utc                                                url      id  \\\n",
       "0   1614791880  https://www.reddit.com/r/mentalhealth/comments...  lwz48u   \n",
       "1   1614791523  https://www.reddit.com/r/mentalhealth/comments...  lwyz3p   \n",
       "2   1614790739  https://www.reddit.com/r/mentalhealth/comments...  lwyn5a   \n",
       "3   1614790227  https://www.reddit.com/r/mentalhealth/comments...  lwyfv8   \n",
       "4   1614790100  https://www.reddit.com/r/mentalhealth/comments...  lwye2m   \n",
       "\n",
       "   num_comments                                              title  \\\n",
       "0             8               What to do during an anxiety attack?   \n",
       "1             1  Even though I wanted someone to notice how I'm...   \n",
       "2             3  Does anyone ever feel like they have an episod...   \n",
       "3             4                   Need some help and advice please   \n",
       "4             1  Im trying to understand myself, but cant seem ...   \n",
       "\n",
       "                                            selftext     subreddit  \\\n",
       "0                                                     mentalhealth   \n",
       "1                                                     mentalhealth   \n",
       "2  it doesn't happen al of the time, but theres a...  mentalhealth   \n",
       "3  Hi everyone I’m 19F and this is my first ever ...  mentalhealth   \n",
       "4  I cant tell where to start... Im sorry that I ...  mentalhealth   \n",
       "\n",
       "             timestamp  is_mental  \n",
       "0  2021-03-03 12:18:00          1  \n",
       "1  2021-03-03 12:12:03          1  \n",
       "2  2021-03-03 11:58:59          1  \n",
       "3  2021-03-03 11:50:27          1  \n",
       "4  2021-03-03 11:48:20          1  "
      ]
     },
     "execution_count": 61,
     "metadata": {},
     "output_type": "execute_result"
    }
   ],
   "source": [
    "df.head()"
   ]
  },
  {
   "cell_type": "markdown",
   "metadata": {},
   "source": [
    "There are 1106 nulls in selftext. This is most likely because there are no responses to a post. This feels likely possible because the most recent posts were scraped, and there may have no been enough time for individuals to comment on posts. Also, if a subreddit is less active, there may be less comment activity."
   ]
  },
  {
   "cell_type": "code",
   "execution_count": 13,
   "metadata": {},
   "outputs": [
    {
     "data": {
      "text/plain": [
       "is_mental\n",
       "0    1103\n",
       "1       3\n",
       "Name: selftext, dtype: int64"
      ]
     },
     "execution_count": 13,
     "metadata": {},
     "output_type": "execute_result"
    }
   ],
   "source": [
    "# evaluating the split of nulls in selftext\n",
    "df['selftext'].isnull().groupby(df['is_mental']).sum().astype(int).sort_values(ascending=False)"
   ]
  },
  {
   "cell_type": "markdown",
   "metadata": {},
   "source": [
    "The nulls in 'selftext' is heavily skewed to the Coronavirus group - this is in the comments section of the posts\n",
    "Going to combine the comments and title posts and see how that helps\n",
    "and also have a model where they're separated"
   ]
  },
  {
   "cell_type": "code",
   "execution_count": 47,
   "metadata": {},
   "outputs": [
    {
     "data": {
      "text/html": [
       "<div>\n",
       "<style scoped>\n",
       "    .dataframe tbody tr th:only-of-type {\n",
       "        vertical-align: middle;\n",
       "    }\n",
       "\n",
       "    .dataframe tbody tr th {\n",
       "        vertical-align: top;\n",
       "    }\n",
       "\n",
       "    .dataframe thead th {\n",
       "        text-align: right;\n",
       "    }\n",
       "</style>\n",
       "<table border=\"1\" class=\"dataframe\">\n",
       "  <thead>\n",
       "    <tr style=\"text-align: right;\">\n",
       "      <th></th>\n",
       "      <th>count</th>\n",
       "      <th>mean</th>\n",
       "      <th>std</th>\n",
       "      <th>min</th>\n",
       "      <th>25%</th>\n",
       "      <th>50%</th>\n",
       "      <th>75%</th>\n",
       "      <th>max</th>\n",
       "    </tr>\n",
       "  </thead>\n",
       "  <tbody>\n",
       "    <tr>\n",
       "      <th>created_utc</th>\n",
       "      <td>2450.0</td>\n",
       "      <td>1.614481e+09</td>\n",
       "      <td>187964.277379</td>\n",
       "      <td>1.614214e+09</td>\n",
       "      <td>1.614330e+09</td>\n",
       "      <td>1.614413e+09</td>\n",
       "      <td>1.614716e+09</td>\n",
       "      <td>1.614894e+09</td>\n",
       "    </tr>\n",
       "    <tr>\n",
       "      <th>num_comments</th>\n",
       "      <td>2450.0</td>\n",
       "      <td>2.326776e+01</td>\n",
       "      <td>156.388067</td>\n",
       "      <td>0.000000e+00</td>\n",
       "      <td>2.000000e+00</td>\n",
       "      <td>4.000000e+00</td>\n",
       "      <td>9.000000e+00</td>\n",
       "      <td>5.250000e+03</td>\n",
       "    </tr>\n",
       "    <tr>\n",
       "      <th>is_mental</th>\n",
       "      <td>2450.0</td>\n",
       "      <td>4.897959e-01</td>\n",
       "      <td>0.499998</td>\n",
       "      <td>0.000000e+00</td>\n",
       "      <td>0.000000e+00</td>\n",
       "      <td>0.000000e+00</td>\n",
       "      <td>1.000000e+00</td>\n",
       "      <td>1.000000e+00</td>\n",
       "    </tr>\n",
       "  </tbody>\n",
       "</table>\n",
       "</div>"
      ],
      "text/plain": [
       "               count          mean            std           min           25%  \\\n",
       "created_utc   2450.0  1.614481e+09  187964.277379  1.614214e+09  1.614330e+09   \n",
       "num_comments  2450.0  2.326776e+01     156.388067  0.000000e+00  2.000000e+00   \n",
       "is_mental     2450.0  4.897959e-01       0.499998  0.000000e+00  0.000000e+00   \n",
       "\n",
       "                       50%           75%           max  \n",
       "created_utc   1.614413e+09  1.614716e+09  1.614894e+09  \n",
       "num_comments  4.000000e+00  9.000000e+00  5.250000e+03  \n",
       "is_mental     0.000000e+00  1.000000e+00  1.000000e+00  "
      ]
     },
     "execution_count": 47,
     "metadata": {},
     "output_type": "execute_result"
    }
   ],
   "source": [
    "df.describe().T"
   ]
  },
  {
   "cell_type": "code",
   "execution_count": 14,
   "metadata": {},
   "outputs": [
    {
     "data": {
      "text/plain": [
       "False    2450\n",
       "Name: id, dtype: int64"
      ]
     },
     "execution_count": 14,
     "metadata": {},
     "output_type": "execute_result"
    }
   ],
   "source": [
    "# Checking for duplicate values\n",
    "df['id'].duplicated().value_counts()"
   ]
  },
  {
   "cell_type": "markdown",
   "metadata": {},
   "source": [
    "There are no duplicates!"
   ]
  },
  {
   "cell_type": "code",
   "execution_count": 15,
   "metadata": {},
   "outputs": [
    {
     "data": {
      "text/plain": [
       "0                                                      \n",
       "1                                                      \n",
       "2     it doesn't happen al of the time, but theres a...\n",
       "3     Hi everyone I’m 19F and this is my first ever ...\n",
       "4     I cant tell where to start... Im sorry that I ...\n",
       "5     I really struggle to motivate myself. People h...\n",
       "6     Have you ever experienced the sensation of goi...\n",
       "7     So since i was little i was sexually abused an...\n",
       "8     I am not a social person. During the lockdown ...\n",
       "9     I'm feeling okay right now but how do I make i...\n",
       "10    I feel like ever since the pandemic started I ...\n",
       "11                                                     \n",
       "12    I hate my social anxiety so much, it doesn't m...\n",
       "13    Today I had my first convo with my therapist. ...\n",
       "14    my motivation recently has just been out the w...\n",
       "15    Hi there. I’m a 22 year old man who is struggl...\n",
       "16    Here's the link!\\n\\n[https://discord.gg/Ce3v2b...\n",
       "17                                                     \n",
       "18    I live with a family where mental health is ov...\n",
       "19    My mother has paranoid schizophrenia and it ge...\n",
       "Name: selftext, dtype: object"
      ]
     },
     "execution_count": 15,
     "metadata": {},
     "output_type": "execute_result"
    }
   ],
   "source": [
    "# Viewing 20 posts to see what type of letters I may need to remove\n",
    "df.selftext.head(20)"
   ]
  },
  {
   "cell_type": "markdown",
   "metadata": {},
   "source": [
    "### Visualize correlation/distribution"
   ]
  },
  {
   "cell_type": "code",
   "execution_count": 66,
   "metadata": {},
   "outputs": [
    {
     "data": {
      "image/png": "[encoded data removed]",
      "text/plain": [
       "<Figure size 540x540 with 12 Axes>"
      ]
     },
     "metadata": {
      "needs_background": "light"
     },
     "output_type": "display_data"
    }
   ],
   "source": [
    "sns.pairplot(df);"
   ]
  },
  {
   "cell_type": "markdown",
   "metadata": {},
   "source": [
    "There appears to be a larger distribution with regards to the number of comments attribute to a post for the r/Coronavirus subreddit (is_mental = 0) than for posts on r/mentalhealth (is_mental = 1)"
   ]
  },
  {
   "cell_type": "code",
   "execution_count": 67,
   "metadata": {},
   "outputs": [
    {
     "data": {
      "text/plain": [
       "0    1250\n",
       "1    1200\n",
       "Name: is_mental, dtype: int64"
      ]
     },
     "execution_count": 67,
     "metadata": {},
     "output_type": "execute_result"
    }
   ],
   "source": [
    "df.is_mental.value_counts()"
   ]
  },
  {
   "cell_type": "code",
   "execution_count": 16,
   "metadata": {},
   "outputs": [
    {
     "data": {
      "text/plain": [
       "0                  What to do during an anxiety attack?\n",
       "1     Even though I wanted someone to notice how I'm...\n",
       "2     Does anyone ever feel like they have an episod...\n",
       "3                      Need some help and advice please\n",
       "4     Im trying to understand myself, but cant seem ...\n",
       "5                          Motivation is so hard to get\n",
       "6     What are your opinions on this? I’d appreciate...\n",
       "7     Everyone just uses me for sex and i have offic...\n",
       "8     How can I get my back my feelings when nothing...\n",
       "9              How to sort of \"suicide-proof\" my house?\n",
       "10            I don't know how to motivate myself again\n",
       "11                              I feel sad all the time\n",
       "12                                   Kahoot and Anxiety\n",
       "13       Does anyone have experience with EMDR therapy?\n",
       "14                         mentally/physically drained?\n",
       "15             I can’t tell if I’ve lost my mind or not\n",
       "16       Ryry's Mental Health Lounge is up and running!\n",
       "17                        I don’t want to lose a friend\n",
       "18        I have low self esteem and I just can't study\n",
       "19    Mom going through a rough patch with schizophr...\n",
       "Name: title, dtype: object"
      ]
     },
     "execution_count": 16,
     "metadata": {},
     "output_type": "execute_result"
    }
   ],
   "source": [
    "# Checking the title of posts in the r/mentalhealth subreddit\n",
    "df.loc[df.is_mental == 1, 'title'].head(20)"
   ]
  },
  {
   "cell_type": "code",
   "execution_count": 17,
   "metadata": {},
   "outputs": [
    {
     "data": {
      "text/plain": [
       "1200              Are Face Masks Effective? The Evidence.\n",
       "1201    Texas vaccine rollout ranks 48th among states ...\n",
       "1202    Texas Vaccine Rollout Ranks 48th Among States ...\n",
       "1203    In The Biggest Jump of The Pandemic, Brazil Se...\n",
       "1204    Texas &amp; Mississippi Both Lift Mask Mandate...\n",
       "1205    Govt investigates phone app that detects Covid...\n",
       "1206    Do you still need a mask? See which Texas busi...\n",
       "1207    COVID-19 vaccine deliveries to African nations...\n",
       "1208          Anthony Fauci Pleads: Don’t Declare Victory\n",
       "1209    Bharat Biotech's COVID-19 Shot 81% Effective, ...\n",
       "1210    Germany: Merkel, state leaders mull coronaviru...\n",
       "1211                           Free $200 amazon gift card\n",
       "1212    Qantas to Start Using Digital Health Pass App ...\n",
       "1213    Poland strikes deal to produce Novavax COVID-1...\n",
       "1214    Massachusetts opening up vaccine eligibility t...\n",
       "1215    CVS Lists Teachers As Eligible For COVID Vacci...\n",
       "1216    Alamo Drafthouse, Target, Macy’s are not havin...\n",
       "1217    Why are Uganda's infections/deaths extremely low?\n",
       "1218    Stockholm Endures 100% Spike in Covid Cases as...\n",
       "1219    Amazon bans book exposing U.S. COVID chaos–a c...\n",
       "Name: title, dtype: object"
      ]
     },
     "execution_count": 17,
     "metadata": {},
     "output_type": "execute_result"
    }
   ],
   "source": [
    "# Checking the title of posts in the r/Coronavirus subreddit\n",
    "df.loc[df.is_mental == 0, 'title'].head(20)"
   ]
  },
  {
   "cell_type": "markdown",
   "metadata": {},
   "source": [
    "Need to get rid of dollar signs, percent signs, slashes, question marks, quotations"
   ]
  },
  {
   "cell_type": "markdown",
   "metadata": {},
   "source": [
    "## Preprocessing"
   ]
  },
  {
   "cell_type": "code",
   "execution_count": 18,
   "metadata": {},
   "outputs": [],
   "source": [
    "# Preprocessing function\n",
    "def titles_to_words(raw_title):\n",
    "    \n",
    "    # Get rid of accents\n",
    "    unaccented = unidecode.unidecode(raw_title)\n",
    "    \n",
    "    # Get rid of punctuation\n",
    "    letters_only = re.sub(\"&[^a-zA-Z]\", \" \", unaccented)\n",
    "    \n",
    "    # Get all lowercase words\n",
    "    words = letters_only.lower().split()\n",
    "    \n",
    "    # Instantiate and run Lemmatizer\n",
    "    lemmatizer = WordNetLemmatizer()\n",
    "    tokens_lem = [lemmatizer.lemmatize(i) for i in words]\n",
    "    \n",
    "    # Remove stop words\n",
    "    stops = set(stopwords.words('english'))\n",
    "    meaningful_words = [w for w in words if not w in stops]\n",
    "    \n",
    "    # Join into string and return the result.\n",
    "    return(\" \".join(meaningful_words))"
   ]
  },
  {
   "cell_type": "code",
   "execution_count": 19,
   "metadata": {},
   "outputs": [
    {
     "name": "stdout",
     "output_type": "stream",
     "text": [
      "Cleaning and parsing the titles...\n",
      "Comment 1000 of 2450.\n",
      "Comment 2000 of 2450.\n",
      "Done.\n"
     ]
    }
   ],
   "source": [
    "# Clean all titles\n",
    "total_titles = df.shape[0]\n",
    "clean_titles = []\n",
    "\n",
    "print(\"Cleaning and parsing the titles...\")\n",
    "\n",
    "j = 0\n",
    "for title in df['title']:\n",
    "    # Convert to words, then append to clean_train\n",
    "    clean_titles.append(titles_to_words(title))\n",
    "    \n",
    "    # If the index is divisible by 1000, print a message\n",
    "    if (j+1) % 1000 == 0:\n",
    "        print(f'Comment {j+1} of {total_titles}.')\n",
    "    \n",
    "    j += 1\n",
    "    \n",
    "    if j == total_titles:\n",
    "        print('Done.')"
   ]
  },
  {
   "cell_type": "code",
   "execution_count": 20,
   "metadata": {},
   "outputs": [
    {
     "data": {
      "text/html": [
       "<div>\n",
       "<style scoped>\n",
       "    .dataframe tbody tr th:only-of-type {\n",
       "        vertical-align: middle;\n",
       "    }\n",
       "\n",
       "    .dataframe tbody tr th {\n",
       "        vertical-align: top;\n",
       "    }\n",
       "\n",
       "    .dataframe thead th {\n",
       "        text-align: right;\n",
       "    }\n",
       "</style>\n",
       "<table border=\"1\" class=\"dataframe\">\n",
       "  <thead>\n",
       "    <tr style=\"text-align: right;\">\n",
       "      <th></th>\n",
       "      <th>created_utc</th>\n",
       "      <th>url</th>\n",
       "      <th>id</th>\n",
       "      <th>num_comments</th>\n",
       "      <th>title</th>\n",
       "      <th>selftext</th>\n",
       "      <th>subreddit</th>\n",
       "      <th>timestamp</th>\n",
       "      <th>is_mental</th>\n",
       "      <th>clean_title</th>\n",
       "    </tr>\n",
       "  </thead>\n",
       "  <tbody>\n",
       "    <tr>\n",
       "      <th>0</th>\n",
       "      <td>1614791880</td>\n",
       "      <td>https://www.reddit.com/r/mentalhealth/comments...</td>\n",
       "      <td>lwz48u</td>\n",
       "      <td>8</td>\n",
       "      <td>What to do during an anxiety attack?</td>\n",
       "      <td></td>\n",
       "      <td>mentalhealth</td>\n",
       "      <td>2021-03-03 12:18:00</td>\n",
       "      <td>1</td>\n",
       "      <td>anxiety attack?</td>\n",
       "    </tr>\n",
       "    <tr>\n",
       "      <th>1</th>\n",
       "      <td>1614791523</td>\n",
       "      <td>https://www.reddit.com/r/mentalhealth/comments...</td>\n",
       "      <td>lwyz3p</td>\n",
       "      <td>1</td>\n",
       "      <td>Even though I wanted someone to notice how I'm...</td>\n",
       "      <td></td>\n",
       "      <td>mentalhealth</td>\n",
       "      <td>2021-03-03 12:12:03</td>\n",
       "      <td>1</td>\n",
       "      <td>even though wanted someone notice i'm feeling ...</td>\n",
       "    </tr>\n",
       "    <tr>\n",
       "      <th>2</th>\n",
       "      <td>1614790739</td>\n",
       "      <td>https://www.reddit.com/r/mentalhealth/comments...</td>\n",
       "      <td>lwyn5a</td>\n",
       "      <td>3</td>\n",
       "      <td>Does anyone ever feel like they have an episod...</td>\n",
       "      <td>it doesn't happen al of the time, but theres a...</td>\n",
       "      <td>mentalhealth</td>\n",
       "      <td>2021-03-03 11:58:59</td>\n",
       "      <td>1</td>\n",
       "      <td>anyone ever feel like episode control words ac...</td>\n",
       "    </tr>\n",
       "  </tbody>\n",
       "</table>\n",
       "</div>"
      ],
      "text/plain": [
       "   created_utc                                                url      id  \\\n",
       "0   1614791880  https://www.reddit.com/r/mentalhealth/comments...  lwz48u   \n",
       "1   1614791523  https://www.reddit.com/r/mentalhealth/comments...  lwyz3p   \n",
       "2   1614790739  https://www.reddit.com/r/mentalhealth/comments...  lwyn5a   \n",
       "\n",
       "   num_comments                                              title  \\\n",
       "0             8               What to do during an anxiety attack?   \n",
       "1             1  Even though I wanted someone to notice how I'm...   \n",
       "2             3  Does anyone ever feel like they have an episod...   \n",
       "\n",
       "                                            selftext     subreddit  \\\n",
       "0                                                     mentalhealth   \n",
       "1                                                     mentalhealth   \n",
       "2  it doesn't happen al of the time, but theres a...  mentalhealth   \n",
       "\n",
       "             timestamp  is_mental  \\\n",
       "0  2021-03-03 12:18:00          1   \n",
       "1  2021-03-03 12:12:03          1   \n",
       "2  2021-03-03 11:58:59          1   \n",
       "\n",
       "                                         clean_title  \n",
       "0                                    anxiety attack?  \n",
       "1  even though wanted someone notice i'm feeling ...  \n",
       "2  anyone ever feel like episode control words ac...  "
      ]
     },
     "execution_count": 20,
     "metadata": {},
     "output_type": "execute_result"
    }
   ],
   "source": [
    "# Add cleaned titles to dataframe\n",
    "df = df.assign(clean_title = clean_titles)\n",
    "df.head(3)"
   ]
  },
  {
   "cell_type": "code",
   "execution_count": 76,
   "metadata": {},
   "outputs": [],
   "source": [
    "df[['num_comments', 'title', 'selftext', 'is_mental', 'clean_title', 'title_char_length', 'title_word_count']].to_csv('./data/cleaned_subreddits_1.csv')"
   ]
  },
  {
   "cell_type": "markdown",
   "metadata": {},
   "source": [
    "Train/Test/Split"
   ]
  },
  {
   "cell_type": "code",
   "execution_count": 25,
   "metadata": {},
   "outputs": [],
   "source": [
    "# omitting 'uncleanned title' and 'selftext' from the features list\n",
    "features = ['num_comments', 'clean_title', 'title_char_length', 'title_word_count']"
   ]
  },
  {
   "cell_type": "markdown",
   "metadata": {},
   "source": [
    "I'm going to start off with a model that only uses the clean title as a feature"
   ]
  },
  {
   "cell_type": "code",
   "execution_count": 33,
   "metadata": {},
   "outputs": [],
   "source": [
    "# features and target\n",
    "X = df['clean_title']\n",
    "y = df['is_mental']"
   ]
  },
  {
   "cell_type": "code",
   "execution_count": 34,
   "metadata": {},
   "outputs": [],
   "source": [
    "X_train, X_test, y_train, y_test = train_test_split(X, y, stratify = y, random_state = 42)"
   ]
  },
  {
   "cell_type": "markdown",
   "metadata": {},
   "source": [
    "Baseline score"
   ]
  },
  {
   "cell_type": "code",
   "execution_count": 35,
   "metadata": {},
   "outputs": [
    {
     "data": {
      "text/plain": [
       "0    0.510071\n",
       "1    0.489929\n",
       "Name: is_mental, dtype: float64"
      ]
     },
     "execution_count": 35,
     "metadata": {},
     "output_type": "execute_result"
    }
   ],
   "source": [
    "y_train.value_counts(normalize=True)"
   ]
  },
  {
   "cell_type": "markdown",
   "metadata": {},
   "source": [
    "This baseline score means that if a model were to predict that a post comes from r/mentalhealth subreddit, it would be correct 51% of the time. In order for a model that I develop to be considered useful, it must correctly predict that a post comes from the r/mentalhealth subreddit more than 51% of the time."
   ]
  },
  {
   "cell_type": "code",
   "execution_count": 36,
   "metadata": {},
   "outputs": [
    {
     "data": {
      "text/plain": [
       "228            normal read nightmarish stories catharsis?\n",
       "1621    fda approves johnson &amp; johnson's single-do...\n",
       "1893    j&amp;j single-dose covid-19 vaccine recommend...\n",
       "534     i'm always thinking future see future complete...\n",
       "214                                   wish exist anymore.\n",
       "Name: clean_title, dtype: object"
      ]
     },
     "execution_count": 36,
     "metadata": {},
     "output_type": "execute_result"
    }
   ],
   "source": [
    "X_train.head()"
   ]
  },
  {
   "cell_type": "markdown",
   "metadata": {},
   "source": [
    "Fit the text data in order to be modeled"
   ]
  },
  {
   "cell_type": "code",
   "execution_count": 37,
   "metadata": {},
   "outputs": [],
   "source": [
    "vect = CountVectorizer()\n",
    "\n",
    "# Fit the vectorizer on our corpus and transform\n",
    "X_train_vect = vect.fit_transform(X_train)\n",
    "X_train_vect = pd.DataFrame(X_train_vect.toarray(), columns=vect.get_feature_names())\n",
    "\n",
    "# Transform the test set\n",
    "X_test_vect = vect.transform(X_test)"
   ]
  },
  {
   "cell_type": "code",
   "execution_count": 38,
   "metadata": {},
   "outputs": [
    {
     "data": {
      "text/plain": [
       "4000"
      ]
     },
     "execution_count": 38,
     "metadata": {},
     "output_type": "execute_result"
    }
   ],
   "source": [
    "len(vect.get_feature_names())"
   ]
  },
  {
   "cell_type": "code",
   "execution_count": 39,
   "metadata": {},
   "outputs": [
    {
     "data": {
      "text/html": [
       "<div>\n",
       "<style scoped>\n",
       "    .dataframe tbody tr th:only-of-type {\n",
       "        vertical-align: middle;\n",
       "    }\n",
       "\n",
       "    .dataframe tbody tr th {\n",
       "        vertical-align: top;\n",
       "    }\n",
       "\n",
       "    .dataframe thead th {\n",
       "        text-align: right;\n",
       "    }\n",
       "</style>\n",
       "<table border=\"1\" class=\"dataframe\">\n",
       "  <thead>\n",
       "    <tr style=\"text-align: right;\">\n",
       "      <th></th>\n",
       "      <th>000</th>\n",
       "      <th>02</th>\n",
       "      <th>03</th>\n",
       "      <th>10</th>\n",
       "      <th>100</th>\n",
       "      <th>105</th>\n",
       "      <th>10am</th>\n",
       "      <th>11</th>\n",
       "      <th>11th</th>\n",
       "      <th>12</th>\n",
       "      <th>...</th>\n",
       "      <th>youtuber</th>\n",
       "      <th>yr</th>\n",
       "      <th>zamora</th>\n",
       "      <th>zealand</th>\n",
       "      <th>zeneca</th>\n",
       "      <th>zero</th>\n",
       "      <th>zone</th>\n",
       "      <th>zones</th>\n",
       "      <th>zoom</th>\n",
       "      <th>zyesami</th>\n",
       "    </tr>\n",
       "  </thead>\n",
       "  <tbody>\n",
       "    <tr>\n",
       "      <th>0</th>\n",
       "      <td>0</td>\n",
       "      <td>0</td>\n",
       "      <td>0</td>\n",
       "      <td>0</td>\n",
       "      <td>0</td>\n",
       "      <td>0</td>\n",
       "      <td>0</td>\n",
       "      <td>0</td>\n",
       "      <td>0</td>\n",
       "      <td>0</td>\n",
       "      <td>...</td>\n",
       "      <td>0</td>\n",
       "      <td>0</td>\n",
       "      <td>0</td>\n",
       "      <td>0</td>\n",
       "      <td>0</td>\n",
       "      <td>0</td>\n",
       "      <td>0</td>\n",
       "      <td>0</td>\n",
       "      <td>0</td>\n",
       "      <td>0</td>\n",
       "    </tr>\n",
       "    <tr>\n",
       "      <th>1</th>\n",
       "      <td>0</td>\n",
       "      <td>0</td>\n",
       "      <td>0</td>\n",
       "      <td>0</td>\n",
       "      <td>0</td>\n",
       "      <td>0</td>\n",
       "      <td>0</td>\n",
       "      <td>0</td>\n",
       "      <td>0</td>\n",
       "      <td>0</td>\n",
       "      <td>...</td>\n",
       "      <td>0</td>\n",
       "      <td>0</td>\n",
       "      <td>0</td>\n",
       "      <td>0</td>\n",
       "      <td>0</td>\n",
       "      <td>0</td>\n",
       "      <td>0</td>\n",
       "      <td>0</td>\n",
       "      <td>0</td>\n",
       "      <td>0</td>\n",
       "    </tr>\n",
       "    <tr>\n",
       "      <th>2</th>\n",
       "      <td>0</td>\n",
       "      <td>0</td>\n",
       "      <td>0</td>\n",
       "      <td>0</td>\n",
       "      <td>0</td>\n",
       "      <td>0</td>\n",
       "      <td>0</td>\n",
       "      <td>0</td>\n",
       "      <td>0</td>\n",
       "      <td>0</td>\n",
       "      <td>...</td>\n",
       "      <td>0</td>\n",
       "      <td>0</td>\n",
       "      <td>0</td>\n",
       "      <td>0</td>\n",
       "      <td>0</td>\n",
       "      <td>0</td>\n",
       "      <td>0</td>\n",
       "      <td>0</td>\n",
       "      <td>0</td>\n",
       "      <td>0</td>\n",
       "    </tr>\n",
       "    <tr>\n",
       "      <th>3</th>\n",
       "      <td>0</td>\n",
       "      <td>0</td>\n",
       "      <td>0</td>\n",
       "      <td>0</td>\n",
       "      <td>0</td>\n",
       "      <td>0</td>\n",
       "      <td>0</td>\n",
       "      <td>0</td>\n",
       "      <td>0</td>\n",
       "      <td>0</td>\n",
       "      <td>...</td>\n",
       "      <td>0</td>\n",
       "      <td>0</td>\n",
       "      <td>0</td>\n",
       "      <td>0</td>\n",
       "      <td>0</td>\n",
       "      <td>0</td>\n",
       "      <td>0</td>\n",
       "      <td>0</td>\n",
       "      <td>0</td>\n",
       "      <td>0</td>\n",
       "    </tr>\n",
       "    <tr>\n",
       "      <th>4</th>\n",
       "      <td>0</td>\n",
       "      <td>0</td>\n",
       "      <td>0</td>\n",
       "      <td>0</td>\n",
       "      <td>0</td>\n",
       "      <td>0</td>\n",
       "      <td>0</td>\n",
       "      <td>0</td>\n",
       "      <td>0</td>\n",
       "      <td>0</td>\n",
       "      <td>...</td>\n",
       "      <td>0</td>\n",
       "      <td>0</td>\n",
       "      <td>0</td>\n",
       "      <td>0</td>\n",
       "      <td>0</td>\n",
       "      <td>0</td>\n",
       "      <td>0</td>\n",
       "      <td>0</td>\n",
       "      <td>0</td>\n",
       "      <td>0</td>\n",
       "    </tr>\n",
       "  </tbody>\n",
       "</table>\n",
       "<p>5 rows × 4000 columns</p>\n",
       "</div>"
      ],
      "text/plain": [
       "   000  02  03  10  100  105  10am  11  11th  12  ...  youtuber  yr  zamora  \\\n",
       "0    0   0   0   0    0    0     0   0     0   0  ...         0   0       0   \n",
       "1    0   0   0   0    0    0     0   0     0   0  ...         0   0       0   \n",
       "2    0   0   0   0    0    0     0   0     0   0  ...         0   0       0   \n",
       "3    0   0   0   0    0    0     0   0     0   0  ...         0   0       0   \n",
       "4    0   0   0   0    0    0     0   0     0   0  ...         0   0       0   \n",
       "\n",
       "   zealand  zeneca  zero  zone  zones  zoom  zyesami  \n",
       "0        0       0     0     0      0     0        0  \n",
       "1        0       0     0     0      0     0        0  \n",
       "2        0       0     0     0      0     0        0  \n",
       "3        0       0     0     0      0     0        0  \n",
       "4        0       0     0     0      0     0        0  \n",
       "\n",
       "[5 rows x 4000 columns]"
      ]
     },
     "execution_count": 39,
     "metadata": {},
     "output_type": "execute_result"
    }
   ],
   "source": [
    "X_train_vect.head()"
   ]
  },
  {
   "cell_type": "markdown",
   "metadata": {},
   "source": [
    "Classifcation models"
   ]
  },
  {
   "cell_type": "code",
   "execution_count": 40,
   "metadata": {},
   "outputs": [
    {
     "name": "stdout",
     "output_type": "stream",
     "text": [
      "0.9390351391598873\n",
      "{'max_depth': 100, 'n_estimators': 20}\n"
     ]
    }
   ],
   "source": [
    "# Instantiate model\n",
    "rf = RandomForestClassifier(random_state=42, verbose=0)\n",
    "cross_val_score(rf, X_train_vect, y_train)\n",
    "\n",
    "# Set model params for GridSearch\n",
    "rf_params = {\n",
    "    'n_estimators': [15, 20, 25],\n",
    "    'max_depth': [20, 50, 100]\n",
    "}\n",
    "\n",
    "# Do GridSearch\n",
    "gs = GridSearchCV(rf, param_grid=rf_params, cv=3)\n",
    "gs.fit(X_train_vect, y_train)\n",
    "print(gs.best_score_)\n",
    "print(gs.best_params_)"
   ]
  },
  {
   "cell_type": "code",
   "execution_count": 41,
   "metadata": {},
   "outputs": [
    {
     "name": "stdout",
     "output_type": "stream",
     "text": [
      "CV score: 0.9390351391598873\n",
      "Training accuracy: 0.9880239520958084\n",
      "Testing accuracy: 0.9412724306688418\n"
     ]
    }
   ],
   "source": [
    "# Commenting out so this will not run every time\n",
    "# Instantiate model\n",
    "rf = RandomForestClassifier(max_depth = 100, n_estimators=20, random_state=42)\n",
    "\n",
    "# Fit model\n",
    "rf.fit(X_train_vect, y_train)\n",
    "\n",
    "# Get scores\n",
    "print('CV score:', cross_val_score(rf, X_train_vect, y_train, cv=3).mean())\n",
    "print('Training accuracy:', rf.score(X_train_vect, y_train))\n",
    "print('Testing accuracy:', rf.score(X_test_vect, y_test))"
   ]
  },
  {
   "cell_type": "code",
   "execution_count": 45,
   "metadata": {},
   "outputs": [
    {
     "name": "stdout",
     "output_type": "stream",
     "text": [
      "CV score: 0.932504522563058\n",
      "Training accuracy: 0.9624387588459444\n",
      "Testing accuracy: 0.9429037520391517\n"
     ]
    }
   ],
   "source": [
    "# Instantiate model\n",
    "logreg = LogisticRegression(solver='liblinear', penalty = \"l1\")\n",
    "\n",
    "# Fit on training data.\n",
    "logreg.fit(X_train_vect, y_train)\n",
    "\n",
    "# Get scores\n",
    "print('CV score:', cross_val_score(logreg, X_train_vect, y_train, cv=3).mean())\n",
    "print('Training accuracy:', logreg.score(X_train_vect, y_train))\n",
    "print('Testing accuracy:', logreg.score(X_test_vect, y_test))"
   ]
  },
  {
   "cell_type": "code",
   "execution_count": 43,
   "metadata": {},
   "outputs": [
    {
     "name": "stderr",
     "output_type": "stream",
     "text": [
      "/Users/ericrodriguez/opt/anaconda3/lib/python3.8/site-packages/sklearn/utils/validation.py:67: FutureWarning: Pass alpha=0.7 as keyword args. From version 0.25 passing these as positional arguments will result in an error\n",
      "  warnings.warn(\"Pass {} as keyword args. From version 0.25 \"\n"
     ]
    },
    {
     "name": "stdout",
     "output_type": "stream",
     "text": [
      "CV score: 0.9466497492598634\n",
      "Training accuracy: 0.9831246597713663\n",
      "Testing accuracy: 0.9592169657422512\n"
     ]
    }
   ],
   "source": [
    "# Instantiate model\n",
    "nb = MultinomialNB(.7)\n",
    "\n",
    "# Fit model\n",
    "nb.fit(X_train_vect, y_train)\n",
    "\n",
    "# Get scores\n",
    "print('CV score:', cross_val_score(nb, X_train_vect, y_train, cv=3).mean())\n",
    "print('Training accuracy:', nb.score(X_train_vect, y_train))\n",
    "print('Testing accuracy:', nb.score(X_test_vect, y_test))"
   ]
  },
  {
   "cell_type": "markdown",
   "metadata": {},
   "source": [
    "### Evaluation of Models\n",
    "**Random Forest Classifier** had the highest training accuracy\n",
    "\n",
    "**Multinomial Naive Bayes** had the highest testing accuracy\n",
    "\n",
    "**Logistic Regression with lasso regularization** had a testing accuracy that is closest to its training accuracy relative to the other two models, meaning that it is the least overfit model out of the three models. \n",
    "\n",
    "**Because of this, I'm going to create predictions using the Logistic Regression model**"
   ]
  },
  {
   "cell_type": "code",
   "execution_count": 46,
   "metadata": {},
   "outputs": [
    {
     "data": {
      "text/html": [
       "<div>\n",
       "<style scoped>\n",
       "    .dataframe tbody tr th:only-of-type {\n",
       "        vertical-align: middle;\n",
       "    }\n",
       "\n",
       "    .dataframe tbody tr th {\n",
       "        vertical-align: top;\n",
       "    }\n",
       "\n",
       "    .dataframe thead th {\n",
       "        text-align: right;\n",
       "    }\n",
       "</style>\n",
       "<table border=\"1\" class=\"dataframe\">\n",
       "  <thead>\n",
       "    <tr style=\"text-align: right;\">\n",
       "      <th></th>\n",
       "      <th>predict neg</th>\n",
       "      <th>predict pos</th>\n",
       "    </tr>\n",
       "  </thead>\n",
       "  <tbody>\n",
       "    <tr>\n",
       "      <th>actual neg</th>\n",
       "      <td>282</td>\n",
       "      <td>31</td>\n",
       "    </tr>\n",
       "    <tr>\n",
       "      <th>actual pos</th>\n",
       "      <td>4</td>\n",
       "      <td>296</td>\n",
       "    </tr>\n",
       "  </tbody>\n",
       "</table>\n",
       "</div>"
      ],
      "text/plain": [
       "            predict neg  predict pos\n",
       "actual neg          282           31\n",
       "actual pos            4          296"
      ]
     },
     "execution_count": 46,
     "metadata": {},
     "output_type": "execute_result"
    }
   ],
   "source": [
    "# Create confusion matrix\n",
    "predictions = logreg.predict(X_test_vect)\n",
    "cm = confusion_matrix(y_test, predictions)\n",
    "cm_df = pd.DataFrame(cm, columns=['predict neg', 'predict pos'], index=['actual neg', 'actual pos'])\n",
    "cm_df"
   ]
  },
  {
   "cell_type": "code",
   "execution_count": 47,
   "metadata": {},
   "outputs": [
    {
     "name": "stdout",
     "output_type": "stream",
     "text": [
      "Accuracy: 94.29%\n",
      "Misclassification rate: 5.71%\n",
      "Recall / Sensitivity: 98.67%\n",
      "Specificity: 90.1%\n",
      "Precision: 90.52%\n"
     ]
    }
   ],
   "source": [
    "# Calculating classification metrics using the logistic regression model\n",
    "tn, fp, fn, tp = confusion_matrix(y_test, predictions).ravel()\n",
    "\n",
    "accuracy = (tp + tn) / (tp + fn + fp + tn) * 100\n",
    "misclassification = (100 - accuracy)\n",
    "sensitivity = tp / (tp + fn) * 100\n",
    "specificity = tn / (tn + fp) * 100\n",
    "precision = tp / (tp + fp) * 100\n",
    "\n",
    "print(f'Accuracy: {round(accuracy, 2)}%')\n",
    "print(f'Misclassification rate: {round(misclassification, 2)}%')\n",
    "print(f'Recall / Sensitivity: {round(sensitivity, 2)}%')\n",
    "print(f'Specificity: {round(specificity, 2)}%')\n",
    "print(f'Precision: {round(precision, 2)}%')"
   ]
  },
  {
   "cell_type": "markdown",
   "metadata": {},
   "source": [
    "The accuracy score shows that the model is correctly predicting that a post comes from the correct subreddit 94.29% of the time, and misclassifying the posts 5.71% of the time.\n",
    "\n",
    "The precision score shows that out of all of the posts that are actually from the r/mentalhealth subreddit, the model predicted that a post came from r/mentalhealth 90.52% of the time\n",
    "\n",
    "Out of the posts predicted to be from r/mentalhealth, the model correctly predicted these posts 98.67% of the time.\n",
    "\n",
    "Out of the posts predicted to be from r/Coronavirus, the model correctly predicted these posts 90.1% of the time."
   ]
  },
  {
   "cell_type": "markdown",
   "metadata": {},
   "source": [
    "# Conclusion\n",
    "\n",
    "My baseline model had an accuracy score of 51%, and my logistic regression model has an accuracy of 94.29%, showing that the logisitc regression model is significantly better at predicting the correct subreddit.\n",
    "\n",
    "The accuracy may have been high for a few reasons - although there was a lot of talk regarding mental health on r/Coronavirus at the beginning of the pandemic, there is less discussion about mental health now. The data scraped was from the last few weeks (as of 3.9.21), and the context of the posts on r/Coronavirus has changed to discussiong related to vaccines and government policy.\n",
    "\n",
    "In order to make the model stronger, I need to scrape older data that has more overlap with the mental health subreddit. This may help illuminate the most important features that help predict correct classification.\n",
    "\n",
    "Moving forward, I can use the model on the US Coronavirus subreddit. There are more foum based posts on that subreddit, and it may have more overlap than the general coronavirus subreddit which contains active users from all over the world. There appears to be more similair language on the US coronavirus subreddit, and it would challenge my model more than the general Coronavirus subreddit.\n",
    "\n",
    "I can analyze the highest occuring words from both subreddits. This would help us understand what words the model considers the most important when predicting the outcome. This could also help us understand what words are indiciative of change sin mental health incidence and prevlence, which could allow us to utilize or generalize this model to text based web content outside of the mental health subreddit.\n",
    "\n",
    "Next steps will be using my own list of stop words, which could exlcude words such as 'coronavirus' or 'mental health'. Words will also be lemmatized."
   ]
  },
  {
   "cell_type": "code",
   "execution_count": null,
   "metadata": {},
   "outputs": [],
   "source": []
  }
 ],
 "metadata": {
  "kernelspec": {
   "display_name": "Python 3",
   "language": "python",
   "name": "python3"
  },
  "language_info": {
   "codemirror_mode": {
    "name": "ipython",
    "version": 3
   },
   "file_extension": ".py",
   "mimetype": "text/x-python",
   "name": "python",
   "nbconvert_exporter": "python",
   "pygments_lexer": "ipython3",
   "version": "3.8.5"
  }
 },
 "nbformat": 4,
 "nbformat_minor": 4
}
