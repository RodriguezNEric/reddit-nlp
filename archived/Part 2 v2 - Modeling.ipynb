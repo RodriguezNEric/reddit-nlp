{
 "cells": [
  {
   "cell_type": "markdown",
   "metadata": {},
   "source": [
    "# Project 3: Reddit data scraping\n",
    "\n",
    "## Part 2 - Data Cleaning and Basic EDA"
   ]
  },
  {
   "cell_type": "code",
   "execution_count": 1,
   "metadata": {
    "scrolled": true
   },
   "outputs": [
    {
     "name": "stderr",
     "output_type": "stream",
     "text": [
      "/Users/ericrodriguez/opt/anaconda3/lib/python3.8/site-packages/xgboost/compat.py:31: FutureWarning: pandas.Int64Index is deprecated and will be removed from pandas in a future version. Use pandas.Index with the appropriate dtype instead.\n",
      "  from pandas import MultiIndex, Int64Index\n"
     ]
    }
   ],
   "source": [
    "# General imports\n",
    "import pandas as pd\n",
    "import seaborn as sns\n",
    "import numpy as np\n",
    "%matplotlib inline \n",
    "import matplotlib.pyplot as plt\n",
    "import pickle\n",
    "\n",
    "# For Natural Language Processing\n",
    "import regex as re\n",
    "import unidecode\n",
    "from nltk.stem import WordNetLemmatizer\n",
    "from nltk.sentiment.vader import SentimentIntensityAnalyzer\n",
    "from nltk.tokenize import sent_tokenize, word_tokenize, RegexpTokenizer\n",
    "from nltk.corpus import stopwords\n",
    "from sklearn.feature_extraction.text import CountVectorizer, TfidfVectorizer\n",
    "\n",
    "# For Classification Modeling\n",
    "from sklearn.model_selection import train_test_split, cross_val_score, GridSearchCV\n",
    "from sklearn.linear_model import LogisticRegression\n",
    "from sklearn.ensemble import RandomForestClassifier, BaggingClassifier, AdaBoostClassifier\n",
    "from sklearn.naive_bayes import MultinomialNB\n",
    "from sklearn.svm import SVC\n",
    "from sklearn.pipeline import Pipeline\n",
    "from xgboost import XGBClassifier\n",
    "\n",
    "# For Evaluation\n",
    "from sklearn.metrics import accuracy_score, confusion_matrix, plot_confusion_matrix, plot_roc_curve, roc_auc_score, classification_report"
   ]
  },
  {
   "cell_type": "code",
   "execution_count": 2,
   "metadata": {
    "scrolled": true
   },
   "outputs": [],
   "source": [
    "# Read in both subreddit datasets\n",
    "mental_df = pd.read_csv('../data/mentalhealth_211001_171956.csv', encoding = 'utf-8')\n",
    "covid_df = pd.read_csv('../data/CoronavirusUS_211001_172844.csv', encoding = 'utf-8')\n",
    "\n",
    "# Combine into single dataframe\n",
    "df = pd.concat([mental_df, covid_df])\n",
    "df = df.reset_index(drop=True)\n",
    "df['is_mental'] = df['subreddit'].map(lambda t: 1 if t == 'mentalhealth' else 0)"
   ]
  },
  {
   "cell_type": "code",
   "execution_count": 3,
   "metadata": {
    "scrolled": true
   },
   "outputs": [
    {
     "data": {
      "text/plain": [
       "(3999, 10)"
      ]
     },
     "execution_count": 3,
     "metadata": {},
     "output_type": "execute_result"
    }
   ],
   "source": [
    "# View the shape\n",
    "df.shape"
   ]
  },
  {
   "cell_type": "code",
   "execution_count": 4,
   "metadata": {
    "scrolled": true
   },
   "outputs": [
    {
     "data": {
      "text/plain": [
       "created_utc      int64\n",
       "url             object\n",
       "full_link       object\n",
       "id              object\n",
       "num_comments     int64\n",
       "title           object\n",
       "selftext        object\n",
       "subreddit       object\n",
       "timestamp       object\n",
       "is_mental        int64\n",
       "dtype: object"
      ]
     },
     "execution_count": 4,
     "metadata": {},
     "output_type": "execute_result"
    }
   ],
   "source": [
    "# Check datatypes \n",
    "df.dtypes"
   ]
  },
  {
   "cell_type": "code",
   "execution_count": 5,
   "metadata": {
    "scrolled": true
   },
   "outputs": [
    {
     "data": {
      "text/plain": [
       "created_utc        0\n",
       "url                0\n",
       "full_link          0\n",
       "id                 0\n",
       "num_comments       0\n",
       "title              0\n",
       "selftext        1244\n",
       "subreddit          0\n",
       "timestamp          0\n",
       "is_mental          0\n",
       "dtype: int64"
      ]
     },
     "execution_count": 5,
     "metadata": {},
     "output_type": "execute_result"
    }
   ],
   "source": [
    "# Check for nulls\n",
    "df.isnull().sum()"
   ]
  },
  {
   "cell_type": "markdown",
   "metadata": {},
   "source": [
    "There is 1244 null cells in the \"selftext\" column"
   ]
  },
  {
   "cell_type": "code",
   "execution_count": 6,
   "metadata": {
    "scrolled": true
   },
   "outputs": [
    {
     "data": {
      "text/plain": [
       "is_mental\n",
       "0    1226\n",
       "1      18\n",
       "Name: selftext, dtype: int64"
      ]
     },
     "execution_count": 6,
     "metadata": {},
     "output_type": "execute_result"
    }
   ],
   "source": [
    "# Check the number of missing nulls by subreddit group\n",
    "df['selftext'].isnull().groupby(df['is_mental']).sum()"
   ]
  },
  {
   "cell_type": "markdown",
   "metadata": {},
   "source": [
    "It is clear here that there are more missing selftext values in the r/CoronavirusUS subreddit than in the r/mentalhealth subreddit.\n",
    "\n",
    "After scanning through the data, there is evidence of [removed] and [deleted] values in the selftext\n",
    "There is also links to other articles which starts with [http], which will need to be cleaned"
   ]
  },
  {
   "cell_type": "code",
   "execution_count": 7,
   "metadata": {
    "scrolled": true
   },
   "outputs": [
    {
     "data": {
      "text/plain": [
       "0     Has anyone else been completely unable to moni...\n",
       "1     Is it normal to cry when you see someone you love\n",
       "2                                 Somethings gotta give\n",
       "3                                      Train Your Brain\n",
       "4                                         Rage attacks?\n",
       "5                                     I have a Question\n",
       "6     Taking off of work once a month because of maj...\n",
       "7                               I can't do this anymore\n",
       "8     I have an irrational fear of a \"trope\" in fict...\n",
       "9     My old friends from school are anxiety trigger...\n",
       "10    Does this count as an ED? If so, is there a pr...\n",
       "11                   Why dont I feel sad after a death.\n",
       "12    if i no longer live in a toxic environment, wh...\n",
       "13                                         Hopelessness\n",
       "14          What are the best things for mental health?\n",
       "15          Complex PTSD and in-patient hospitalization\n",
       "16                               Am I Really Depressed?\n",
       "17                                Am I self-sabotaging?\n",
       "18    I hate how I am but won't do anything about it...\n",
       "19    My partner's depression is worsening and I fee...\n",
       "Name: title, dtype: object"
      ]
     },
     "execution_count": 7,
     "metadata": {},
     "output_type": "execute_result"
    }
   ],
   "source": [
    "# View titles from r/mentalhealth\n",
    "df.loc[df['is_mental'] ==1, 'title'].head(20)"
   ]
  },
  {
   "cell_type": "code",
   "execution_count": 8,
   "metadata": {
    "scrolled": true
   },
   "outputs": [
    {
     "data": {
      "text/plain": [
       "2000    Doubling Up Masks Creates ‘Obstacle Course’ Fo...\n",
       "2001                                    Covid 19 sweating\n",
       "2002    COVID-19 2021 - How to stay safe from COVID-19...\n",
       "2003        64% of Doomers Don’t Believe Fauci Said This:\n",
       "2004    Nearly 12,000 doses of Moderna COVID-19 vaccin...\n",
       "2005    Whitmer: It will take 2 years to get 70% of Mi...\n",
       "2006                                          Frustrated!\n",
       "2007    Now, within his first 100 days in office, Pres...\n",
       "2008    [OC] Top Countries by Number of Covid-19 Vacci...\n",
       "2009    I don’t think I’ll ever be able to forgive people\n",
       "2010    Will the vaccine be less effective in stopping...\n",
       "2011                         Contact traced for no reason\n",
       "2012    400,000 Americans have died of COVID-19. As a ...\n",
       "2013    Amazon offers to help Biden administration wit...\n",
       "2014    About 4.2% of the US population have received ...\n",
       "2015    COVID19 can affect people of all ages! [Research]\n",
       "2016    Need a COVID test? Four South Florida malls wi...\n",
       "2017    Can someone help me understand why more than 4...\n",
       "2018    Hiding COVID-19: Why People Keep Illness a Sec...\n",
       "2019                                     New CDC Director\n",
       "Name: title, dtype: object"
      ]
     },
     "execution_count": 8,
     "metadata": {},
     "output_type": "execute_result"
    }
   ],
   "source": [
    "# View titles from r/CoronavirusUS\n",
    "df.loc[df['is_mental'] == 0, 'title'].head(20)"
   ]
  },
  {
   "cell_type": "markdown",
   "metadata": {},
   "source": [
    "First 15 examples of r/CoronavirusUS contain language that could be applicable to mental health issues\n",
    "\n",
    "Both subreddits contain examples of unnecessary capital lettering\n",
    "\n",
    "Curious to see what mental health words are contained in both datasets\n",
    "\n",
    "Curious to see if for what the model misclassifies, if the misclassified post is related to the subreddit it gets classified into (ie. a post on r/mentalhealth is classified as r/CoronavirusUS due to it including the word COVID)\n",
    "\n",
    "What happens when I use covid-19 or pandemic as a stop word? Would that make sense? What would I be showing there?\n",
    "\n",
    "Calculate most popular words and remove them as stop words"
   ]
  },
  {
   "cell_type": "code",
   "execution_count": 9,
   "metadata": {},
   "outputs": [
    {
     "data": {
      "text/plain": [
       "AIs from AI Dungeon 2 to sexy to funny and one based wholly on Reddit!    9\n",
       "I need help                                                               6\n",
       "Antihistamines may protect against the coronavirus                        4\n",
       "What is wrong with me?                                                    3\n",
       "I have a question                                                         3\n",
       "                                                                         ..\n",
       "I feel like I’m literally forgetting myself                               1\n",
       "How do I motivate myself to do things?                                    1\n",
       "Feeling worthless all the time                                            1\n",
       "My boyfriend is being mean to me and blaming it on \"his other self\".      1\n",
       "COVID-19 vaccines work well against California variant, scientists say    1\n",
       "Name: title, Length: 3931, dtype: int64"
      ]
     },
     "execution_count": 9,
     "metadata": {},
     "output_type": "execute_result"
    }
   ],
   "source": [
    "# Check for duplicate and empty non-NaN titles\n",
    "df.title.value_counts()"
   ]
  },
  {
   "cell_type": "code",
   "execution_count": 10,
   "metadata": {},
   "outputs": [
    {
     "data": {
      "text/plain": [
       "[removed]                                                                                                                                                                                                                                                                                                                                                                                                                                                                                                                                                                                                                                                                                                                                                                                                                                                                                                                                                                                                                                                                                                                                                                                                                                                                                                                                                                                                                                                                                                                                                                                                                                                                                                                                                                                                                                                                                                                                                                                                                                                                                                                                                                                                                                                                                                                                                                                                                                                                                                                                                                                                                                                                                                                                                                                                                                                                                                                                                                                                                   196\n",
       "[deleted]                                                                                                                                                                                                                                                                                                                                                                                                                                                                                                                                                                                                                                                                                                                                                                                                                                                                                                                                                                                                                                                                                                                                                                                                                                                                                                                                                                                                                                                                                                                                                                                                                                                                                                                                                                                                                                                                                                                                                                                                                                                                                                                                                                                                                                                                                                                                                                                                                                                                                                                                                                                                                                                                                                                                                                                                                                                                                                                                                                                                                    53\n",
       ".                                                                                                                                                                                                                                                                                                                                                                                                                                                                                                                                                                                                                                                                                                                                                                                                                                                                                                                                                                                                                                                                                                                                                                                                                                                                                                                                                                                                                                                                                                                                                                                                                                                                                                                                                                                                                                                                                                                                                                                                                                                                                                                                                                                                                                                                                                                                                                                                                                                                                                                                                                                                                                                                                                                                                                                                                                                                                                                                                                                                                             4\n",
       "please fill out my questionnaire on mental health for my college course\\n\\n[https://forms.gle/Qso1v8QsWmRroV9h8](https://forms.gle/Qso1v8QsWmRroV9h8)                                                                                                                                                                                                                                                                                                                                                                                                                                                                                                                                                                                                                                                                                                                                                                                                                                                                                                                                                                                                                                                                                                                                                                                                                                                                                                                                                                                                                                                                                                                                                                                                                                                                                                                                                                                                                                                                                                                                                                                                                                                                                                                                                                                                                                                                                                                                                                                                                                                                                                                                                                                                                                                                                                                                                                                                                                                                         3\n",
       "Hello, I've been struggling with my mental health and I think I might be suffering from bipolar disorder and I wanted to know someone's opinion on if I may have this. Some days I feel very productive and like I can accomplish anything and others I find it hard to focus on any task. Sometimes I'm very happy and others I'm very sad or very mad for no reason and yell at others in my family for no reason. Sometimes I feel very empty other times I'm so hyper and can talk a million miles a minute and can't control it. Some days I feel extremely overconfident and others feel worthless and a failure. I cant focus some days and ill do anything but what I should be doing. I constantly have a racing mind with obsessive thoughts that I can get away from, I'm constantly paranoid about something. Sometimes I'm in the heat of the moment and do things I usually wouldn't and end up regretting it (unprotect sex). I often feel like I am losing control of having fluctuating perspectives of those around me and feel like they are trying to hurt me. These symptoms get in the way of my daily tasks and cause me a lot of distress and consequences. Every bipolar test I've taken online indicates i have symptoms of BPD but I understand that this is not a real diagnosis, therefore I have an appointment with a psychiatrist. I just want someone's opinion on this to see if having BPD is a possibility.                                                                                                                                                                                                                                                                                                                                                                                                                                                                                                                                                                                                                                                                                                                                                                                                                                                                                                                                                                                                                                                                                                                                                                                                                                                                                                                                                                                                                                                                                                                                                                               2\n",
       "                                                                                                                                                                                                                                                                                                                                                                                                                                                                                                                                                                                                                                                                                                                                                                                                                                                                                                                                                                                                                                                                                                                                                                                                                                                                                                                                                                                                                                                                                                                                                                                                                                                                                                                                                                                                                                                                                                                                                                                                                                                                                                                                                                                                                                                                                                                                                                                                                                                                                                                                                                                                                                                                                                                                                                                                                                                                                                                                                                                                                           ... \n",
       "I’ve been thinking about this lately. As soon as 2019 arrived, I turned into a very different person than who I was. I became less empathetic, less conscientious, more risk prone, and even started to sleep around, tried drugs and became a heavy drinker too, though I did not build a dependence on it... thankfully I have some good genes that keep me from building addictions. \\n\\nI also got involved in more unethical behaviors and lost many friends. Also, my rage is uncontrollable when I am angry. I’m very clam all the time but if someone crosses me, I feel this intense uncontrollable rage and it isn’t pretty. \\n\\nAre any of you out there in a similar position regarding a change in personality? I’d like to know what your diagnosis is or thoughts about my situation. \\n\\nThanks!\\n\\nP.S I am not looking for a a diagnosis for myself. I’m solely curious about you guys. I’ve already been diagnosed with something.                                                                                                                                                                                                                                                                                                                                                                                                                                                                                                                                                                                                                                                                                                                                                                                                                                                                                                                                                                                                                                                                                                                                                                                                                                                                                                                                                                                                                                                                                                                                                                                                                                                                                                                                                                                                                                                                                                                                                                                                                                                                         1\n",
       "Okay so I know this is a weird one and kind of trivial, but I'm starting to believe I have agoraphobia and usually I'll stay in bed for hours at a time and don't want to get out, the reason why is because I feel safe (and this feels a little pathetic for me to admit) in my bed and under my covers, but whenever it's night time it feels like the same excitement you'd get whenever you were a kid and had Christmas I can throw my covers off and it feels good, like today's a fresh day and it won't be that bad.\\n I know it's probably just a placebo effect, but for some reason the night just makes me feel more comfortable and more at ease, maybe it's because I feel like I can't be seen all that much at night again I know this sounds kind of weird, but I'm just curious if this makes any sense or if anyone can relate?                                                                                                                                                                                                                                                                                                                                                                                                                                                                                                                                                                                                                                                                                                                                                                                                                                                                                                                                                                                                                                                                                                                                                                                                                                                                                                                                                                                                                                                                                                                                                                                                                                                                                                                                                                                                                                                                                                                                                                                                                                                                                                                                                                           1\n",
       "Hey guys,\\nI have struggled with mental illness for a while. PMDD, OCD, Anxiety,ADHD and depression. However all of that I want to feel stable. I don’t want to spiral out and die when something hurts or when anxiety hits. I need help knowing how to be stable mentally. I take medication it helps but i want something I can do to make sure I can continue living a life without feeling like it’s better to die so that I don’t have to feel like this. I want normality in my mind. I want stability. Any advice or help?                                                                                                                                                                                                                                                                                                                                                                                                                                                                                                                                                                                                                                                                                                                                                                                                                                                                                                                                                                                                                                                                                                                                                                                                                                                                                                                                                                                                                                                                                                                                                                                                                                                                                                                                                                                                                                                                                                                                                                                                                                                                                                                                                                                                                                                                                                                                                                                                                                                                                            1\n",
       "When this whole virus had school turn into online school, I thought it was a blessing. \\nI had more time to workout, play games, be with friends, etc. In the span from March to now, I've tried Runescape, gotten 9 days worth of gameplay over summer vacation. Even made a friend, who I still hope is ok. I've gotten a puppy and kitten. Seen improvement in my weightlifting. I've been with my parents more as well. \\nThat's just the summary of it, but then there's the bad that's happened. \\nThat friend I've made in Runescape, he told me his girlfriend cheated on him, had a mental breakdown, and we haven't talked much since. Holiday's feel depressing now, since before lots of family would show up to see eachother, where as Christmas was so much fewer people. When I said I got to be with friends more, I meant online through games. Lots of them I barely even talk to now. I've had a history of having mood swings here and there, but over quarantine I feel like they've gotten worse. I miss the social aspect of being at school, instead of being in online classes, where half the time the teacher gets disconnected because they have trash internet. \\nThen I thought, you know what, things have been pretty bad and good at the same time, let's try and make things better so I can forget about the bad.\\nI ranted to my crush whom knows that I like, about how I feel, and they actually liked that I told them about it, and to be honest, I was expecting them to react a lot less, since I was doing it to mainly get it off my chest, and even told them so.\\nThis is all over Instagram btw, remember, we can't see eachother because of the virus. They asked me why I decided to text them, and I responded honestly by saying that since I've got a lot more time on my hands, I ended up thinking of them from time to time. \\nI think that was a bad response, because I ended up getting left on read. I know this isn't a subreddit on relationship advice, and that's not what I'm asking here, let me continue. \\nIt's been two weeks since that happened, and ever since, I feel kind of empty, been sleeping more throughout the day, falling behind on school, and just not seeing a purpose in life, even though I have so much of, well, everything. \\nAm I being selfish here, or is it normal to feel this way. The more I think about it the more I feel like this feeling has just been bottled up, and me texting that person was the last push I needed for me to be in this mood. I'm of course not blaming them however, I actually kind of blame myself for texting them, I should've just moved on. \\nIf you're worried about me hurting anyone or myself, don't worry, I'm just sad, not stupid. I say that because as I read what I've wrote, people might think that, so I'm just giving reassurance. Don't be afraid to tell me I'm overreacting or just being a little edgy teenager, I want to know how you see this, in honest truth.      1\n",
       "So far, the vaccines are said to be effective against variants of COVID-19 that have risen.\\n\\nBut since the population won’t all be vaccinated at once, could the virus slowly mutate to overcome the obstacles that the vaccine presents?\\n\\nSerious answers only, not here for conspiracies. Have other viruses exhibited this type of behavior in the past?                                                                                                                                                                                                                                                                                                                                                                                                                                                                                                                                                                                                                                                                                                                                                                                                                                                                                                                                                                                                                                                                                                                                                                                                                                                                                                                                                                                                                                                                                                                                                                                                                                                                                                                                                                                                                                                                                                                                                                                                                                                                                                                                                                                                                                                                                                                                                                                                                                                                                                                                                                                                                                                               1\n",
       "Name: selftext, Length: 2489, dtype: int64"
      ]
     },
     "execution_count": 10,
     "metadata": {},
     "output_type": "execute_result"
    }
   ],
   "source": [
    "# Check for duplicate and empty non-NaN selftext values\n",
    "df.selftext.value_counts()"
   ]
  },
  {
   "cell_type": "code",
   "execution_count": 11,
   "metadata": {
    "scrolled": true
   },
   "outputs": [
    {
     "data": {
      "text/plain": [
       "False    3931\n",
       "True       68\n",
       "Name: title, dtype: int64"
      ]
     },
     "execution_count": 11,
     "metadata": {},
     "output_type": "execute_result"
    }
   ],
   "source": [
    "# Check for duplicate values\n",
    "df['title'].duplicated().value_counts()"
   ]
  },
  {
   "cell_type": "markdown",
   "metadata": {},
   "source": [
    "There are 68 duplicate titles"
   ]
  },
  {
   "cell_type": "code",
   "execution_count": 12,
   "metadata": {},
   "outputs": [
    {
     "data": {
      "text/plain": [
       "mentalhealth     0.500125\n",
       "CoronavirusUS    0.499875\n",
       "Name: subreddit, dtype: float64"
      ]
     },
     "execution_count": 12,
     "metadata": {},
     "output_type": "execute_result"
    }
   ],
   "source": [
    "# Verify distrubtion\n",
    "df.subreddit.value_counts(normalize=True)"
   ]
  },
  {
   "cell_type": "markdown",
   "metadata": {},
   "source": [
    "## 2. Preprocessing\n",
    "**Going to start by cleaning my data, aand then I'm going to Integrate and Transform my data**\n",
    "\n",
    "1. convert missing and deleted to NaN\n",
    "2. Delete duplicates titles\n",
    "3. Find most popular words and most common words\n",
    "4. Vectorize and do stop words\n",
    "6. Do another sentiment analysis (by sentence,by word?)\n",
    "6. Drop 1 letter titles (the inapp. post)"
   ]
  },
  {
   "cell_type": "code",
   "execution_count": 13,
   "metadata": {
    "scrolled": true
   },
   "outputs": [],
   "source": [
    "# Replace '[removed]' with NaN in the 'selftext' column\n",
    "df['selftext'] = df['selftext'].replace({'[removed]': np.nan})"
   ]
  },
  {
   "cell_type": "code",
   "execution_count": 14,
   "metadata": {},
   "outputs": [],
   "source": [
    "# Replace '[deleted]' with NaN in the 'selftext' column\n",
    "df['selftext'] = df['selftext'].replace({'[deleted]': np.nan})"
   ]
  },
  {
   "cell_type": "code",
   "execution_count": 15,
   "metadata": {},
   "outputs": [],
   "source": [
    "# Drop duplicates based on title column\n",
    "df = df.drop_duplicates(subset='title')"
   ]
  },
  {
   "cell_type": "code",
   "execution_count": 16,
   "metadata": {},
   "outputs": [
    {
     "data": {
      "text/plain": [
       "False    3931\n",
       "Name: title, dtype: int64"
      ]
     },
     "execution_count": 16,
     "metadata": {},
     "output_type": "execute_result"
    }
   ],
   "source": [
    "# Check for duplicate values\n",
    "df['title'].duplicated().value_counts()"
   ]
  },
  {
   "cell_type": "code",
   "execution_count": 17,
   "metadata": {},
   "outputs": [],
   "source": [
    "# Remove hyperlinks from title and selftext\n",
    "df['title'] = df['title'].apply(lambda x: re.split('https:\\/\\/.*', str(x))[0])\n",
    "df['selftext'] = df['selftext'].apply(lambda x: re.split('https:\\/\\/.*', str(x))[0])"
   ]
  },
  {
   "cell_type": "markdown",
   "metadata": {},
   "source": [
    "# Figure out proper code that avoids this warning! \n",
    "- also, what does drop duplicates do when there are NaNs?\n",
    "- also, how do I get all value counts to make sure I'm not missing duplicates"
   ]
  },
  {
   "cell_type": "code",
   "execution_count": 18,
   "metadata": {},
   "outputs": [
    {
     "data": {
      "text/plain": [
       "nan                                                                                                                                                                                                                                                                                                                                                                                                                                                                                                                                                                                                                                                                                                                                                                                                                                                                                                                                                                                                                                                                                                                                                                                                                                                                                                                                                                                                                                                                                                                                                                                                                                                                                                                                                                                                                                                                                                                                                                                                                                                                                                                                                                                                                                                                                                                                                                                                                                                                                                                                                                                                                                                                                                                                                                                                                                                                                                                                                                                                                                                                                                                                                                                                                                                                                                                                                                                                                                                                                                                                                                                                                                                                                                                                                                                                                                                                                                                                                                                                                                                                                                                                                                                                                                                                                                                                                                                                                                                                                                                                    1455\n",
       "[                                                                                                                                                                                                                                                                                                                                                                                                                                                                                                                                                                                                                                                                                                                                                                                                                                                                                                                                                                                                                                                                                                                                                                                                                                                                                                                                                                                                                                                                                                                                                                                                                                                                                                                                                                                                                                                                                                                                                                                                                                                                                                                                                                                                                                                                                                                                                                                                                                                                                                                                                                                                                                                                                                                                                                                                                                                                                                                                                                                                                                                                                                                                                                                                                                                                                                                                                                                                                                                                                                                                                                                                                                                                                                                                                                                                                                                                                                                                                                                                                                                                                                                                                                                                                                                                                                                                                                                                                                                                                                                                        20\n",
       "                                                                                                                                                                                                                                                                                                                                                                                                                                                                                                                                                                                                                                                                                                                                                                                                                                                                                                                                                                                                                                                                                                                                                                                                                                                                                                                                                                                                                                                                                                                                                                                                                                                                                                                                                                                                                                                                                                                                                                                                                                                                                                                                                                                                                                                                                                                                                                                                                                                                                                                                                                                                                                                                                                                                                                                                                                                                                                                                                                                                                                                                                                                                                                                                                                                                                                                                                                                                                                                                                                                                                                                                                                                                                                                                                                                                                                                                                                                                                                                                                                                                                                                                                                                                                                                                                                                                                                                                                                                                                                                                         10\n",
       ".                                                                                                                                                                                                                                                                                                                                                                                                                                                                                                                                                                                                                                                                                                                                                                                                                                                                                                                                                                                                                                                                                                                                                                                                                                                                                                                                                                                                                                                                                                                                                                                                                                                                                                                                                                                                                                                                                                                                                                                                                                                                                                                                                                                                                                                                                                                                                                                                                                                                                                                                                                                                                                                                                                                                                                                                                                                                                                                                                                                                                                                                                                                                                                                                                                                                                                                                                                                                                                                                                                                                                                                                                                                                                                                                                                                                                                                                                                                                                                                                                                                                                                                                                                                                                                                                                                                                                                                                                                                                                                                                         4\n",
       "please fill out my questionnaire on mental health for my college course\\n\\n[                                                                                                                                                                                                                                                                                                                                                                                                                                                                                                                                                                                                                                                                                                                                                                                                                                                                                                                                                                                                                                                                                                                                                                                                                                                                                                                                                                                                                                                                                                                                                                                                                                                                                                                                                                                                                                                                                                                                                                                                                                                                                                                                                                                                                                                                                                                                                                                                                                                                                                                                                                                                                                                                                                                                                                                                                                                                                                                                                                                                                                                                                                                                                                                                                                                                                                                                                                                                                                                                                                                                                                                                                                                                                                                                                                                                                                                                                                                                                                                                                                                                                                                                                                                                                                                                                                                                                                                                                                                              3\n",
       "                                                                                                                                                                                                                                                                                                                                                                                                                                                                                                                                                                                                                                                                                                                                                                                                                                                                                                                                                                                                                                                                                                                                                                                                                                                                                                                                                                                                                                                                                                                                                                                                                                                                                                                                                                                                                                                                                                                                                                                                                                                                                                                                                                                                                                                                                                                                                                                                                                                                                                                                                                                                                                                                                                                                                                                                                                                                                                                                                                                                                                                                                                                                                                                                                                                                                                                                                                                                                                                                                                                                                                                                                                                                                                                                                                                                                                                                                                                                                                                                                                                                                                                                                                                                                                                                                                                                                                                                                                                                                                                                       ... \n",
       "My dad has never been an emotional supporter. He worked, paid the bills, made sure we didn't die, and that's pretty much it. A classic raised-in-the-60s-on-a-farm-with-a-big-family-immigrant-dad. That being said he never beat us or intentionally tried to destroy us so that's good. He has always been bearable. Nice enough guy, relatively normal, had some friends, had a stable trades career, hobbies, likes music, etc.   \\n\\nMy mom died of cancer when my sister and I wear 9 and 11. Soon after he dated and married a friend of both of their's and rumour has it they were sleeping together while she was dying. After many years of the town hating on them, we moved away, and two years after that they divorced and she took him for half. He dated a colourful array of women following her, but one has always been around. Let’s call her Lisa. I, too, have always been around since just recently when I moved out to live with my boyfriend. This tidbit seems to have fast tracked his mental state, whatever that state is. \\n\\n\\nAnyhow Lisa came into my dads life 5 years ago. Since then, he now believes vaccination will kill all babies, COVID vaccines will basically kill you upon injection, chemo is awful and the only way to beat cancer is through frequencies, the government is always trying to kill us, we should never use phones (he uses his all day everyday), etc. etc. 5G is satan, he is god. I'm not saying there isn't a bit of truth to any of this, but he believes his word is gospel. \\n\\n\\nHe is becoming the town nut.. for lack of better words. He goes around spewing this to everyone in the main cafe in our small town.  \\n\\n\\nIt got worse when my sister had a baby 1.5 years ago.  He comes to their house unannounced all the time and ALWAYS without fail, talks about vaccinations. He practically says she's going to die because they vaccinated her, they shouldn't have vaccinated her. She was recently diagnosed with asthma.. you bet your ass he was over and said it was cause the vaccinations and they shouldn't have vaccinated her. She is 1.5 now, she says some words but she's not super verbal - understands everything though and can walk. He comes over and tells them that she's really behind on her talking because of the vaccines. He is always telling them they're poisoning her. She recently had croup - yep, vaccinations. \\n\\n\\nMy grandma is 86, she wants the covid vaccine. He personally called all his 7 brothers and sisters saying that he'll lose his shit if she gets the vaccine and they're all trying to kill her.   \\n\\n\\nA local young man was recently going for cancer treatment, and to his doom he came to the cafe my dad was at. Chemo was his last chance at survival yet my dad goes on to say that chemo is a joke, it will never work, he would have never let my mom take chemo if he knew what he knew now.  \\n\\nHe also says he would never have vaccinated us if he knew what he knew now. Even though we are both very healthy girls lacking almost any health problems whatsoever.   \\n\\n\\nLET ME BE CLEAR HERE! I AM NOT SAYING THAT VACCINATIONS COULD AND MAY WELL BE TERRIBLE. IT IS THE ABSOLUTE ARROGANCE, INSENSITIVITY, AND SENSE OF GODLINESS THAT COMES WITH HIS CARELESS SPREAD OF NEGATIVITY IN OUR EVERYDAY LIVES.  \\n\\n\\nSo basically what I'm asking here is what is going on his brain all of a sudden to think he is the ruler of all. He was never in our lives much to suppose us at all - but now he wants to “save us” from imminent doom. Where is this coming from? He has been mostly level headed for 50 years and now everyone else is a sheep and is making incorrect decisions. We're about to cut him off... he doesn’t listen to us, he doesn’t think anything is wrong with him, etc. We are hoping there is another option.  \\n\\n\\n**TL;DR - My widowed dad has been mostly level headed most of his life, but emotionally absent and has never been there for us. Over the past 5 years he has been believing that vaccinations, chemo, 5G, etc are the end of the world and he thinks he's going to save us or something if we just listen to him. He calls my sister or pops up out of the blue daily to tell her they made a mistake in vaccinating their child. He is careless, and negative, and we're about to cut him off after many years of putting up with his behaviour and asking him not to do what he does everyday . Any other solutions?**       1\n",
       "I’ve destroyed a relationship with a beautiful, caring, and kind woman because of my own inability to acknowledge my past experiences and knowing that I’m abnormal and I am disgusting narcissist with a side of depression? I’m in healthcare and honestly don’t know where to start and to keep it confidential within my community (everyone here in the medical community knows one another). I’m just done with myself. Done with not being a normal person. Done with hurting those I love. Done with trying to mask my shame and sadness with hurtful words.                                                                                                                                                                                                                                                                                                                                                                                                                                                                                                                                                                                                                                                                                                                                                                                                                                                                                                                                                                                                                                                                                                                                                                                                                                                                                                                                                                                                                                                                                                                                                                                                                                                                                                                                                                                                                                                                                                                                                                                                                                                                                                                                                                                                                                                                                                                                                                                                                                                                                                                                                                                                                                                                                                                                                                                                                                                                                                                                                                                                                                                                                                                                                                                                                                                                                                                                                                                                                                                                                                                                                                                                                                                                                                                                                                                                                                                                                                                                                                      1\n",
       "So the other day I'm on my phone and suddenly wanted to light a candle, just had to do it for some reason, anyway I was watching it burn, and after a while without thinking I started putting my fingers on the little flame, but I felt nothing. Idk why I did it, but I can't stop thinking about that night, what could that indicate?                                                                                                                                                                                                                                                                                                                                                                                                                                                                                                                                                                                                                                                                                                                                                                                                                                                                                                                                                                                                                                                                                                                                                                                                                                                                                                                                                                                                                                                                                                                                                                                                                                                                                                                                                                                                                                                                                                                                                                                                                                                                                                                                                                                                                                                                                                                                                                                                                                                                                                                                                                                                                                                                                                                                                                                                                                                                                                                                                                                                                                                                                                                                                                                                                                                                                                                                                                                                                                                                                                                                                                                                                                                                                                                                                                                                                                                                                                                                                                                                                                                                                                                                                                                                1\n",
       "Hey everyone, just wondering what you do when you're on your own and need some encouragement. I feel like i want to cry and give up. Work was a lot and I have to get up tomorrow and do it again.\\n\\nThanks, I love y'all.                                                                                                                                                                                                                                                                                                                                                                                                                                                                                                                                                                                                                                                                                                                                                                                                                                                                                                                                                                                                                                                                                                                                                                                                                                                                                                                                                                                                                                                                                                                                                                                                                                                                                                                                                                                                                                                                                                                                                                                                                                                                                                                                                                                                                                                                                                                                                                                                                                                                                                                                                                                                                                                                                                                                                                                                                                                                                                                                                                                                                                                                                                                                                                                                                                                                                                                                                                                                                                                                                                                                                                                                                                                                                                                                                                                                                                                                                                                                                                                                                                                                                                                                                                                                                                                                                                               1\n",
       "So far, the vaccines are said to be effective against variants of COVID-19 that have risen.\\n\\nBut since the population won’t all be vaccinated at once, could the virus slowly mutate to overcome the obstacles that the vaccine presents?\\n\\nSerious answers only, not here for conspiracies. Have other viruses exhibited this type of behavior in the past?                                                                                                                                                                                                                                                                                                                                                                                                                                                                                                                                                                                                                                                                                                                                                                                                                                                                                                                                                                                                                                                                                                                                                                                                                                                                                                                                                                                                                                                                                                                                                                                                                                                                                                                                                                                                                                                                                                                                                                                                                                                                                                                                                                                                                                                                                                                                                                                                                                                                                                                                                                                                                                                                                                                                                                                                                                                                                                                                                                                                                                                                                                                                                                                                                                                                                                                                                                                                                                                                                                                                                                                                                                                                                                                                                                                                                                                                                                                                                                                                                                                                                                                                                                           1\n",
       "Name: selftext, Length: 2435, dtype: int64"
      ]
     },
     "execution_count": 18,
     "metadata": {},
     "output_type": "execute_result"
    }
   ],
   "source": [
    "# This shows I need to address values that are \"[\", \".\", and I need to fill empty cells with NaN\n",
    "df.selftext.value_counts()"
   ]
  },
  {
   "cell_type": "code",
   "execution_count": 19,
   "metadata": {},
   "outputs": [
    {
     "name": "stdout",
     "output_type": "stream",
     "text": [
      "🤔\n",
      "R\n",
      "E\n",
      "G\n",
      "I\n",
      "N\n"
     ]
    }
   ],
   "source": [
    "for x in df['title']:\n",
    "    if len(x) < 3:\n",
    "        print(x)"
   ]
  },
  {
   "cell_type": "code",
   "execution_count": 20,
   "metadata": {},
   "outputs": [],
   "source": [
    "# MAKE SURE TO THROW THIS HIGHER UP, AND BEFORE YOU DELETE BAD WORD AND EMOJI\n",
    "df.reset_index(inplace = True)"
   ]
  },
  {
   "cell_type": "code",
   "execution_count": 21,
   "metadata": {},
   "outputs": [],
   "source": [
    "# index to drop are 3403, 3439 - 3443"
   ]
  },
  {
   "cell_type": "code",
   "execution_count": 22,
   "metadata": {},
   "outputs": [
    {
     "data": {
      "text/html": [
       "<div>\n",
       "<style scoped>\n",
       "    .dataframe tbody tr th:only-of-type {\n",
       "        vertical-align: middle;\n",
       "    }\n",
       "\n",
       "    .dataframe tbody tr th {\n",
       "        vertical-align: top;\n",
       "    }\n",
       "\n",
       "    .dataframe thead th {\n",
       "        text-align: right;\n",
       "    }\n",
       "</style>\n",
       "<table border=\"1\" class=\"dataframe\">\n",
       "  <thead>\n",
       "    <tr style=\"text-align: right;\">\n",
       "      <th></th>\n",
       "      <th>index</th>\n",
       "      <th>created_utc</th>\n",
       "      <th>url</th>\n",
       "      <th>full_link</th>\n",
       "      <th>id</th>\n",
       "      <th>num_comments</th>\n",
       "      <th>title</th>\n",
       "      <th>selftext</th>\n",
       "      <th>subreddit</th>\n",
       "      <th>timestamp</th>\n",
       "      <th>is_mental</th>\n",
       "    </tr>\n",
       "  </thead>\n",
       "  <tbody>\n",
       "    <tr>\n",
       "      <th>3443</th>\n",
       "      <td>3498</td>\n",
       "      <td>1615674983</td>\n",
       "      <td>https://www.reddit.com/r/CoronavirusUS/comment...</td>\n",
       "      <td>https://www.reddit.com/r/CoronavirusUS/comment...</td>\n",
       "      <td>m4hata</td>\n",
       "      <td>0</td>\n",
       "      <td>N</td>\n",
       "      <td>nan</td>\n",
       "      <td>CoronavirusUS</td>\n",
       "      <td>2021-03-13 17:36:23</td>\n",
       "      <td>0</td>\n",
       "    </tr>\n",
       "  </tbody>\n",
       "</table>\n",
       "</div>"
      ],
      "text/plain": [
       "      index  created_utc                                                url  \\\n",
       "3443   3498   1615674983  https://www.reddit.com/r/CoronavirusUS/comment...   \n",
       "\n",
       "                                              full_link      id  num_comments  \\\n",
       "3443  https://www.reddit.com/r/CoronavirusUS/comment...  m4hata             0   \n",
       "\n",
       "     title selftext      subreddit            timestamp  is_mental  \n",
       "3443     N      nan  CoronavirusUS  2021-03-13 17:36:23          0  "
      ]
     },
     "execution_count": 22,
     "metadata": {},
     "output_type": "execute_result"
    }
   ],
   "source": [
    "df.loc[df['title'] == '🤔']\n",
    "df.loc[df['title'] == \"N\"]"
   ]
  },
  {
   "cell_type": "code",
   "execution_count": 23,
   "metadata": {},
   "outputs": [],
   "source": [
    "# found innappropriate or emojis, dropping them\n",
    "df = df.drop(df.index[[3403, 3439, 3440, 3441, 3442, 3443]])"
   ]
  },
  {
   "cell_type": "code",
   "execution_count": 24,
   "metadata": {},
   "outputs": [
    {
     "data": {
      "text/plain": [
       "3925"
      ]
     },
     "execution_count": 24,
     "metadata": {},
     "output_type": "execute_result"
    }
   ],
   "source": [
    "len(df)"
   ]
  },
  {
   "cell_type": "code",
   "execution_count": 25,
   "metadata": {},
   "outputs": [],
   "source": [
    "# Reset index again\n",
    "df.reset_index(inplace = True)"
   ]
  },
  {
   "cell_type": "code",
   "execution_count": 26,
   "metadata": {},
   "outputs": [],
   "source": [
    "# Replacing \"[\" and \".\" and empty cells with NaN in the 'selftext' column\n",
    "df['selftext'] = df['selftext'].replace({'[': np.nan})\n",
    "df['selftext'] = df['selftext'].replace({'.': np.nan})\n",
    "df['selftext'] = df['selftext'].replace({'': np.nan})"
   ]
  },
  {
   "cell_type": "code",
   "execution_count": 27,
   "metadata": {},
   "outputs": [
    {
     "data": {
      "text/html": [
       "<div>\n",
       "<style scoped>\n",
       "    .dataframe tbody tr th:only-of-type {\n",
       "        vertical-align: middle;\n",
       "    }\n",
       "\n",
       "    .dataframe tbody tr th {\n",
       "        vertical-align: top;\n",
       "    }\n",
       "\n",
       "    .dataframe thead th {\n",
       "        text-align: right;\n",
       "    }\n",
       "</style>\n",
       "<table border=\"1\" class=\"dataframe\">\n",
       "  <thead>\n",
       "    <tr style=\"text-align: right;\">\n",
       "      <th></th>\n",
       "      <th>level_0</th>\n",
       "      <th>index</th>\n",
       "      <th>created_utc</th>\n",
       "      <th>url</th>\n",
       "      <th>full_link</th>\n",
       "      <th>id</th>\n",
       "      <th>num_comments</th>\n",
       "      <th>title</th>\n",
       "      <th>selftext</th>\n",
       "      <th>subreddit</th>\n",
       "      <th>timestamp</th>\n",
       "      <th>is_mental</th>\n",
       "      <th>title_char_length</th>\n",
       "      <th>title_word_count</th>\n",
       "    </tr>\n",
       "  </thead>\n",
       "  <tbody>\n",
       "    <tr>\n",
       "      <th>0</th>\n",
       "      <td>0</td>\n",
       "      <td>0</td>\n",
       "      <td>1611140689</td>\n",
       "      <td>https://www.reddit.com/r/mentalhealth/comments...</td>\n",
       "      <td>https://www.reddit.com/r/mentalhealth/comments...</td>\n",
       "      <td>l172x7</td>\n",
       "      <td>3</td>\n",
       "      <td>Has anyone else been completely unable to moni...</td>\n",
       "      <td>I had a psychotic break which seemed to come o...</td>\n",
       "      <td>mentalhealth</td>\n",
       "      <td>2021-01-20 06:04:49</td>\n",
       "      <td>1</td>\n",
       "      <td>70</td>\n",
       "      <td>11</td>\n",
       "    </tr>\n",
       "    <tr>\n",
       "      <th>1</th>\n",
       "      <td>1</td>\n",
       "      <td>1</td>\n",
       "      <td>1611140753</td>\n",
       "      <td>https://www.reddit.com/r/mentalhealth/comments...</td>\n",
       "      <td>https://www.reddit.com/r/mentalhealth/comments...</td>\n",
       "      <td>l173gi</td>\n",
       "      <td>7</td>\n",
       "      <td>Is it normal to cry when you see someone you love</td>\n",
       "      <td>I know this sounds weird but i guess let me ex...</td>\n",
       "      <td>mentalhealth</td>\n",
       "      <td>2021-01-20 06:05:53</td>\n",
       "      <td>1</td>\n",
       "      <td>49</td>\n",
       "      <td>11</td>\n",
       "    </tr>\n",
       "    <tr>\n",
       "      <th>2</th>\n",
       "      <td>2</td>\n",
       "      <td>2</td>\n",
       "      <td>1611141523</td>\n",
       "      <td>https://www.reddit.com/r/mentalhealth/comments...</td>\n",
       "      <td>https://www.reddit.com/r/mentalhealth/comments...</td>\n",
       "      <td>l179ft</td>\n",
       "      <td>2</td>\n",
       "      <td>Somethings gotta give</td>\n",
       "      <td>Been living with my mom who has bad mental iss...</td>\n",
       "      <td>mentalhealth</td>\n",
       "      <td>2021-01-20 06:18:43</td>\n",
       "      <td>1</td>\n",
       "      <td>21</td>\n",
       "      <td>3</td>\n",
       "    </tr>\n",
       "    <tr>\n",
       "      <th>3</th>\n",
       "      <td>3</td>\n",
       "      <td>3</td>\n",
       "      <td>1611141801</td>\n",
       "      <td>https://www.reddit.com/r/mentalhealth/comments...</td>\n",
       "      <td>https://www.reddit.com/r/mentalhealth/comments...</td>\n",
       "      <td>l17bmq</td>\n",
       "      <td>2</td>\n",
       "      <td>Train Your Brain</td>\n",
       "      <td>NaN</td>\n",
       "      <td>mentalhealth</td>\n",
       "      <td>2021-01-20 06:23:21</td>\n",
       "      <td>1</td>\n",
       "      <td>16</td>\n",
       "      <td>3</td>\n",
       "    </tr>\n",
       "    <tr>\n",
       "      <th>4</th>\n",
       "      <td>4</td>\n",
       "      <td>4</td>\n",
       "      <td>1611143753</td>\n",
       "      <td>https://www.reddit.com/r/mentalhealth/comments...</td>\n",
       "      <td>https://www.reddit.com/r/mentalhealth/comments...</td>\n",
       "      <td>l17rke</td>\n",
       "      <td>3</td>\n",
       "      <td>Rage attacks?</td>\n",
       "      <td>Hello. \\nI usually talk to myself (and Im pret...</td>\n",
       "      <td>mentalhealth</td>\n",
       "      <td>2021-01-20 06:55:53</td>\n",
       "      <td>1</td>\n",
       "      <td>13</td>\n",
       "      <td>2</td>\n",
       "    </tr>\n",
       "  </tbody>\n",
       "</table>\n",
       "</div>"
      ],
      "text/plain": [
       "   level_0  index  created_utc  \\\n",
       "0        0      0   1611140689   \n",
       "1        1      1   1611140753   \n",
       "2        2      2   1611141523   \n",
       "3        3      3   1611141801   \n",
       "4        4      4   1611143753   \n",
       "\n",
       "                                                 url  \\\n",
       "0  https://www.reddit.com/r/mentalhealth/comments...   \n",
       "1  https://www.reddit.com/r/mentalhealth/comments...   \n",
       "2  https://www.reddit.com/r/mentalhealth/comments...   \n",
       "3  https://www.reddit.com/r/mentalhealth/comments...   \n",
       "4  https://www.reddit.com/r/mentalhealth/comments...   \n",
       "\n",
       "                                           full_link      id  num_comments  \\\n",
       "0  https://www.reddit.com/r/mentalhealth/comments...  l172x7             3   \n",
       "1  https://www.reddit.com/r/mentalhealth/comments...  l173gi             7   \n",
       "2  https://www.reddit.com/r/mentalhealth/comments...  l179ft             2   \n",
       "3  https://www.reddit.com/r/mentalhealth/comments...  l17bmq             2   \n",
       "4  https://www.reddit.com/r/mentalhealth/comments...  l17rke             3   \n",
       "\n",
       "                                               title  \\\n",
       "0  Has anyone else been completely unable to moni...   \n",
       "1  Is it normal to cry when you see someone you love   \n",
       "2                              Somethings gotta give   \n",
       "3                                   Train Your Brain   \n",
       "4                                      Rage attacks?   \n",
       "\n",
       "                                            selftext     subreddit  \\\n",
       "0  I had a psychotic break which seemed to come o...  mentalhealth   \n",
       "1  I know this sounds weird but i guess let me ex...  mentalhealth   \n",
       "2  Been living with my mom who has bad mental iss...  mentalhealth   \n",
       "3                                                NaN  mentalhealth   \n",
       "4  Hello. \\nI usually talk to myself (and Im pret...  mentalhealth   \n",
       "\n",
       "             timestamp  is_mental  title_char_length  title_word_count  \n",
       "0  2021-01-20 06:04:49          1                 70                11  \n",
       "1  2021-01-20 06:05:53          1                 49                11  \n",
       "2  2021-01-20 06:18:43          1                 21                 3  \n",
       "3  2021-01-20 06:23:21          1                 16                 3  \n",
       "4  2021-01-20 06:55:53          1                 13                 2  "
      ]
     },
     "execution_count": 27,
     "metadata": {},
     "output_type": "execute_result"
    }
   ],
   "source": [
    "# Create a column for title character length\n",
    "df['title_char_length'] = df['title'].apply(len)\n",
    "\n",
    "# Create a column for title word count\n",
    "df['title_word_count'] = df['title'].map(lambda x: len(x.split()))\n",
    "\n",
    "df.head()"
   ]
  },
  {
   "cell_type": "code",
   "execution_count": 29,
   "metadata": {},
   "outputs": [
    {
     "data": {
      "image/png": "[encoded data removed]",
      "text/plain": [
       "<Figure size 864x720 with 1 Axes>"
      ]
     },
     "metadata": {
      "needs_background": "light"
     },
     "output_type": "display_data"
    }
   ],
   "source": [
    "# Histogram of title character length\n",
    "plt.figure(figsize=(12,10))\n",
    "plt.title('Distribution of Title Character Length')\n",
    "plt.xlabel('Character Length')\n",
    "plt.ylabel('Frequency')\n",
    "plt.hist(x=df[df['is_mental']==1]['title_char_length'],\n",
    "         bins=25, alpha=0.5, label='MH')\n",
    "plt.hist(x=df[df['is_mental']==0]['title_char_length'],\n",
    "         bins=25, alpha=0.5, label='COVID')\n",
    "plt.legend();"
   ]
  },
  {
   "cell_type": "code",
   "execution_count": 35,
   "metadata": {},
   "outputs": [
    {
     "data": {
      "image/png": "[encoded data removed]",
      "text/plain": [
       "<Figure size 432x288 with 1 Axes>"
      ]
     },
     "metadata": {
      "needs_background": "light"
     },
     "output_type": "display_data"
    }
   ],
   "source": [
    "# Histogram of title character length\n",
    "plt.title('Distribution of Title Character Length')\n",
    "plt.xlabel('Character Length')\n",
    "plt.ylabel('Frequency')\n",
    "plt.hist(x=df[df['is_mental']==1]['title_char_length'],\n",
    "         bins=25, alpha=0.5, label='MH')\n",
    "plt.hist(x=df[df['is_mental']==0]['title_char_length'],\n",
    "         bins=25, alpha=0.5, label='COVID')\n",
    "plt.legend();"
   ]
  },
  {
   "cell_type": "code",
   "execution_count": 36,
   "metadata": {},
   "outputs": [
    {
     "data": {
      "image/png": "[encoded data removed]",
      "text/plain": [
       "<Figure size 432x288 with 1 Axes>"
      ]
     },
     "metadata": {
      "needs_background": "light"
     },
     "output_type": "display_data"
    }
   ],
   "source": [
    "# Histogram of title word count\n",
    "plt.title('Distribution of Title Word Count')\n",
    "plt.xlabel('Word Count')\n",
    "plt.ylabel('Frequency')\n",
    "plt.hist(x=df[df['is_mental']==1]['title_word_count'],\n",
    "         bins=25, alpha=0.5, label='MH')\n",
    "plt.hist(x=df[df['is_mental']==0]['title_word_count'],\n",
    "         bins=25, alpha=0.5, label='COVID')\n",
    "plt.legend();"
   ]
  },
  {
   "cell_type": "markdown",
   "metadata": {},
   "source": [
    "Out of curiousity, I'm going to check the sentiment of my posts"
   ]
  },
  {
   "cell_type": "code",
   "execution_count": 37,
   "metadata": {},
   "outputs": [
    {
     "data": {
      "text/html": [
       "<div>\n",
       "<style scoped>\n",
       "    .dataframe tbody tr th:only-of-type {\n",
       "        vertical-align: middle;\n",
       "    }\n",
       "\n",
       "    .dataframe tbody tr th {\n",
       "        vertical-align: top;\n",
       "    }\n",
       "\n",
       "    .dataframe thead th {\n",
       "        text-align: right;\n",
       "    }\n",
       "</style>\n",
       "<table border=\"1\" class=\"dataframe\">\n",
       "  <thead>\n",
       "    <tr style=\"text-align: right;\">\n",
       "      <th></th>\n",
       "      <th>level_0</th>\n",
       "      <th>index</th>\n",
       "      <th>created_utc</th>\n",
       "      <th>url</th>\n",
       "      <th>full_link</th>\n",
       "      <th>id</th>\n",
       "      <th>num_comments</th>\n",
       "      <th>title</th>\n",
       "      <th>selftext</th>\n",
       "      <th>subreddit</th>\n",
       "      <th>timestamp</th>\n",
       "      <th>is_mental</th>\n",
       "      <th>title_char_length</th>\n",
       "      <th>title_word_count</th>\n",
       "      <th>sentiment_comp</th>\n",
       "      <th>sentiment_neg</th>\n",
       "      <th>sentiment_neu</th>\n",
       "      <th>sentiment_pos</th>\n",
       "    </tr>\n",
       "  </thead>\n",
       "  <tbody>\n",
       "    <tr>\n",
       "      <th>0</th>\n",
       "      <td>0</td>\n",
       "      <td>0</td>\n",
       "      <td>1611140689</td>\n",
       "      <td>https://www.reddit.com/r/mentalhealth/comments...</td>\n",
       "      <td>https://www.reddit.com/r/mentalhealth/comments...</td>\n",
       "      <td>l172x7</td>\n",
       "      <td>3</td>\n",
       "      <td>Has anyone else been completely unable to moni...</td>\n",
       "      <td>I had a psychotic break which seemed to come o...</td>\n",
       "      <td>mentalhealth</td>\n",
       "      <td>2021-01-20 06:04:49</td>\n",
       "      <td>1</td>\n",
       "      <td>70</td>\n",
       "      <td>11</td>\n",
       "      <td>0.0000</td>\n",
       "      <td>0.00</td>\n",
       "      <td>1.000</td>\n",
       "      <td>0.000</td>\n",
       "    </tr>\n",
       "    <tr>\n",
       "      <th>1</th>\n",
       "      <td>1</td>\n",
       "      <td>1</td>\n",
       "      <td>1611140753</td>\n",
       "      <td>https://www.reddit.com/r/mentalhealth/comments...</td>\n",
       "      <td>https://www.reddit.com/r/mentalhealth/comments...</td>\n",
       "      <td>l173gi</td>\n",
       "      <td>7</td>\n",
       "      <td>Is it normal to cry when you see someone you love</td>\n",
       "      <td>I know this sounds weird but i guess let me ex...</td>\n",
       "      <td>mentalhealth</td>\n",
       "      <td>2021-01-20 06:05:53</td>\n",
       "      <td>1</td>\n",
       "      <td>49</td>\n",
       "      <td>11</td>\n",
       "      <td>0.2732</td>\n",
       "      <td>0.19</td>\n",
       "      <td>0.552</td>\n",
       "      <td>0.258</td>\n",
       "    </tr>\n",
       "    <tr>\n",
       "      <th>2</th>\n",
       "      <td>2</td>\n",
       "      <td>2</td>\n",
       "      <td>1611141523</td>\n",
       "      <td>https://www.reddit.com/r/mentalhealth/comments...</td>\n",
       "      <td>https://www.reddit.com/r/mentalhealth/comments...</td>\n",
       "      <td>l179ft</td>\n",
       "      <td>2</td>\n",
       "      <td>Somethings gotta give</td>\n",
       "      <td>Been living with my mom who has bad mental iss...</td>\n",
       "      <td>mentalhealth</td>\n",
       "      <td>2021-01-20 06:18:43</td>\n",
       "      <td>1</td>\n",
       "      <td>21</td>\n",
       "      <td>3</td>\n",
       "      <td>0.0000</td>\n",
       "      <td>0.00</td>\n",
       "      <td>1.000</td>\n",
       "      <td>0.000</td>\n",
       "    </tr>\n",
       "  </tbody>\n",
       "</table>\n",
       "</div>"
      ],
      "text/plain": [
       "   level_0  index  created_utc  \\\n",
       "0        0      0   1611140689   \n",
       "1        1      1   1611140753   \n",
       "2        2      2   1611141523   \n",
       "\n",
       "                                                 url  \\\n",
       "0  https://www.reddit.com/r/mentalhealth/comments...   \n",
       "1  https://www.reddit.com/r/mentalhealth/comments...   \n",
       "2  https://www.reddit.com/r/mentalhealth/comments...   \n",
       "\n",
       "                                           full_link      id  num_comments  \\\n",
       "0  https://www.reddit.com/r/mentalhealth/comments...  l172x7             3   \n",
       "1  https://www.reddit.com/r/mentalhealth/comments...  l173gi             7   \n",
       "2  https://www.reddit.com/r/mentalhealth/comments...  l179ft             2   \n",
       "\n",
       "                                               title  \\\n",
       "0  Has anyone else been completely unable to moni...   \n",
       "1  Is it normal to cry when you see someone you love   \n",
       "2                              Somethings gotta give   \n",
       "\n",
       "                                            selftext     subreddit  \\\n",
       "0  I had a psychotic break which seemed to come o...  mentalhealth   \n",
       "1  I know this sounds weird but i guess let me ex...  mentalhealth   \n",
       "2  Been living with my mom who has bad mental iss...  mentalhealth   \n",
       "\n",
       "             timestamp  is_mental  title_char_length  title_word_count  \\\n",
       "0  2021-01-20 06:04:49          1                 70                11   \n",
       "1  2021-01-20 06:05:53          1                 49                11   \n",
       "2  2021-01-20 06:18:43          1                 21                 3   \n",
       "\n",
       "   sentiment_comp  sentiment_neg  sentiment_neu  sentiment_pos  \n",
       "0          0.0000           0.00          1.000          0.000  \n",
       "1          0.2732           0.19          0.552          0.258  \n",
       "2          0.0000           0.00          1.000          0.000  "
      ]
     },
     "execution_count": 37,
     "metadata": {},
     "output_type": "execute_result"
    }
   ],
   "source": [
    "# Instantiate sentiment intesnity analyzer\n",
    "sia = SentimentIntensityAnalyzer()\n",
    "\n",
    "# create a column for the negative, neutral, positive, and compound analysis scores:\n",
    "df['sentiment_comp'] = df['title'].map(lambda x: sia.polarity_scores(x)['compound'])\n",
    "df['sentiment_neg'] = df['title'].map(lambda x: sia.polarity_scores(x)['neg'])\n",
    "df['sentiment_neu'] = df['title'].map(lambda x: sia.polarity_scores(x)['neu'])\n",
    "df['sentiment_pos'] = df['title'].map(lambda x: sia.polarity_scores(x)['pos'])\n",
    "\n",
    "# Check code execution\n",
    "df.head(3)"
   ]
  },
  {
   "cell_type": "code",
   "execution_count": 38,
   "metadata": {},
   "outputs": [
    {
     "name": "stdout",
     "output_type": "stream",
     "text": [
      "sentiment_comp   -0.109791\n",
      "dtype: float64\n",
      "sentiment_neg    0.196247\n",
      "dtype: float64\n",
      "sentiment_neu    0.690436\n",
      "dtype: float64\n",
      "sentiment_pos    0.11332\n",
      "dtype: float64\n"
     ]
    }
   ],
   "source": [
    "# Average sentiment of r/mentalhealth\n",
    "print(df[df['is_mental']==1][['sentiment_comp']].mean())\n",
    "print(df[df['is_mental']==1][['sentiment_neg']].mean())\n",
    "print(df[df['is_mental']==1][['sentiment_neu']].mean())\n",
    "print(df[df['is_mental']==1][['sentiment_pos']].mean())"
   ]
  },
  {
   "cell_type": "code",
   "execution_count": 39,
   "metadata": {},
   "outputs": [
    {
     "name": "stdout",
     "output_type": "stream",
     "text": [
      "sentiment_comp    0.006475\n",
      "dtype: float64\n",
      "sentiment_neg    0.072777\n",
      "dtype: float64\n",
      "sentiment_neu    0.853274\n",
      "dtype: float64\n",
      "sentiment_pos    0.073945\n",
      "dtype: float64\n"
     ]
    }
   ],
   "source": [
    "# Average sentiment of r/CoronavirusUS\n",
    "print(df[df['is_mental']==0][['sentiment_comp']].mean())\n",
    "print(df[df['is_mental']==0][['sentiment_neg']].mean())\n",
    "print(df[df['is_mental']==0][['sentiment_neu']].mean())\n",
    "print(df[df['is_mental']==0][['sentiment_pos']].mean())"
   ]
  },
  {
   "cell_type": "code",
   "execution_count": 40,
   "metadata": {},
   "outputs": [
    {
     "data": {
      "image/png": "[encoded data removed]",
      "text/plain": [
       "<Figure size 432x288 with 1 Axes>"
      ]
     },
     "metadata": {
      "needs_background": "light"
     },
     "output_type": "display_data"
    }
   ],
   "source": [
    "# Histogram of sentiment compound score\n",
    "plt.title('Distribution of Sentiment Compound Score')\n",
    "plt.xlabel('Compound Score')\n",
    "plt.ylabel('Frequency')\n",
    "plt.hist(x=df[df['is_mental']==1]['sentiment_comp'],\n",
    "         bins=25, alpha=0.5, label='MH')\n",
    "plt.hist(x=df[df['is_mental']==0]['sentiment_comp'],\n",
    "         bins=25, alpha=0.5, label='COVID')\n",
    "plt.legend();"
   ]
  },
  {
   "cell_type": "code",
   "execution_count": 41,
   "metadata": {},
   "outputs": [
    {
     "data": {
      "image/png": "[encoded data removed]",
      "text/plain": [
       "<Figure size 576x432 with 1 Axes>"
      ]
     },
     "metadata": {
      "needs_background": "light"
     },
     "output_type": "display_data"
    }
   ],
   "source": [
    "# Boxplot for sentiment compound scores\n",
    "df.boxplot('sentiment_comp', by='is_mental', figsize=(8,6))\n",
    "plt.title('Sentiment Compound Scores');"
   ]
  },
  {
   "cell_type": "markdown",
   "metadata": {},
   "source": [
    "# Add Legend or better labels\n",
    "This shows how the mentalhealth subreddit is largely negative with several positive outliers, whereas the coronavirus subreddit is interpetted as being alrgely neutral"
   ]
  },
  {
   "cell_type": "code",
   "execution_count": 42,
   "metadata": {},
   "outputs": [
    {
     "data": {
      "text/html": [
       "<div>\n",
       "<style scoped>\n",
       "    .dataframe tbody tr th:only-of-type {\n",
       "        vertical-align: middle;\n",
       "    }\n",
       "\n",
       "    .dataframe tbody tr th {\n",
       "        vertical-align: top;\n",
       "    }\n",
       "\n",
       "    .dataframe thead th {\n",
       "        text-align: right;\n",
       "    }\n",
       "</style>\n",
       "<table border=\"1\" class=\"dataframe\">\n",
       "  <thead>\n",
       "    <tr style=\"text-align: right;\">\n",
       "      <th></th>\n",
       "      <th>word</th>\n",
       "      <th>word_count</th>\n",
       "    </tr>\n",
       "  </thead>\n",
       "  <tbody>\n",
       "    <tr>\n",
       "      <th>0</th>\n",
       "      <td>help</td>\n",
       "      <td>157</td>\n",
       "    </tr>\n",
       "    <tr>\n",
       "      <th>1</th>\n",
       "      <td>mental</td>\n",
       "      <td>154</td>\n",
       "    </tr>\n",
       "    <tr>\n",
       "      <th>2</th>\n",
       "      <td>feel</td>\n",
       "      <td>152</td>\n",
       "    </tr>\n",
       "    <tr>\n",
       "      <th>3</th>\n",
       "      <td>don</td>\n",
       "      <td>126</td>\n",
       "    </tr>\n",
       "    <tr>\n",
       "      <th>4</th>\n",
       "      <td>like</td>\n",
       "      <td>112</td>\n",
       "    </tr>\n",
       "  </tbody>\n",
       "</table>\n",
       "</div>"
      ],
      "text/plain": [
       "     word  word_count\n",
       "0    help         157\n",
       "1  mental         154\n",
       "2    feel         152\n",
       "3     don         126\n",
       "4    like         112"
      ]
     },
     "execution_count": 42,
     "metadata": {},
     "output_type": "execute_result"
    }
   ],
   "source": [
    "# Count the most commonly used words for r/mentalhealth\n",
    "\n",
    "# Define X\n",
    "X = df[df['is_mental']==1]['title']\n",
    "\n",
    "# Instantiate a CV object\n",
    "cv = CountVectorizer(stop_words='english')\n",
    "\n",
    "# Fit the CV on posts\n",
    "cv.fit(X)\n",
    "\n",
    "# Transform data\n",
    "X_cv = cv.transform(X)\n",
    "\n",
    "# Convert to a dataframe\n",
    "cv_df = pd.DataFrame(X_cv.todense(),columns=cv.get_feature_names())\n",
    "\n",
    "# Create a mh dataframe containing the 100 most common words and word count\n",
    "mh_cv_df = pd.DataFrame(data=cv_df.sum().sort_values(ascending=False).head(100),\n",
    "                        columns=['word_count'])\n",
    "\n",
    "# Change index to a column\n",
    "mh_cv_df.reset_index(inplace=True)\n",
    "mh_cv_df = mh_cv_df.rename(columns={'index':'word'})\n",
    "\n",
    "# Save wsb_cv_df to csv\n",
    "mh_cv_df.to_csv('../data/mh_words.csv', index=False)\n",
    "\n",
    "# Check code execution\n",
    "mh_cv_df.head()"
   ]
  },
  {
   "cell_type": "code",
   "execution_count": 43,
   "metadata": {},
   "outputs": [
    {
     "data": {
      "image/png": "[encoded data removed]",
      "text/plain": [
       "<Figure size 432x288 with 1 Axes>"
      ]
     },
     "metadata": {
      "needs_background": "light"
     },
     "output_type": "display_data"
    }
   ],
   "source": [
    "# Bar chart of the 20 most commonly seen words in r/mentalhealth\n",
    "plt.barh(y=mh_cv_df['word'].head(20), width=mh_cv_df['word_count'].head(20))\n",
    "plt.title('20 Most Common Words in r/mentalhealth')\n",
    "plt.xlabel('Word Count')\n",
    "plt.ylabel('Word');"
   ]
  },
  {
   "cell_type": "code",
   "execution_count": 44,
   "metadata": {},
   "outputs": [
    {
     "data": {
      "text/html": [
       "<div>\n",
       "<style scoped>\n",
       "    .dataframe tbody tr th:only-of-type {\n",
       "        vertical-align: middle;\n",
       "    }\n",
       "\n",
       "    .dataframe tbody tr th {\n",
       "        vertical-align: top;\n",
       "    }\n",
       "\n",
       "    .dataframe thead th {\n",
       "        text-align: right;\n",
       "    }\n",
       "</style>\n",
       "<table border=\"1\" class=\"dataframe\">\n",
       "  <thead>\n",
       "    <tr style=\"text-align: right;\">\n",
       "      <th></th>\n",
       "      <th>word</th>\n",
       "      <th>word_count</th>\n",
       "    </tr>\n",
       "  </thead>\n",
       "  <tbody>\n",
       "    <tr>\n",
       "      <th>0</th>\n",
       "      <td>covid</td>\n",
       "      <td>779</td>\n",
       "    </tr>\n",
       "    <tr>\n",
       "      <th>1</th>\n",
       "      <td>19</td>\n",
       "      <td>475</td>\n",
       "    </tr>\n",
       "    <tr>\n",
       "      <th>2</th>\n",
       "      <td>vaccine</td>\n",
       "      <td>450</td>\n",
       "    </tr>\n",
       "    <tr>\n",
       "      <th>3</th>\n",
       "      <td>coronavirus</td>\n",
       "      <td>157</td>\n",
       "    </tr>\n",
       "    <tr>\n",
       "      <th>4</th>\n",
       "      <td>new</td>\n",
       "      <td>134</td>\n",
       "    </tr>\n",
       "  </tbody>\n",
       "</table>\n",
       "</div>"
      ],
      "text/plain": [
       "          word  word_count\n",
       "0        covid         779\n",
       "1           19         475\n",
       "2      vaccine         450\n",
       "3  coronavirus         157\n",
       "4          new         134"
      ]
     },
     "execution_count": 44,
     "metadata": {},
     "output_type": "execute_result"
    }
   ],
   "source": [
    "# Count the most commonly used words for r/CoronavirusUS\n",
    "\n",
    "# Define X\n",
    "X = df[df['is_mental']==0]['title']\n",
    "\n",
    "# Instantiate a CV object\n",
    "cv = CountVectorizer(stop_words='english')\n",
    "\n",
    "# Fit the CV on posts\n",
    "cv.fit(X)\n",
    "\n",
    "# Transform data\n",
    "X_cv = cv.transform(X)\n",
    "\n",
    "# Convert to a dataframe\n",
    "cv_df = pd.DataFrame(X_cv.todense(),columns=cv.get_feature_names())\n",
    "\n",
    "# Create a mh dataframe containing the 100 most common words and word count\n",
    "covid_cv_df = pd.DataFrame(data=cv_df.sum().sort_values(ascending=False).head(100),\n",
    "                        columns=['word_count'])\n",
    "\n",
    "# Change index to a column\n",
    "covid_cv_df.reset_index(inplace=True)\n",
    "covid_cv_df = covid_cv_df.rename(columns={'index':'word'})\n",
    "\n",
    "# Save wsb_cv_df to csv\n",
    "covid_cv_df.to_csv('../data/covid_words.csv', index=False)\n",
    "\n",
    "# Check code execution\n",
    "covid_cv_df.head()"
   ]
  },
  {
   "cell_type": "code",
   "execution_count": 45,
   "metadata": {},
   "outputs": [
    {
     "data": {
      "image/png": "[encoded data removed]",
      "text/plain": [
       "<Figure size 432x288 with 1 Axes>"
      ]
     },
     "metadata": {
      "needs_background": "light"
     },
     "output_type": "display_data"
    }
   ],
   "source": [
    "# Bar chart of the 20 most commonly seen words in r/CoronavirusUS\n",
    "plt.barh(y=covid_cv_df['word'].head(20), width=covid_cv_df['word_count'].head(20))\n",
    "plt.title('20 Most Common Words in r/CoronavirusUS')\n",
    "plt.xlabel('Word Count')\n",
    "plt.ylabel('Word');"
   ]
  },
  {
   "cell_type": "code",
   "execution_count": 46,
   "metadata": {},
   "outputs": [
    {
     "name": "stdout",
     "output_type": "stream",
     "text": [
      "24\n",
      "['help', 'don', 'like', 'health', 'know', 'just', 'need', 'does', 'life', 'people', 'time', 'going', 'getting', 'day', 've', 'today', 'right', 'new', 'long', 'got', 'amp', 'best', 'say', 'question']\n"
     ]
    }
   ],
   "source": [
    "# Find matches for the 100 most common words in both subreddits\n",
    "common_words = []\n",
    "for word in mh_cv_df['word']:\n",
    "    if word in list(covid_cv_df['word']):\n",
    "        common_words.append(word)\n",
    "print(len(common_words))\n",
    "print(common_words)"
   ]
  },
  {
   "cell_type": "markdown",
   "metadata": {},
   "source": [
    "Interpretation: Of the 100 most commonly found words in the WSB and SSB subreddits, 41 words are shared between the two. A 41% match is high and indicates that a lot of terminology is common to users of both subreddits. This may limit the accuracy of any predictive models built to distinguish the two subreddits."
   ]
  },
  {
   "cell_type": "code",
   "execution_count": 47,
   "metadata": {},
   "outputs": [
    {
     "data": {
      "text/html": [
       "<div>\n",
       "<style scoped>\n",
       "    .dataframe tbody tr th:only-of-type {\n",
       "        vertical-align: middle;\n",
       "    }\n",
       "\n",
       "    .dataframe tbody tr th {\n",
       "        vertical-align: top;\n",
       "    }\n",
       "\n",
       "    .dataframe thead th {\n",
       "        text-align: right;\n",
       "    }\n",
       "</style>\n",
       "<table border=\"1\" class=\"dataframe\">\n",
       "  <thead>\n",
       "    <tr style=\"text-align: right;\">\n",
       "      <th></th>\n",
       "      <th>shared_word</th>\n",
       "    </tr>\n",
       "  </thead>\n",
       "  <tbody>\n",
       "    <tr>\n",
       "      <th>0</th>\n",
       "      <td>help</td>\n",
       "    </tr>\n",
       "    <tr>\n",
       "      <th>1</th>\n",
       "      <td>don</td>\n",
       "    </tr>\n",
       "    <tr>\n",
       "      <th>2</th>\n",
       "      <td>like</td>\n",
       "    </tr>\n",
       "    <tr>\n",
       "      <th>3</th>\n",
       "      <td>health</td>\n",
       "    </tr>\n",
       "    <tr>\n",
       "      <th>4</th>\n",
       "      <td>know</td>\n",
       "    </tr>\n",
       "  </tbody>\n",
       "</table>\n",
       "</div>"
      ],
      "text/plain": [
       "  shared_word\n",
       "0        help\n",
       "1         don\n",
       "2        like\n",
       "3      health\n",
       "4        know"
      ]
     },
     "execution_count": 47,
     "metadata": {},
     "output_type": "execute_result"
    }
   ],
   "source": [
    "common_words_df = pd.DataFrame(data = common_words, columns = ['shared_word'])\n",
    "common_words_df.head()"
   ]
  },
  {
   "cell_type": "code",
   "execution_count": 48,
   "metadata": {},
   "outputs": [],
   "source": [
    "# Create a dictionary for r/mentalhealth shared word count\n",
    "mh_shared_word_count = {}\n",
    "for word in common_words_df['shared_word']:\n",
    "    index = 0\n",
    "    for i in mh_cv_df['word']:\n",
    "        if word == i:\n",
    "            mh_shared_word_count[word] = mh_cv_df['word_count'][index]\n",
    "        index += 1"
   ]
  },
  {
   "cell_type": "code",
   "execution_count": 49,
   "metadata": {},
   "outputs": [
    {
     "data": {
      "text/html": [
       "<div>\n",
       "<style scoped>\n",
       "    .dataframe tbody tr th:only-of-type {\n",
       "        vertical-align: middle;\n",
       "    }\n",
       "\n",
       "    .dataframe tbody tr th {\n",
       "        vertical-align: top;\n",
       "    }\n",
       "\n",
       "    .dataframe thead th {\n",
       "        text-align: right;\n",
       "    }\n",
       "</style>\n",
       "<table border=\"1\" class=\"dataframe\">\n",
       "  <thead>\n",
       "    <tr style=\"text-align: right;\">\n",
       "      <th></th>\n",
       "      <th>shared_word</th>\n",
       "      <th>mh_word_count</th>\n",
       "    </tr>\n",
       "  </thead>\n",
       "  <tbody>\n",
       "    <tr>\n",
       "      <th>0</th>\n",
       "      <td>help</td>\n",
       "      <td>157</td>\n",
       "    </tr>\n",
       "    <tr>\n",
       "      <th>1</th>\n",
       "      <td>don</td>\n",
       "      <td>126</td>\n",
       "    </tr>\n",
       "    <tr>\n",
       "      <th>2</th>\n",
       "      <td>like</td>\n",
       "      <td>112</td>\n",
       "    </tr>\n",
       "    <tr>\n",
       "      <th>3</th>\n",
       "      <td>health</td>\n",
       "      <td>111</td>\n",
       "    </tr>\n",
       "    <tr>\n",
       "      <th>4</th>\n",
       "      <td>know</td>\n",
       "      <td>94</td>\n",
       "    </tr>\n",
       "  </tbody>\n",
       "</table>\n",
       "</div>"
      ],
      "text/plain": [
       "  shared_word  mh_word_count\n",
       "0        help            157\n",
       "1         don            126\n",
       "2        like            112\n",
       "3      health            111\n",
       "4        know             94"
      ]
     },
     "execution_count": 49,
     "metadata": {},
     "output_type": "execute_result"
    }
   ],
   "source": [
    "# Create a new column with r/mentalhealth word count\n",
    "common_words_df['mh_word_count'] = common_words_df['shared_word'].map(mh_shared_word_count)\n",
    "\n",
    "common_words_df.head()"
   ]
  },
  {
   "cell_type": "code",
   "execution_count": 50,
   "metadata": {},
   "outputs": [],
   "source": [
    "# Create a dictionary for r/CoronavirusUS shared word count\n",
    "covid_shared_word_count = {}\n",
    "for word in common_words_df['shared_word']:\n",
    "    index = 0\n",
    "    for i in covid_cv_df['word']:\n",
    "        if word == i:\n",
    "            covid_shared_word_count[word] = covid_cv_df['word_count'][index]\n",
    "        index += 1"
   ]
  },
  {
   "cell_type": "code",
   "execution_count": 51,
   "metadata": {},
   "outputs": [
    {
     "data": {
      "text/html": [
       "<div>\n",
       "<style scoped>\n",
       "    .dataframe tbody tr th:only-of-type {\n",
       "        vertical-align: middle;\n",
       "    }\n",
       "\n",
       "    .dataframe tbody tr th {\n",
       "        vertical-align: top;\n",
       "    }\n",
       "\n",
       "    .dataframe thead th {\n",
       "        text-align: right;\n",
       "    }\n",
       "</style>\n",
       "<table border=\"1\" class=\"dataframe\">\n",
       "  <thead>\n",
       "    <tr style=\"text-align: right;\">\n",
       "      <th></th>\n",
       "      <th>shared_word</th>\n",
       "      <th>mh_word_count</th>\n",
       "      <th>covid_word_count</th>\n",
       "    </tr>\n",
       "  </thead>\n",
       "  <tbody>\n",
       "    <tr>\n",
       "      <th>0</th>\n",
       "      <td>help</td>\n",
       "      <td>157</td>\n",
       "      <td>41</td>\n",
       "    </tr>\n",
       "    <tr>\n",
       "      <th>1</th>\n",
       "      <td>don</td>\n",
       "      <td>126</td>\n",
       "      <td>26</td>\n",
       "    </tr>\n",
       "    <tr>\n",
       "      <th>2</th>\n",
       "      <td>like</td>\n",
       "      <td>112</td>\n",
       "      <td>28</td>\n",
       "    </tr>\n",
       "    <tr>\n",
       "      <th>3</th>\n",
       "      <td>health</td>\n",
       "      <td>111</td>\n",
       "      <td>68</td>\n",
       "    </tr>\n",
       "    <tr>\n",
       "      <th>4</th>\n",
       "      <td>know</td>\n",
       "      <td>94</td>\n",
       "      <td>25</td>\n",
       "    </tr>\n",
       "  </tbody>\n",
       "</table>\n",
       "</div>"
      ],
      "text/plain": [
       "  shared_word  mh_word_count  covid_word_count\n",
       "0        help            157                41\n",
       "1         don            126                26\n",
       "2        like            112                28\n",
       "3      health            111                68\n",
       "4        know             94                25"
      ]
     },
     "execution_count": 51,
     "metadata": {},
     "output_type": "execute_result"
    }
   ],
   "source": [
    "# Create a new column with r/mentalhealth word count\n",
    "common_words_df['covid_word_count'] = common_words_df['shared_word'].map(covid_shared_word_count)\n",
    "\n",
    "common_words_df.head()"
   ]
  },
  {
   "cell_type": "code",
   "execution_count": 53,
   "metadata": {},
   "outputs": [
    {
     "data": {
      "text/plain": [
       "24"
      ]
     },
     "execution_count": 53,
     "metadata": {},
     "output_type": "execute_result"
    }
   ],
   "source": [
    "# Check length of dataframe to make sure it equals 24\n",
    "len(common_words_df)"
   ]
  },
  {
   "cell_type": "code",
   "execution_count": 54,
   "metadata": {},
   "outputs": [
    {
     "data": {
      "text/html": [
       "<div>\n",
       "<style scoped>\n",
       "    .dataframe tbody tr th:only-of-type {\n",
       "        vertical-align: middle;\n",
       "    }\n",
       "\n",
       "    .dataframe tbody tr th {\n",
       "        vertical-align: top;\n",
       "    }\n",
       "\n",
       "    .dataframe thead th {\n",
       "        text-align: right;\n",
       "    }\n",
       "</style>\n",
       "<table border=\"1\" class=\"dataframe\">\n",
       "  <thead>\n",
       "    <tr style=\"text-align: right;\">\n",
       "      <th></th>\n",
       "      <th>shared_word</th>\n",
       "      <th>mh_word_count</th>\n",
       "      <th>covid_word_count</th>\n",
       "      <th>total_word_count</th>\n",
       "    </tr>\n",
       "  </thead>\n",
       "  <tbody>\n",
       "    <tr>\n",
       "      <th>0</th>\n",
       "      <td>help</td>\n",
       "      <td>157</td>\n",
       "      <td>41</td>\n",
       "      <td>198</td>\n",
       "    </tr>\n",
       "    <tr>\n",
       "      <th>1</th>\n",
       "      <td>don</td>\n",
       "      <td>126</td>\n",
       "      <td>26</td>\n",
       "      <td>152</td>\n",
       "    </tr>\n",
       "    <tr>\n",
       "      <th>2</th>\n",
       "      <td>like</td>\n",
       "      <td>112</td>\n",
       "      <td>28</td>\n",
       "      <td>140</td>\n",
       "    </tr>\n",
       "    <tr>\n",
       "      <th>3</th>\n",
       "      <td>health</td>\n",
       "      <td>111</td>\n",
       "      <td>68</td>\n",
       "      <td>179</td>\n",
       "    </tr>\n",
       "    <tr>\n",
       "      <th>4</th>\n",
       "      <td>know</td>\n",
       "      <td>94</td>\n",
       "      <td>25</td>\n",
       "      <td>119</td>\n",
       "    </tr>\n",
       "  </tbody>\n",
       "</table>\n",
       "</div>"
      ],
      "text/plain": [
       "  shared_word  mh_word_count  covid_word_count  total_word_count\n",
       "0        help            157                41               198\n",
       "1         don            126                26               152\n",
       "2        like            112                28               140\n",
       "3      health            111                68               179\n",
       "4        know             94                25               119"
      ]
     },
     "execution_count": 54,
     "metadata": {},
     "output_type": "execute_result"
    }
   ],
   "source": [
    "# Create a new column for total word count\n",
    "common_words_df['total_word_count'] = common_words_df['mh_word_count'] + common_words_df['covid_word_count']\n",
    "\n",
    "# Check code execution\n",
    "common_words_df.head(5)"
   ]
  },
  {
   "cell_type": "code",
   "execution_count": 55,
   "metadata": {},
   "outputs": [
    {
     "data": {
      "image/png": "[encoded data removed]",
      "text/plain": [
       "<Figure size 432x288 with 1 Axes>"
      ]
     },
     "metadata": {
      "needs_background": "light"
     },
     "output_type": "display_data"
    }
   ],
   "source": [
    "# Histogram of 24 most common words shared between both subreddits\n",
    "plt.title('Distribution of Most Common Words Shared between r/mentalhealth and r/CoronavirusUS')\n",
    "plt.xlabel('Word Count')\n",
    "plt.ylabel('Frequency')\n",
    "plt.hist(x=common_words_df['mh_word_count'],\n",
    "         bins=30, alpha=0.5, label='MH')\n",
    "plt.hist(x=common_words_df['covid_word_count'],\n",
    "         bins=30, alpha=0.5, label='COVID')\n",
    "plt.legend();"
   ]
  },
  {
   "cell_type": "code",
   "execution_count": 56,
   "metadata": {},
   "outputs": [],
   "source": [
    "# change this to a ~double bar graph, to show the differences between each word as the x labels\n",
    "# This histogram doesn't really tell me anything"
   ]
  },
  {
   "cell_type": "code",
   "execution_count": 60,
   "metadata": {},
   "outputs": [],
   "source": [
    "# Save common_words_df to csv\n",
    "common_words_df.to_csv('../data/shared_words.csv', index = False)"
   ]
  },
  {
   "cell_type": "code",
   "execution_count": 61,
   "metadata": {},
   "outputs": [],
   "source": [
    "# Save cleaned posts as csv file\n",
    "df.to_csv('../data/cleaned_posts.csv', index=False)"
   ]
  },
  {
   "cell_type": "code",
   "execution_count": null,
   "metadata": {},
   "outputs": [],
   "source": []
  },
  {
   "cell_type": "code",
   "execution_count": null,
   "metadata": {},
   "outputs": [],
   "source": []
  },
  {
   "cell_type": "code",
   "execution_count": null,
   "metadata": {},
   "outputs": [],
   "source": []
  },
  {
   "cell_type": "code",
   "execution_count": null,
   "metadata": {},
   "outputs": [],
   "source": []
  },
  {
   "cell_type": "code",
   "execution_count": null,
   "metadata": {},
   "outputs": [],
   "source": []
  },
  {
   "cell_type": "code",
   "execution_count": null,
   "metadata": {},
   "outputs": [],
   "source": []
  },
  {
   "cell_type": "code",
   "execution_count": null,
   "metadata": {},
   "outputs": [],
   "source": []
  },
  {
   "cell_type": "markdown",
   "metadata": {},
   "source": [
    "### Visualize correlation/distribution"
   ]
  },
  {
   "cell_type": "code",
   "execution_count": null,
   "metadata": {
    "scrolled": true
   },
   "outputs": [],
   "source": [
    "sns.pairplot(df);"
   ]
  },
  {
   "cell_type": "markdown",
   "metadata": {},
   "source": [
    "There appears to be a larger distribution with regards to the number of comments attribute to a post for the r/Coronavirus subreddit (is_mental = 0) than for posts on r/mentalhealth (is_mental = 1)"
   ]
  },
  {
   "cell_type": "code",
   "execution_count": null,
   "metadata": {
    "scrolled": true
   },
   "outputs": [],
   "source": [
    "df.is_mental.value_counts()"
   ]
  },
  {
   "cell_type": "code",
   "execution_count": null,
   "metadata": {
    "scrolled": true
   },
   "outputs": [],
   "source": [
    "# Checking the title of posts in the r/mentalhealth subreddit\n",
    "df.loc[df.is_mental == 1, 'title'].head(20)"
   ]
  },
  {
   "cell_type": "code",
   "execution_count": null,
   "metadata": {
    "scrolled": true
   },
   "outputs": [],
   "source": [
    "# Checking the title of posts in the r/Coronavirus subreddit\n",
    "df.loc[df.is_mental == 0, 'title'].head(20)"
   ]
  },
  {
   "cell_type": "markdown",
   "metadata": {},
   "source": [
    "Need to get rid of dollar signs, percent signs, slashes, question marks, quotations"
   ]
  },
  {
   "cell_type": "markdown",
   "metadata": {},
   "source": [
    "## Preprocessing"
   ]
  },
  {
   "cell_type": "code",
   "execution_count": null,
   "metadata": {
    "scrolled": true
   },
   "outputs": [],
   "source": [
    "# Preprocessing function\n",
    "def titles_to_words(raw_title):\n",
    "    \n",
    "    # Get rid of accents\n",
    "    unaccented = unidecode.unidecode(raw_title)\n",
    "    \n",
    "    # Get rid of punctuation\n",
    "    letters_only = re.sub(\"&[^a-zA-Z]\", \" \", unaccented)\n",
    "    \n",
    "    # Get all lowercase words\n",
    "    words = letters_only.lower().split()\n",
    "    \n",
    "    # Instantiate and run Lemmatizer\n",
    "    lemmatizer = WordNetLemmatizer()\n",
    "    tokens_lem = [lemmatizer.lemmatize(i) for i in words]\n",
    "    \n",
    "    # Remove stop words\n",
    "    stops = set(stopwords.words('english'))\n",
    "    meaningful_words = [w for w in words if not w in stops]\n",
    "    \n",
    "    # Join into string and return the result.\n",
    "    return(\" \".join(meaningful_words))"
   ]
  },
  {
   "cell_type": "code",
   "execution_count": null,
   "metadata": {
    "scrolled": true
   },
   "outputs": [],
   "source": [
    "# Clean all titles\n",
    "total_titles = df.shape[0]\n",
    "clean_titles = []\n",
    "\n",
    "print(\"Cleaning and parsing the titles...\")\n",
    "\n",
    "j = 0\n",
    "for title in df['title']:\n",
    "    # Convert to words, then append to clean_train\n",
    "    clean_titles.append(titles_to_words(title))\n",
    "    \n",
    "    # If the index is divisible by 1000, print a message\n",
    "    if (j+1) % 1000 == 0:\n",
    "        print(f'Comment {j+1} of {total_titles}.')\n",
    "    \n",
    "    j += 1\n",
    "    \n",
    "    if j == total_titles:\n",
    "        print('Done.')"
   ]
  },
  {
   "cell_type": "code",
   "execution_count": null,
   "metadata": {
    "scrolled": true
   },
   "outputs": [],
   "source": [
    "# Add cleaned titles to dataframe\n",
    "df = df.assign(clean_title = clean_titles)\n",
    "df.head(3)"
   ]
  },
  {
   "cell_type": "code",
   "execution_count": null,
   "metadata": {
    "scrolled": true
   },
   "outputs": [],
   "source": [
    "df[['num_comments', 'title', 'selftext', 'is_mental', 'clean_title', 'title_char_length', 'title_word_count']].to_csv('./data/cleaned_subreddits_1.csv')"
   ]
  },
  {
   "cell_type": "markdown",
   "metadata": {},
   "source": [
    "Train/Test/Split"
   ]
  },
  {
   "cell_type": "code",
   "execution_count": null,
   "metadata": {
    "scrolled": true
   },
   "outputs": [],
   "source": [
    "# omitting 'uncleanned title' and 'selftext' from the features list\n",
    "features = ['num_comments', 'clean_title', 'title_char_length', 'title_word_count']"
   ]
  },
  {
   "cell_type": "markdown",
   "metadata": {},
   "source": [
    "I'm going to start off with a model that only uses the clean title as a feature"
   ]
  },
  {
   "cell_type": "code",
   "execution_count": null,
   "metadata": {
    "scrolled": true
   },
   "outputs": [],
   "source": [
    "# features and target\n",
    "X = df['clean_title']\n",
    "y = df['is_mental']"
   ]
  },
  {
   "cell_type": "code",
   "execution_count": null,
   "metadata": {
    "scrolled": true
   },
   "outputs": [],
   "source": [
    "X_train, X_test, y_train, y_test = train_test_split(X, y, stratify = y, random_state = 42)"
   ]
  },
  {
   "cell_type": "markdown",
   "metadata": {},
   "source": [
    "Baseline score"
   ]
  },
  {
   "cell_type": "code",
   "execution_count": null,
   "metadata": {
    "scrolled": true
   },
   "outputs": [],
   "source": [
    "y_train.value_counts(normalize=True)"
   ]
  },
  {
   "cell_type": "markdown",
   "metadata": {},
   "source": [
    "This baseline score means that if a model were to predict that a post comes from r/mentalhealth subreddit, it would be correct 51% of the time. In order for a model that I develop to be considered useful, it must correctly predict that a post comes from the r/mentalhealth subreddit more than 51% of the time."
   ]
  },
  {
   "cell_type": "code",
   "execution_count": null,
   "metadata": {
    "scrolled": true
   },
   "outputs": [],
   "source": [
    "X_train.head()"
   ]
  },
  {
   "cell_type": "markdown",
   "metadata": {},
   "source": [
    "Fit the text data in order to be modeled"
   ]
  },
  {
   "cell_type": "code",
   "execution_count": null,
   "metadata": {
    "scrolled": true
   },
   "outputs": [],
   "source": [
    "vect = CountVectorizer()\n",
    "\n",
    "# Fit the vectorizer on our corpus and transform\n",
    "X_train_vect = vect.fit_transform(X_train)\n",
    "X_train_vect = pd.DataFrame(X_train_vect.toarray(), columns=vect.get_feature_names())\n",
    "\n",
    "# Transform the test set\n",
    "X_test_vect = vect.transform(X_test)"
   ]
  },
  {
   "cell_type": "code",
   "execution_count": null,
   "metadata": {
    "scrolled": true
   },
   "outputs": [],
   "source": [
    "len(vect.get_feature_names())"
   ]
  },
  {
   "cell_type": "code",
   "execution_count": null,
   "metadata": {
    "scrolled": true
   },
   "outputs": [],
   "source": [
    "X_train_vect.head()"
   ]
  },
  {
   "cell_type": "markdown",
   "metadata": {},
   "source": [
    "Classifcation models"
   ]
  },
  {
   "cell_type": "code",
   "execution_count": null,
   "metadata": {
    "scrolled": true
   },
   "outputs": [],
   "source": [
    "# Instantiate model\n",
    "rf = RandomForestClassifier(random_state=42, verbose=0)\n",
    "cross_val_score(rf, X_train_vect, y_train)\n",
    "\n",
    "# Set model params for GridSearch\n",
    "rf_params = {\n",
    "    'n_estimators': [15, 20, 25],\n",
    "    'max_depth': [20, 50, 100]\n",
    "}\n",
    "\n",
    "# Do GridSearch\n",
    "gs = GridSearchCV(rf, param_grid=rf_params, cv=3)\n",
    "gs.fit(X_train_vect, y_train)\n",
    "print(gs.best_score_)\n",
    "print(gs.best_params_)"
   ]
  },
  {
   "cell_type": "code",
   "execution_count": null,
   "metadata": {
    "scrolled": true
   },
   "outputs": [],
   "source": [
    "# Commenting out so this will not run every time\n",
    "# Instantiate model\n",
    "rf = RandomForestClassifier(max_depth = 100, n_estimators=20, random_state=42)\n",
    "\n",
    "# Fit model\n",
    "rf.fit(X_train_vect, y_train)\n",
    "\n",
    "# Get scores\n",
    "print('CV score:', cross_val_score(rf, X_train_vect, y_train, cv=3).mean())\n",
    "print('Training accuracy:', rf.score(X_train_vect, y_train))\n",
    "print('Testing accuracy:', rf.score(X_test_vect, y_test))"
   ]
  },
  {
   "cell_type": "code",
   "execution_count": null,
   "metadata": {
    "scrolled": true
   },
   "outputs": [],
   "source": [
    "# Instantiate model\n",
    "logreg = LogisticRegression(solver='liblinear', penalty = \"l1\")\n",
    "\n",
    "# Fit on training data.\n",
    "logreg.fit(X_train_vect, y_train)\n",
    "\n",
    "# Get scores\n",
    "print('CV score:', cross_val_score(logreg, X_train_vect, y_train, cv=3).mean())\n",
    "print('Training accuracy:', logreg.score(X_train_vect, y_train))\n",
    "print('Testing accuracy:', logreg.score(X_test_vect, y_test))"
   ]
  },
  {
   "cell_type": "code",
   "execution_count": null,
   "metadata": {
    "scrolled": true
   },
   "outputs": [],
   "source": [
    "# Instantiate model\n",
    "nb = MultinomialNB(.7)\n",
    "\n",
    "# Fit model\n",
    "nb.fit(X_train_vect, y_train)\n",
    "\n",
    "# Get scores\n",
    "print('CV score:', cross_val_score(nb, X_train_vect, y_train, cv=3).mean())\n",
    "print('Training accuracy:', nb.score(X_train_vect, y_train))\n",
    "print('Testing accuracy:', nb.score(X_test_vect, y_test))"
   ]
  },
  {
   "cell_type": "markdown",
   "metadata": {},
   "source": [
    "### Evaluation of Models\n",
    "**Random Forest Classifier** had the highest training accuracy\n",
    "\n",
    "**Multinomial Naive Bayes** had the highest testing accuracy\n",
    "\n",
    "**Logistic Regression with lasso regularization** had a testing accuracy that is closest to its training accuracy relative to the other two models, meaning that it is the least overfit model out of the three models. \n",
    "\n",
    "**Because of this, I'm going to create predictions using the Logistic Regression model**"
   ]
  },
  {
   "cell_type": "code",
   "execution_count": null,
   "metadata": {
    "scrolled": true
   },
   "outputs": [],
   "source": [
    "# Create confusion matrix\n",
    "predictions = logreg.predict(X_test_vect)\n",
    "cm = confusion_matrix(y_test, predictions)\n",
    "cm_df = pd.DataFrame(cm, columns=['predict neg', 'predict pos'], index=['actual neg', 'actual pos'])\n",
    "cm_df"
   ]
  },
  {
   "cell_type": "code",
   "execution_count": null,
   "metadata": {
    "scrolled": true
   },
   "outputs": [],
   "source": [
    "# Calculating classification metrics using the logistic regression model\n",
    "tn, fp, fn, tp = confusion_matrix(y_test, predictions).ravel()\n",
    "\n",
    "accuracy = (tp + tn) / (tp + fn + fp + tn) * 100\n",
    "misclassification = (100 - accuracy)\n",
    "sensitivity = tp / (tp + fn) * 100\n",
    "specificity = tn / (tn + fp) * 100\n",
    "precision = tp / (tp + fp) * 100\n",
    "\n",
    "print(f'Accuracy: {round(accuracy, 2)}%')\n",
    "print(f'Misclassification rate: {round(misclassification, 2)}%')\n",
    "print(f'Recall / Sensitivity: {round(sensitivity, 2)}%')\n",
    "print(f'Specificity: {round(specificity, 2)}%')\n",
    "print(f'Precision: {round(precision, 2)}%')"
   ]
  },
  {
   "cell_type": "markdown",
   "metadata": {},
   "source": [
    "The accuracy score shows that the model is correctly predicting that a post comes from the correct subreddit 94.29% of the time, and misclassifying the posts 5.71% of the time.\n",
    "\n",
    "The precision score shows that out of all of the posts that are actually from the r/mentalhealth subreddit, the model predicted that a post came from r/mentalhealth 90.52% of the time\n",
    "\n",
    "Out of the posts predicted to be from r/mentalhealth, the model correctly predicted these posts 98.67% of the time.\n",
    "\n",
    "Out of the posts predicted to be from r/Coronavirus, the model correctly predicted these posts 90.1% of the time."
   ]
  },
  {
   "cell_type": "markdown",
   "metadata": {},
   "source": [
    "# Conclusion\n",
    "\n",
    "My baseline model had an accuracy score of 51%, and my logistic regression model has an accuracy of 94.29%, showing that the logisitc regression model is significantly better at predicting the correct subreddit.\n",
    "\n",
    "The accuracy may have been high for a few reasons - although there was a lot of talk regarding mental health on r/Coronavirus at the beginning of the pandemic, there is less discussion about mental health now. The data scraped was from the last few weeks (as of 3.9.21), and the context of the posts on r/Coronavirus has changed to discussiong related to vaccines and government policy.\n",
    "\n",
    "In order to make the model stronger, I need to scrape older data that has more overlap with the mental health subreddit. This may help illuminate the most important features that help predict correct classification.\n",
    "\n",
    "Moving forward, I can use the model on the US Coronavirus subreddit. There are more foum based posts on that subreddit, and it may have more overlap than the general coronavirus subreddit which contains active users from all over the world. There appears to be more similair language on the US coronavirus subreddit, and it would challenge my model more than the general Coronavirus subreddit.\n",
    "\n",
    "I can analyze the highest occuring words from both subreddits. This would help us understand what words the model considers the most important when predicting the outcome. This could also help us understand what words are indiciative of change sin mental health incidence and prevlence, which could allow us to utilize or generalize this model to text based web content outside of the mental health subreddit.\n",
    "\n",
    "Next steps will be using my own list of stop words, which could exlcude words such as 'coronavirus' or 'mental health'. Words will also be lemmatized."
   ]
  },
  {
   "cell_type": "code",
   "execution_count": null,
   "metadata": {
    "scrolled": true
   },
   "outputs": [],
   "source": []
  }
 ],
 "metadata": {
  "kernelspec": {
   "display_name": "Python 3 (ipykernel)",
   "language": "python",
   "name": "python3"
  },
  "language_info": {
   "codemirror_mode": {
    "name": "ipython",
    "version": 3
   },
   "file_extension": ".py",
   "mimetype": "text/x-python",
   "name": "python",
   "nbconvert_exporter": "python",
   "pygments_lexer": "ipython3",
   "version": "3.8.5"
  }
 },
 "nbformat": 4,
 "nbformat_minor": 4
}
