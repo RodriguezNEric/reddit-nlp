{
 "cells": [
  {
   "cell_type": "markdown",
   "metadata": {},
   "source": [
    "# Modeling"
   ]
  },
  {
   "cell_type": "code",
   "execution_count": null,
   "metadata": {},
   "outputs": [],
   "source": [
    "# General imports\n",
    "import pandas as pd\n",
    "import seaborn as sns\n",
    "import numpy as np\n",
    "%matplotlib inline \n",
    "import matplotlib.pyplot as plt\n",
    "import pickle\n",
    "\n",
    "# For Natural Language Processing\n",
    "import regex as re\n",
    "import unidecode\n",
    "from nltk.stem import WordNetLemmatizer\n",
    "from nltk.sentiment.vader import SentimentIntensityAnalyzer\n",
    "from nltk.tokenize import sent_tokenize, word_tokenize, RegexpTokenizer\n",
    "from nltk.corpus import stopwords\n",
    "from sklearn.feature_extraction.text import CountVectorizer, TfidfVectorizer\n",
    "\n",
    "# For Classification Modeling\n",
    "from sklearn.model_selection import train_test_split, cross_val_score, GridSearchCV\n",
    "from sklearn.linear_model import LogisticRegression\n",
    "from sklearn.ensemble import RandomForestClassifier, BaggingClassifier, AdaBoostClassifier\n",
    "from sklearn.naive_bayes import MultinomialNB\n",
    "from sklearn.svm import SVC\n",
    "from sklearn.pipeline import Pipeline\n",
    "from sklearn.tree import DecisionTreeClassifier\n",
    "from xgboost import XGBClassifier\n",
    "\n",
    "# For Evaluation\n",
    "from sklearn.metrics import accuracy_score, confusion_matrix, plot_confusion_matrix, plot_roc_curve, roc_auc_score, classification_report"
   ]
  },
  {
   "cell_type": "code",
   "execution_count": 44,
   "metadata": {},
   "outputs": [],
   "source": [
    "# Read in cleaned data\n",
    "df = pd.read_csv('./data/cleaned_posts.csv', index_col = ['index']).drop(['level_0'], axis=1)"
   ]
  },
  {
   "cell_type": "code",
   "execution_count": 45,
   "metadata": {},
   "outputs": [],
   "source": [
    "# Drop the 'index' label and reset index\n",
    "df.reset_index(drop = ['index'], inplace=True)"
   ]
  },
  {
   "cell_type": "code",
   "execution_count": 46,
   "metadata": {},
   "outputs": [
    {
     "data": {
      "text/html": [
       "<div>\n",
       "<style scoped>\n",
       "    .dataframe tbody tr th:only-of-type {\n",
       "        vertical-align: middle;\n",
       "    }\n",
       "\n",
       "    .dataframe tbody tr th {\n",
       "        vertical-align: top;\n",
       "    }\n",
       "\n",
       "    .dataframe thead th {\n",
       "        text-align: right;\n",
       "    }\n",
       "</style>\n",
       "<table border=\"1\" class=\"dataframe\">\n",
       "  <thead>\n",
       "    <tr style=\"text-align: right;\">\n",
       "      <th></th>\n",
       "      <th>created_utc</th>\n",
       "      <th>url</th>\n",
       "      <th>full_link</th>\n",
       "      <th>id</th>\n",
       "      <th>num_comments</th>\n",
       "      <th>title</th>\n",
       "      <th>selftext</th>\n",
       "      <th>subreddit</th>\n",
       "      <th>timestamp</th>\n",
       "      <th>is_mental</th>\n",
       "      <th>title_char_length</th>\n",
       "      <th>title_word_count</th>\n",
       "      <th>sentiment_comp</th>\n",
       "      <th>sentiment_neg</th>\n",
       "      <th>sentiment_neu</th>\n",
       "      <th>sentiment_pos</th>\n",
       "    </tr>\n",
       "  </thead>\n",
       "  <tbody>\n",
       "    <tr>\n",
       "      <th>3920</th>\n",
       "      <td>1617897344</td>\n",
       "      <td>https://www.reddit.com/r/CoronavirusUS/comment...</td>\n",
       "      <td>https://www.reddit.com/r/CoronavirusUS/comment...</td>\n",
       "      <td>mmutts</td>\n",
       "      <td>0</td>\n",
       "      <td>[Academic] Coronavirus and its impact on perso...</td>\n",
       "      <td>NaN</td>\n",
       "      <td>CoronavirusUS</td>\n",
       "      <td>2021-04-08 11:55:44</td>\n",
       "      <td>0</td>\n",
       "      <td>71</td>\n",
       "      <td>10</td>\n",
       "      <td>0.0000</td>\n",
       "      <td>0.000</td>\n",
       "      <td>1.000</td>\n",
       "      <td>0.000</td>\n",
       "    </tr>\n",
       "    <tr>\n",
       "      <th>3921</th>\n",
       "      <td>1617900654</td>\n",
       "      <td>https://www.reddit.com/r/CoronavirusUS/comment...</td>\n",
       "      <td>https://www.reddit.com/r/CoronavirusUS/comment...</td>\n",
       "      <td>mmw06c</td>\n",
       "      <td>23</td>\n",
       "      <td>just got my 2nd dose of Pfizer vaccine an hour...</td>\n",
       "      <td>just got my 2nd dose of Pfizer vaccine an hour...</td>\n",
       "      <td>CoronavirusUS</td>\n",
       "      <td>2021-04-08 12:50:54</td>\n",
       "      <td>0</td>\n",
       "      <td>294</td>\n",
       "      <td>51</td>\n",
       "      <td>-0.7958</td>\n",
       "      <td>0.134</td>\n",
       "      <td>0.866</td>\n",
       "      <td>0.000</td>\n",
       "    </tr>\n",
       "    <tr>\n",
       "      <th>3922</th>\n",
       "      <td>1617901298</td>\n",
       "      <td>https://www.nbcnews.com/news/us-news/one-4-u-s...</td>\n",
       "      <td>https://www.reddit.com/r/CoronavirusUS/comment...</td>\n",
       "      <td>mmw8t3</td>\n",
       "      <td>67</td>\n",
       "      <td>One in 4 U.S. adults is now fully vaccinated</td>\n",
       "      <td>NaN</td>\n",
       "      <td>CoronavirusUS</td>\n",
       "      <td>2021-04-08 13:01:38</td>\n",
       "      <td>0</td>\n",
       "      <td>44</td>\n",
       "      <td>9</td>\n",
       "      <td>0.0000</td>\n",
       "      <td>0.000</td>\n",
       "      <td>1.000</td>\n",
       "      <td>0.000</td>\n",
       "    </tr>\n",
       "    <tr>\n",
       "      <th>3923</th>\n",
       "      <td>1617901554</td>\n",
       "      <td>https://www.reddit.com/r/CoronavirusUS/comment...</td>\n",
       "      <td>https://www.reddit.com/r/CoronavirusUS/comment...</td>\n",
       "      <td>mmwcfn</td>\n",
       "      <td>21</td>\n",
       "      <td>Could the virus mutate to resist vaccines?</td>\n",
       "      <td>So far, the vaccines are said to be effective ...</td>\n",
       "      <td>CoronavirusUS</td>\n",
       "      <td>2021-04-08 13:05:54</td>\n",
       "      <td>0</td>\n",
       "      <td>42</td>\n",
       "      <td>7</td>\n",
       "      <td>0.0000</td>\n",
       "      <td>0.000</td>\n",
       "      <td>1.000</td>\n",
       "      <td>0.000</td>\n",
       "    </tr>\n",
       "    <tr>\n",
       "      <th>3924</th>\n",
       "      <td>1617903440</td>\n",
       "      <td>https://www.latimes.com/science/story/2021-04-...</td>\n",
       "      <td>https://www.reddit.com/r/CoronavirusUS/comment...</td>\n",
       "      <td>mmx12c</td>\n",
       "      <td>0</td>\n",
       "      <td>COVID-19 vaccines work well against California...</td>\n",
       "      <td>NaN</td>\n",
       "      <td>CoronavirusUS</td>\n",
       "      <td>2021-04-08 13:37:20</td>\n",
       "      <td>0</td>\n",
       "      <td>70</td>\n",
       "      <td>9</td>\n",
       "      <td>0.2732</td>\n",
       "      <td>0.000</td>\n",
       "      <td>0.792</td>\n",
       "      <td>0.208</td>\n",
       "    </tr>\n",
       "  </tbody>\n",
       "</table>\n",
       "</div>"
      ],
      "text/plain": [
       "      created_utc                                                url  \\\n",
       "3920   1617897344  https://www.reddit.com/r/CoronavirusUS/comment...   \n",
       "3921   1617900654  https://www.reddit.com/r/CoronavirusUS/comment...   \n",
       "3922   1617901298  https://www.nbcnews.com/news/us-news/one-4-u-s...   \n",
       "3923   1617901554  https://www.reddit.com/r/CoronavirusUS/comment...   \n",
       "3924   1617903440  https://www.latimes.com/science/story/2021-04-...   \n",
       "\n",
       "                                              full_link      id  num_comments  \\\n",
       "3920  https://www.reddit.com/r/CoronavirusUS/comment...  mmutts             0   \n",
       "3921  https://www.reddit.com/r/CoronavirusUS/comment...  mmw06c            23   \n",
       "3922  https://www.reddit.com/r/CoronavirusUS/comment...  mmw8t3            67   \n",
       "3923  https://www.reddit.com/r/CoronavirusUS/comment...  mmwcfn            21   \n",
       "3924  https://www.reddit.com/r/CoronavirusUS/comment...  mmx12c             0   \n",
       "\n",
       "                                                  title  \\\n",
       "3920  [Academic] Coronavirus and its impact on perso...   \n",
       "3921  just got my 2nd dose of Pfizer vaccine an hour...   \n",
       "3922       One in 4 U.S. adults is now fully vaccinated   \n",
       "3923         Could the virus mutate to resist vaccines?   \n",
       "3924  COVID-19 vaccines work well against California...   \n",
       "\n",
       "                                               selftext      subreddit  \\\n",
       "3920                                                NaN  CoronavirusUS   \n",
       "3921  just got my 2nd dose of Pfizer vaccine an hour...  CoronavirusUS   \n",
       "3922                                                NaN  CoronavirusUS   \n",
       "3923  So far, the vaccines are said to be effective ...  CoronavirusUS   \n",
       "3924                                                NaN  CoronavirusUS   \n",
       "\n",
       "                timestamp  is_mental  title_char_length  title_word_count  \\\n",
       "3920  2021-04-08 11:55:44          0                 71                10   \n",
       "3921  2021-04-08 12:50:54          0                294                51   \n",
       "3922  2021-04-08 13:01:38          0                 44                 9   \n",
       "3923  2021-04-08 13:05:54          0                 42                 7   \n",
       "3924  2021-04-08 13:37:20          0                 70                 9   \n",
       "\n",
       "      sentiment_comp  sentiment_neg  sentiment_neu  sentiment_pos  \n",
       "3920          0.0000          0.000          1.000          0.000  \n",
       "3921         -0.7958          0.134          0.866          0.000  \n",
       "3922          0.0000          0.000          1.000          0.000  \n",
       "3923          0.0000          0.000          1.000          0.000  \n",
       "3924          0.2732          0.000          0.792          0.208  "
      ]
     },
     "execution_count": 46,
     "metadata": {},
     "output_type": "execute_result"
    }
   ],
   "source": [
    "df.tail()"
   ]
  },
  {
   "cell_type": "code",
   "execution_count": 49,
   "metadata": {},
   "outputs": [
    {
     "data": {
      "text/plain": [
       "0"
      ]
     },
     "execution_count": 49,
     "metadata": {},
     "output_type": "execute_result"
    }
   ],
   "source": [
    "# Check for missing values in title\n",
    "df.title.isnull().sum()"
   ]
  },
  {
   "cell_type": "code",
   "execution_count": 55,
   "metadata": {},
   "outputs": [],
   "source": [
    "df2 = pd.read_csv('./data/shared_words.csv')"
   ]
  },
  {
   "cell_type": "code",
   "execution_count": 56,
   "metadata": {},
   "outputs": [],
   "source": [
    "shared_words = list(df2['shared_word'])"
   ]
  },
  {
   "cell_type": "code",
   "execution_count": 57,
   "metadata": {},
   "outputs": [
    {
     "name": "stdout",
     "output_type": "stream",
     "text": [
      "['help', 'don', 'like', 'health', 'know', 'just', 'need', 'does', 'life', 'people', 'time', 'going', 'getting', 'day', 've', 'today', 'right', 'new', 'long', 'got', 'amp', 'best', 'say', 'question']\n"
     ]
    }
   ],
   "source": [
    "print(shared_words)"
   ]
  },
  {
   "cell_type": "code",
   "execution_count": 59,
   "metadata": {},
   "outputs": [],
   "source": [
    "# Create my_stopwords model parameter combining English stop words and subreddits shared words\n",
    "my_stopwords = list(TfidfVectorizer(stop_words = 'english').get_stop_words()) + shared_words"
   ]
  },
  {
   "cell_type": "markdown",
   "metadata": {},
   "source": [
    "### The Null Model"
   ]
  },
  {
   "cell_type": "code",
   "execution_count": 62,
   "metadata": {},
   "outputs": [],
   "source": [
    "# Define X and y\n",
    "X = df['title']\n",
    "y = df['is_mental']"
   ]
  },
  {
   "cell_type": "code",
   "execution_count": 63,
   "metadata": {},
   "outputs": [
    {
     "data": {
      "text/plain": [
       "1    0.500382\n",
       "0    0.499618\n",
       "Name: is_mental, dtype: float64"
      ]
     },
     "execution_count": 63,
     "metadata": {},
     "output_type": "execute_result"
    }
   ],
   "source": [
    "# Check class distribution\n",
    "y.value_counts(normalize=True)"
   ]
  },
  {
   "cell_type": "markdown",
   "metadata": {},
   "source": [
    "We can see here that 50.04% of posts are from r/mentalhealth, and 49.96% of posts are from r/CoronavirusUS. The null model is showing that selecting the label r/mentalthealth would result in correctly predicting what subreddit a post came from 50.04% of the time. My goal is to build a model that classifies posts with an accuracy higher than 50.04%"
   ]
  },
  {
   "cell_type": "markdown",
   "metadata": {},
   "source": [
    "### Model 1: Logistic Regression"
   ]
  },
  {
   "cell_type": "code",
   "execution_count": 64,
   "metadata": {},
   "outputs": [
    {
     "data": {
      "text/plain": [
       "(0.9663608562691132, 0.9195519348268839)"
      ]
     },
     "execution_count": 64,
     "metadata": {},
     "output_type": "execute_result"
    }
   ],
   "source": [
    "# Define X and y\n",
    "X = df['title']\n",
    "y = df['is_mental']\n",
    "\n",
    "# Train test split\n",
    "X_train, X_test, y_train, y_test = train_test_split(X, y, random_state=42)\n",
    "\n",
    "# Set up transformer and estimator via pipeline\n",
    "pipe_lr = Pipeline([\n",
    "    ('tvec', TfidfVectorizer()),\n",
    "    ('logreg', LogisticRegression())\n",
    "])\n",
    "\n",
    "# Set up parameters for pipeline\n",
    "lr_params = {\n",
    "    'tvec__stop_words': [None, 'english', my_stopwords],\n",
    "    'tvec__min_df': [1, 2],\n",
    "    'logreg__C': [1.0, 1.1, 0.9]\n",
    "    \n",
    "}\n",
    "\n",
    "# Instantiate GridSearchCV\n",
    "gs_lr = GridSearchCV(estimator=pipe_lr,\n",
    "                      param_grid=lr_params,\n",
    "                      cv=5,\n",
    "                      verbose=0)\n",
    "\n",
    "# Fit GridSearchCV\n",
    "gs_lr.fit(X_train, y_train)\n",
    "\n",
    "# Accuracy score\n",
    "gs_lr.score(X_train, y_train), gs_lr.score(X_test, y_test)"
   ]
  },
  {
   "cell_type": "code",
   "execution_count": 65,
   "metadata": {},
   "outputs": [
    {
     "data": {
      "image/png": "[encoded data removed]",
      "text/plain": [
       "<Figure size 432x288 with 2 Axes>"
      ]
     },
     "metadata": {
      "needs_background": "light"
     },
     "output_type": "display_data"
    }
   ],
   "source": [
    "# Predicted y test values\n",
    "lr_preds = gs_lr.predict(X_test)\n",
    "\n",
    "# Plot a confusion matrix\n",
    "plot_confusion_matrix(gs_lr, X_test, y_test, \n",
    "                      values_format='d', display_labels=['MH','COVID']);"
   ]
  },
  {
   "cell_type": "code",
   "execution_count": 66,
   "metadata": {},
   "outputs": [
    {
     "data": {
      "text/plain": [
       "{'logreg__C': 1.0, 'tvec__min_df': 1, 'tvec__stop_words': 'english'}"
      ]
     },
     "execution_count": 66,
     "metadata": {},
     "output_type": "execute_result"
    }
   ],
   "source": [
    "# Best parameters (uncomment to run)\n",
    "gs_lr.best_params_"
   ]
  },
  {
   "cell_type": "markdown",
   "metadata": {},
   "source": [
    "### Model 2: Decision Tree Classifier"
   ]
  },
  {
   "cell_type": "code",
   "execution_count": 70,
   "metadata": {},
   "outputs": [
    {
     "data": {
      "text/plain": [
       "(0.9976214746856948, 0.9032586558044806)"
      ]
     },
     "execution_count": 70,
     "metadata": {},
     "output_type": "execute_result"
    }
   ],
   "source": [
    "# Define X and y\n",
    "X = df['title']\n",
    "y = df['is_mental']\n",
    "\n",
    "# Train test split\n",
    "X_train, X_test, y_train, y_test = train_test_split(X, y, random_state=42)\n",
    "\n",
    "# Set up pipeline\n",
    "pipe_dtc = Pipeline([\n",
    "    ('cvec', CountVectorizer()),\n",
    "    ('dct', DecisionTreeClassifier())\n",
    "])\n",
    "\n",
    "# Set up parameters for pipeline\n",
    "dtc_params = {\n",
    "    'cvec__stop_words': [None, 'english', my_stopwords],\n",
    "    'cvec__max_features': [None, 500, 1000, 1500],\n",
    "    'cvec__min_df': [1, 2],\n",
    "    'dct__max_depth': [None, 5, 10]\n",
    "}\n",
    "\n",
    "# Instantiate GridSearchCV\n",
    "gs_dtc = GridSearchCV(estimator=pipe_dtc,\n",
    "                      param_grid=dtc_params,\n",
    "                      cv=5,\n",
    "                      verbose=0)\n",
    "\n",
    "# Fit GridSearchCV\n",
    "gs_dtc.fit(X_train, y_train)\n",
    "\n",
    "# Accuracy score\n",
    "gs_dtc.score(X_train, y_train), gs_dtc.score(X_test, y_test)"
   ]
  },
  {
   "cell_type": "code",
   "execution_count": 71,
   "metadata": {},
   "outputs": [
    {
     "data": {
      "image/png": "[encoded data removed]",
      "text/plain": [
       "<Figure size 432x288 with 2 Axes>"
      ]
     },
     "metadata": {
      "needs_background": "light"
     },
     "output_type": "display_data"
    }
   ],
   "source": [
    "# Predicted y test values\n",
    "dtc_preds = gs_dtc.predict(X_test)\n",
    "\n",
    "# Plot a confusion matrix\n",
    "plot_confusion_matrix(gs_dtc, X_test, y_test, \n",
    "                      values_format='d', display_labels=['MH','COVID']);"
   ]
  },
  {
   "cell_type": "markdown",
   "metadata": {},
   "source": [
    "### Model 3: Bagging Classifier"
   ]
  },
  {
   "cell_type": "code",
   "execution_count": 72,
   "metadata": {},
   "outputs": [
    {
     "data": {
      "text/plain": [
       "(0.9850492694529391, 0.8971486761710794)"
      ]
     },
     "execution_count": 72,
     "metadata": {},
     "output_type": "execute_result"
    }
   ],
   "source": [
    "# Define X and y\n",
    "X = df['title']\n",
    "y = df['is_mental']\n",
    "\n",
    "# Train test split\n",
    "X_train, X_test, y_train, y_test = train_test_split(X, y, random_state=42)\n",
    "\n",
    "# Set up pipeline\n",
    "pipe_bag = Pipeline([\n",
    "    ('cvec', CountVectorizer()),\n",
    "    ('bag', BaggingClassifier())\n",
    "])\n",
    "\n",
    "# Set up parameters for pipeline\n",
    "bag_params = {\n",
    "    'cvec__stop_words': [None, 'english', my_stopwords],\n",
    "    'cvec__min_df': [2],\n",
    "    'bag__n_estimators': [10, 15]\n",
    "}\n",
    "\n",
    "# Instantiate GridSearchCV\n",
    "gs_bag = GridSearchCV(estimator=pipe_bag,\n",
    "                      param_grid=bag_params,\n",
    "                      cv=5,\n",
    "                      verbose=0)\n",
    "\n",
    "# Fit GridSearchCV\n",
    "gs_bag.fit(X_train, y_train)\n",
    "\n",
    "# Accuracy score\n",
    "gs_bag.score(X_train, y_train), gs_bag.score(X_test, y_test)"
   ]
  },
  {
   "cell_type": "code",
   "execution_count": 73,
   "metadata": {},
   "outputs": [
    {
     "data": {
      "image/png": "[encoded data removed]",
      "text/plain": [
       "<Figure size 432x288 with 2 Axes>"
      ]
     },
     "metadata": {
      "needs_background": "light"
     },
     "output_type": "display_data"
    }
   ],
   "source": [
    "# Predicted y test values\n",
    "bag_preds = gs_bag.predict(X_test)\n",
    "\n",
    "# Ploted confusion matrix\n",
    "plot_confusion_matrix(gs_bag, X_test, y_test,\n",
    "                      values_format='d', display_labels=['MH','COVID']);"
   ]
  },
  {
   "cell_type": "markdown",
   "metadata": {},
   "source": [
    "### Model 4: Multinomial Naive Bayes"
   ]
  },
  {
   "cell_type": "code",
   "execution_count": 74,
   "metadata": {},
   "outputs": [
    {
     "data": {
      "text/plain": [
       "(0.9877675840978594, 0.9093686354378818)"
      ]
     },
     "execution_count": 74,
     "metadata": {},
     "output_type": "execute_result"
    }
   ],
   "source": [
    "# Define X and y\n",
    "X = df['title']\n",
    "y = df['is_mental']\n",
    "\n",
    "# Train test split\n",
    "X_train, X_test, y_train, y_test = train_test_split(X, y, random_state=42)\n",
    "\n",
    "# Set up pipeline\n",
    "pipe_mnb = Pipeline([\n",
    "    ('tvec', TfidfVectorizer()),\n",
    "    ('mnb', MultinomialNB())\n",
    "])\n",
    "\n",
    "# Set up parameters for pipeline\n",
    "mnb_params = {\n",
    "    'tvec__stop_words': [None, 'english', my_stopwords],\n",
    "    'tvec__max_features': [None, 1000, 1500],\n",
    "    'tvec__ngram_range': [(1,1),(1,2)],\n",
    "    'mnb__alpha': [1.0, 0.5]\n",
    "}\n",
    "\n",
    "# Instantiate GridSearchCV\n",
    "gs_mnb = GridSearchCV(pipe_mnb,\n",
    "                      param_grid=mnb_params,\n",
    "                      cv=5,\n",
    "                     verbose=0)\n",
    "\n",
    "# Fit GridSearchCV\n",
    "gs_mnb.fit(X_train, y_train)\n",
    "\n",
    "# Accuracy score\n",
    "gs_mnb.score(X_train, y_train), gs_mnb.score(X_test, y_test)"
   ]
  },
  {
   "cell_type": "code",
   "execution_count": 75,
   "metadata": {},
   "outputs": [
    {
     "data": {
      "image/png": "[encoded data removed]",
      "text/plain": [
       "<Figure size 432x288 with 2 Axes>"
      ]
     },
     "metadata": {
      "needs_background": "light"
     },
     "output_type": "display_data"
    }
   ],
   "source": [
    "# Predicted y test values\n",
    "mnb_preds = gs_mnb.predict(X_test)\n",
    "\n",
    "# Plotted confusion matrix\n",
    "plot_confusion_matrix(gs_mnb, X_test, y_test, \n",
    "                      values_format='d', display_labels=['MH','COVID']);"
   ]
  },
  {
   "cell_type": "markdown",
   "metadata": {},
   "source": [
    "### Model 5: AdaBoost Classifier"
   ]
  },
  {
   "cell_type": "code",
   "execution_count": 76,
   "metadata": {},
   "outputs": [
    {
     "data": {
      "text/plain": [
       "(0.9330615018688413, 0.9032586558044806)"
      ]
     },
     "execution_count": 76,
     "metadata": {},
     "output_type": "execute_result"
    }
   ],
   "source": [
    "# Define X and y\n",
    "X = df['title']\n",
    "y = df['is_mental']\n",
    "\n",
    "# Train test split\n",
    "X_train, X_test, y_train, y_test = train_test_split(X, y, random_state=42)\n",
    "\n",
    "# Set up transformer and estimator via pipeline\n",
    "pipe_abc = Pipeline([\n",
    "    ('tvec', TfidfVectorizer()),\n",
    "    ('abc', AdaBoostClassifier())\n",
    "     ])\n",
    "\n",
    "# Set up parameters for pipeline\n",
    "abc_params = {\n",
    "    'tvec__stop_words': [None, 'english', my_stopwords],\n",
    "    'tvec__min_df': [2],\n",
    "    'abc__n_estimators': [50, 100]\n",
    "}\n",
    "\n",
    "# Instantiate GridSearchCV    \n",
    "gs_abc = GridSearchCV(pipe_abc,\n",
    "                      param_grid=abc_params,\n",
    "                      cv=5,\n",
    "                     verbose=0)\n",
    "\n",
    "# Fit GridSearchCV\n",
    "gs_abc.fit(X_train,y_train)\n",
    "\n",
    "# Accuracy score\n",
    "gs_abc.score(X_train,y_train), gs_abc.score(X_test,y_test)"
   ]
  },
  {
   "cell_type": "code",
   "execution_count": 77,
   "metadata": {},
   "outputs": [
    {
     "data": {
      "image/png": "[encoded data removed]",
      "text/plain": [
       "<Figure size 432x288 with 2 Axes>"
      ]
     },
     "metadata": {
      "needs_background": "light"
     },
     "output_type": "display_data"
    }
   ],
   "source": [
    "# Predicted y test values\n",
    "abc_preds = gs_abc.predict(X_test)\n",
    "\n",
    "# Plot a confusion matrix\n",
    "plot_confusion_matrix(gs_abc, X_test, y_test,\n",
    "                      values_format='d', display_labels=['MH','COVID']);"
   ]
  },
  {
   "cell_type": "markdown",
   "metadata": {},
   "source": [
    "### Model 6: Random Forest Classifier"
   ]
  },
  {
   "cell_type": "code",
   "execution_count": 78,
   "metadata": {},
   "outputs": [
    {
     "data": {
      "text/plain": [
       "(0.9918450560652395, 0.9144602851323829)"
      ]
     },
     "execution_count": 78,
     "metadata": {},
     "output_type": "execute_result"
    }
   ],
   "source": [
    "# Define X and y\n",
    "X = df['title']\n",
    "y = df['is_mental']\n",
    "\n",
    "# Train test split\n",
    "X_train, X_test, y_train, y_test = train_test_split(X, y, random_state=42)\n",
    "\n",
    "# Set up pipeline\n",
    "pipe_rfc = Pipeline([\n",
    "    ('tvec', TfidfVectorizer()),\n",
    "    ('rfc', RandomForestClassifier())\n",
    "])\n",
    "\n",
    "# Set up parameters for pipeline\n",
    "rfc_params = {\n",
    "    'tvec__stop_words': [None, 'english', my_stopwords],\n",
    "    'tvec__min_df': [2],\n",
    "    'rfc__n_estimators': [100, 150, 200],\n",
    "    'rfc__max_depth': [None, 5]\n",
    "}\n",
    "\n",
    "# Instantiate GridSearchCV\n",
    "gs_rfc = GridSearchCV(estimator=pipe_rfc,\n",
    "                      param_grid=rfc_params,\n",
    "                      cv=5,\n",
    "                      verbose=0)\n",
    "\n",
    "# Fit GridSearchCV\n",
    "gs_rfc.fit(X_train, y_train)\n",
    "\n",
    "# Accuracy score for random forest\n",
    "gs_rfc.score(X_train, y_train), gs_rfc.score(X_test, y_test)"
   ]
  },
  {
   "cell_type": "code",
   "execution_count": 79,
   "metadata": {},
   "outputs": [
    {
     "data": {
      "image/png": "[encoded data removed]",
      "text/plain": [
       "<Figure size 432x288 with 2 Axes>"
      ]
     },
     "metadata": {
      "needs_background": "light"
     },
     "output_type": "display_data"
    }
   ],
   "source": [
    "# Predicted y test values\n",
    "rfc_preds = gs_rfc.predict(X_test)\n",
    "\n",
    "# Plot a confusion matrix\n",
    "plot_confusion_matrix(gs_rfc, X_test, y_test, \n",
    "                      values_format='d', display_labels=['MH','COVID']);"
   ]
  },
  {
   "cell_type": "markdown",
   "metadata": {},
   "source": [
    "### Model 7: Support Vector Classifier"
   ]
  },
  {
   "cell_type": "code",
   "execution_count": 80,
   "metadata": {},
   "outputs": [
    {
     "data": {
      "text/plain": [
       "(0.9867482161060143, 0.9134419551934827)"
      ]
     },
     "execution_count": 80,
     "metadata": {},
     "output_type": "execute_result"
    }
   ],
   "source": [
    "# Define X and y\n",
    "X = df['title']\n",
    "y = df['is_mental']\n",
    "\n",
    "# Train test split\n",
    "X_train, X_test, y_train, y_test = train_test_split(X, y, random_state=42)\n",
    "\n",
    "# Set up transformer and estimator via pipeline\n",
    "pipe_svc = Pipeline([\n",
    "    ('tvec', TfidfVectorizer()),\n",
    "    ('svc', SVC())\n",
    "     ])\n",
    "\n",
    "# Set up parameters for pipeline\n",
    "svc_params = {\n",
    "    'tvec__stop_words': [None, 'english',my_stopwords],\n",
    "    'tvec__min_df': [2],\n",
    "    'svc__kernel': ['linear', 'rbf', 'poly', 'sigmoid']\n",
    "}\n",
    "\n",
    "# Instantiate GridSearchCV    \n",
    "gs_svc = GridSearchCV(pipe_svc,\n",
    "                      param_grid=svc_params,\n",
    "                      cv=5,\n",
    "                     verbose=0)\n",
    "\n",
    "# Fit GridSearchCV\n",
    "gs_svc.fit(X_train,y_train)\n",
    "\n",
    "# Accuracy score\n",
    "gs_svc.score(X_train,y_train), gs_svc.score(X_test,y_test)"
   ]
  },
  {
   "cell_type": "code",
   "execution_count": 81,
   "metadata": {},
   "outputs": [
    {
     "data": {
      "image/png": "[encoded data removed]",
      "text/plain": [
       "<Figure size 432x288 with 2 Axes>"
      ]
     },
     "metadata": {
      "needs_background": "light"
     },
     "output_type": "display_data"
    }
   ],
   "source": [
    "# Predicted y test values\n",
    "svc_preds = gs_svc.predict(X_test)\n",
    "\n",
    "# Plotted confusion matrix\n",
    "plot_confusion_matrix(gs_svc, X_test, y_test,\n",
    "                      values_format='d', display_labels=['MH','COVID']);"
   ]
  },
  {
   "cell_type": "code",
   "execution_count": null,
   "metadata": {},
   "outputs": [],
   "source": []
  }
 ],
 "metadata": {
  "kernelspec": {
   "display_name": "Python 3 (ipykernel)",
   "language": "python",
   "name": "python3"
  },
  "language_info": {
   "codemirror_mode": {
    "name": "ipython",
    "version": 3
   },
   "file_extension": ".py",
   "mimetype": "text/x-python",
   "name": "python",
   "nbconvert_exporter": "python",
   "pygments_lexer": "ipython3",
   "version": "3.8.5"
  }
 },
 "nbformat": 4,
 "nbformat_minor": 4
}
