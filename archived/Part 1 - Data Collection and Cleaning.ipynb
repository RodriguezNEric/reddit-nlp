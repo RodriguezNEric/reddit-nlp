{
 "cells": [
  {
   "cell_type": "markdown",
   "metadata": {},
   "source": [
    "# Project 3: Reddit data scraping\n",
    "\n",
    "## Part 1 - Scraping"
   ]
  },
  {
   "cell_type": "code",
   "execution_count": 5,
   "metadata": {},
   "outputs": [],
   "source": [
    "# Import libraries\n",
    "import pandas as pd\n",
    "import numpy as np\n",
    "import requests\n",
    "import json\n",
    "import csv\n",
    "import time\n",
    "import datetime as dt\n",
    "import math\n",
    "import itertools"
   ]
  },
  {
   "cell_type": "code",
   "execution_count": 3,
   "metadata": {},
   "outputs": [],
   "source": [
    "# pushshift url template\n",
    "# https://api.pushshift.io/reddit/search/submission?subreddit={}&after={}&before={}&size={}\n",
    "# max request size is 100!"
   ]
  },
  {
   "cell_type": "markdown",
   "metadata": {},
   "source": [
    "## Data Collection"
   ]
  },
  {
   "cell_type": "markdown",
   "metadata": {},
   "source": [
    "### Scraping data from mentalhealth subreddit"
   ]
  },
  {
   "cell_type": "code",
   "execution_count": 23,
   "metadata": {},
   "outputs": [],
   "source": [
    "# Subreddit to be scraped\n",
    "subreddit = 'mentalhealth'"
   ]
  },
  {
   "cell_type": "code",
   "execution_count": 25,
   "metadata": {},
   "outputs": [
    {
     "name": "stdout",
     "output_type": "stream",
     "text": [
      "0\n",
      "50\n",
      "100\n",
      "150\n",
      "200\n",
      "250\n",
      "300\n",
      "350\n",
      "400\n",
      "450\n",
      "500\n",
      "550\n",
      "600\n",
      "650\n",
      "700\n",
      "750\n",
      "800\n",
      "850\n",
      "900\n",
      "950\n",
      "1000\n",
      "1050\n",
      "1100\n",
      "1150\n"
     ]
    }
   ],
   "source": [
    "# h/t stack overflow \n",
    "# Set up dict for info to collect\n",
    "posts_data = {'created_utc':[],\n",
    "              'url':[],\n",
    "              'id':[],\n",
    "              'num_comments':[],\n",
    "              'title':[],\n",
    "              'selftext':[],\n",
    "              'subreddit':[]\n",
    "              }\n",
    "\n",
    "headers = {'User-agent': 'Reddit Post Collector'}\n",
    "\n",
    "# Set up function to return submission data\n",
    "def get_submissions(**kwargs):\n",
    "    res = requests.get(\"https://api.pushshift.io/reddit/submission/search/\",\n",
    "                       params=kwargs,\n",
    "                       headers=headers)\n",
    "    if res.status_code == 200:\n",
    "        data = res.json()\n",
    "        return data['data']\n",
    "    else:\n",
    "        print(res.status_code)\n",
    "\n",
    "before = None\n",
    "count = 0\n",
    "\n",
    "# Collect up to 1,250 posts as long as there are posts to collect\n",
    "while True and len(set(posts_data['created_utc'])) < 1200:\n",
    "    print(count)\n",
    "    count += 1*50\n",
    "    \n",
    "    posts = get_submissions(subreddit=subreddit,\n",
    "                            size=50,\n",
    "                            before=before,\n",
    "                            sort='desc',\n",
    "                            sort_type='created_utc')\n",
    "    if not posts:\n",
    "        break\n",
    "\n",
    "    for post in posts:\n",
    "        # Keep track of position for the next call in while loop\n",
    "        before = post['created_utc']\n",
    "\n",
    "        # Append info to posts_data dict\n",
    "        posts_data['created_utc'].append(post['created_utc'])\n",
    "        posts_data['url'].append(post['full_link'])\n",
    "        posts_data['id'].append(post['id'])\n",
    "        posts_data['num_comments'].append(post['num_comments'])\n",
    "        posts_data['title'].append(post['title'])\n",
    "        posts_data['selftext'].append(post['selftext'])\n",
    "        posts_data['subreddit'].append(post['subreddit'])\n",
    "\n",
    "    time.sleep(3)\n",
    "\n",
    "# Save posts to dataframe\n",
    "posts_data = pd.DataFrame(posts_data)\n",
    "\n",
    "# Create `timestamp` column with `created_utc` translated into readable time\n",
    "def get_date(created):\n",
    "    return dt.datetime.fromtimestamp(created)\n",
    "\n",
    "_timestamp = posts_data['created_utc'].apply(get_date)\n",
    "posts_data = posts_data.assign(timestamp = _timestamp)"
   ]
  },
  {
   "cell_type": "code",
   "execution_count": 27,
   "metadata": {},
   "outputs": [
    {
     "data": {
      "text/plain": [
       "(1200, 8)"
      ]
     },
     "execution_count": 27,
     "metadata": {},
     "output_type": "execute_result"
    }
   ],
   "source": [
    "posts_data.shape"
   ]
  },
  {
   "cell_type": "code",
   "execution_count": 28,
   "metadata": {},
   "outputs": [
    {
     "data": {
      "text/html": [
       "<div>\n",
       "<style scoped>\n",
       "    .dataframe tbody tr th:only-of-type {\n",
       "        vertical-align: middle;\n",
       "    }\n",
       "\n",
       "    .dataframe tbody tr th {\n",
       "        vertical-align: top;\n",
       "    }\n",
       "\n",
       "    .dataframe thead th {\n",
       "        text-align: right;\n",
       "    }\n",
       "</style>\n",
       "<table border=\"1\" class=\"dataframe\">\n",
       "  <thead>\n",
       "    <tr style=\"text-align: right;\">\n",
       "      <th></th>\n",
       "      <th>created_utc</th>\n",
       "      <th>url</th>\n",
       "      <th>id</th>\n",
       "      <th>num_comments</th>\n",
       "      <th>title</th>\n",
       "      <th>selftext</th>\n",
       "      <th>subreddit</th>\n",
       "      <th>timestamp</th>\n",
       "    </tr>\n",
       "  </thead>\n",
       "  <tbody>\n",
       "    <tr>\n",
       "      <th>0</th>\n",
       "      <td>1614791880</td>\n",
       "      <td>https://www.reddit.com/r/mentalhealth/comments...</td>\n",
       "      <td>lwz48u</td>\n",
       "      <td>8</td>\n",
       "      <td>What to do during an anxiety attack?</td>\n",
       "      <td>[deleted]</td>\n",
       "      <td>mentalhealth</td>\n",
       "      <td>2021-03-03 12:18:00</td>\n",
       "    </tr>\n",
       "    <tr>\n",
       "      <th>1</th>\n",
       "      <td>1614791523</td>\n",
       "      <td>https://www.reddit.com/r/mentalhealth/comments...</td>\n",
       "      <td>lwyz3p</td>\n",
       "      <td>1</td>\n",
       "      <td>Even though I wanted someone to notice how I'm...</td>\n",
       "      <td>[deleted]</td>\n",
       "      <td>mentalhealth</td>\n",
       "      <td>2021-03-03 12:12:03</td>\n",
       "    </tr>\n",
       "    <tr>\n",
       "      <th>2</th>\n",
       "      <td>1614790739</td>\n",
       "      <td>https://www.reddit.com/r/mentalhealth/comments...</td>\n",
       "      <td>lwyn5a</td>\n",
       "      <td>3</td>\n",
       "      <td>Does anyone ever feel like they have an episod...</td>\n",
       "      <td>it doesn't happen al of the time, but theres a...</td>\n",
       "      <td>mentalhealth</td>\n",
       "      <td>2021-03-03 11:58:59</td>\n",
       "    </tr>\n",
       "    <tr>\n",
       "      <th>3</th>\n",
       "      <td>1614790227</td>\n",
       "      <td>https://www.reddit.com/r/mentalhealth/comments...</td>\n",
       "      <td>lwyfv8</td>\n",
       "      <td>4</td>\n",
       "      <td>Need some help and advice please</td>\n",
       "      <td>Hi everyone I’m 19F and this is my first ever ...</td>\n",
       "      <td>mentalhealth</td>\n",
       "      <td>2021-03-03 11:50:27</td>\n",
       "    </tr>\n",
       "    <tr>\n",
       "      <th>4</th>\n",
       "      <td>1614790100</td>\n",
       "      <td>https://www.reddit.com/r/mentalhealth/comments...</td>\n",
       "      <td>lwye2m</td>\n",
       "      <td>1</td>\n",
       "      <td>Im trying to understand myself, but cant seem ...</td>\n",
       "      <td>I cant tell where to start... Im sorry that I ...</td>\n",
       "      <td>mentalhealth</td>\n",
       "      <td>2021-03-03 11:48:20</td>\n",
       "    </tr>\n",
       "  </tbody>\n",
       "</table>\n",
       "</div>"
      ],
      "text/plain": [
       "   created_utc                                                url      id  \\\n",
       "0   1614791880  https://www.reddit.com/r/mentalhealth/comments...  lwz48u   \n",
       "1   1614791523  https://www.reddit.com/r/mentalhealth/comments...  lwyz3p   \n",
       "2   1614790739  https://www.reddit.com/r/mentalhealth/comments...  lwyn5a   \n",
       "3   1614790227  https://www.reddit.com/r/mentalhealth/comments...  lwyfv8   \n",
       "4   1614790100  https://www.reddit.com/r/mentalhealth/comments...  lwye2m   \n",
       "\n",
       "   num_comments                                              title  \\\n",
       "0             8               What to do during an anxiety attack?   \n",
       "1             1  Even though I wanted someone to notice how I'm...   \n",
       "2             3  Does anyone ever feel like they have an episod...   \n",
       "3             4                   Need some help and advice please   \n",
       "4             1  Im trying to understand myself, but cant seem ...   \n",
       "\n",
       "                                            selftext     subreddit  \\\n",
       "0                                          [deleted]  mentalhealth   \n",
       "1                                          [deleted]  mentalhealth   \n",
       "2  it doesn't happen al of the time, but theres a...  mentalhealth   \n",
       "3  Hi everyone I’m 19F and this is my first ever ...  mentalhealth   \n",
       "4  I cant tell where to start... Im sorry that I ...  mentalhealth   \n",
       "\n",
       "            timestamp  \n",
       "0 2021-03-03 12:18:00  \n",
       "1 2021-03-03 12:12:03  \n",
       "2 2021-03-03 11:58:59  \n",
       "3 2021-03-03 11:50:27  \n",
       "4 2021-03-03 11:48:20  "
      ]
     },
     "execution_count": 28,
     "metadata": {},
     "output_type": "execute_result"
    }
   ],
   "source": [
    "posts_data.head()"
   ]
  },
  {
   "cell_type": "code",
   "execution_count": 31,
   "metadata": {},
   "outputs": [
    {
     "data": {
      "text/plain": [
       "created_utc              int64\n",
       "url                     object\n",
       "id                      object\n",
       "num_comments             int64\n",
       "title                   object\n",
       "selftext                object\n",
       "subreddit               object\n",
       "timestamp       datetime64[ns]\n",
       "dtype: object"
      ]
     },
     "execution_count": 31,
     "metadata": {},
     "output_type": "execute_result"
    }
   ],
   "source": [
    "posts_data.dtypes"
   ]
  },
  {
   "cell_type": "code",
   "execution_count": 45,
   "metadata": {},
   "outputs": [],
   "source": [
    "# export to csv\n",
    "filetime = time.strftime(\"%y%m%d_%H%M%S\", time.localtime())\n",
    "posts_data.to_csv('/Users/ericrodriguez/Bootcamp/Submissions/Projects/project_3-master/data/{}_{}.csv'.format(subreddit, filetime), index=False)"
   ]
  },
  {
   "cell_type": "markdown",
   "metadata": {},
   "source": [
    "### Scraping data from Coronavirus subreddit"
   ]
  },
  {
   "cell_type": "code",
   "execution_count": 65,
   "metadata": {},
   "outputs": [],
   "source": [
    "# Subreddit to be scraped\n",
    "subreddit = 'Coronavirus'"
   ]
  },
  {
   "cell_type": "code",
   "execution_count": 66,
   "metadata": {},
   "outputs": [
    {
     "name": "stdout",
     "output_type": "stream",
     "text": [
      "0\n",
      "50\n",
      "100\n",
      "150\n",
      "200\n",
      "250\n",
      "300\n",
      "350\n",
      "400\n",
      "450\n",
      "500\n",
      "550\n",
      "600\n",
      "650\n",
      "700\n",
      "750\n",
      "800\n",
      "850\n",
      "900\n",
      "950\n",
      "1000\n",
      "1050\n",
      "1100\n",
      "1150\n",
      "1200\n"
     ]
    }
   ],
   "source": [
    "# Set up dict for info to collect\n",
    "posts_data = {'created_utc':[],\n",
    "              'url':[],\n",
    "              'id':[],\n",
    "              'num_comments':[],\n",
    "              'title':[],\n",
    "              'selftext':[],\n",
    "              'subreddit':[]\n",
    "              }\n",
    "\n",
    "headers = {'User-agent': 'Reddit Post Collector'}\n",
    "\n",
    "# Set up function to return submission data\n",
    "def get_submissions(**kwargs):\n",
    "    res = requests.get(\"https://api.pushshift.io/reddit/submission/search/\",\n",
    "                       params=kwargs,\n",
    "                       headers=headers)\n",
    "    if res.status_code == 200:\n",
    "        data = res.json()\n",
    "        return data['data']\n",
    "    else:\n",
    "        print(res.status_code)\n",
    "\n",
    "before = None\n",
    "count = 0\n",
    "\n",
    "# Collect up to 1,250 posts as long as there are posts to collect\n",
    "while True and len(set(posts_data['created_utc'])) < 1200:\n",
    "    print(count)\n",
    "    count += 1*50\n",
    "    \n",
    "    posts = get_submissions(subreddit=subreddit,\n",
    "                            size=50,\n",
    "                            before=before,\n",
    "                            sort='desc',\n",
    "                            sort_type='created_utc')\n",
    "    if not posts:\n",
    "        break\n",
    "\n",
    "    for post in posts:\n",
    "        # Keep track of position for the next call in while loop\n",
    "        before = post['created_utc']\n",
    "\n",
    "        # Append info to posts_data dict\n",
    "        posts_data['created_utc'].append(post['created_utc'])\n",
    "        posts_data['url'].append(post['full_link'])\n",
    "        posts_data['id'].append(post['id'])\n",
    "        posts_data['num_comments'].append(post['num_comments'])\n",
    "        posts_data['title'].append(post['title'])\n",
    "        posts_data['selftext'].append(post['selftext'])\n",
    "        posts_data['subreddit'].append(post['subreddit'])\n",
    "\n",
    "    time.sleep(3)\n",
    "\n",
    "# Save posts to dataframe\n",
    "posts_data = pd.DataFrame(posts_data)\n",
    "\n",
    "# Create `timestamp` column with `created_utc` translated into readable time\n",
    "def get_date(created):\n",
    "    return dt.datetime.fromtimestamp(created)\n",
    "\n",
    "_timestamp = posts_data['created_utc'].apply(get_date)\n",
    "posts_data = posts_data.assign(timestamp = _timestamp)"
   ]
  },
  {
   "cell_type": "code",
   "execution_count": 68,
   "metadata": {},
   "outputs": [
    {
     "data": {
      "text/plain": [
       "(1250, 8)"
      ]
     },
     "execution_count": 68,
     "metadata": {},
     "output_type": "execute_result"
    }
   ],
   "source": [
    "posts_data.shape"
   ]
  },
  {
   "cell_type": "code",
   "execution_count": 69,
   "metadata": {},
   "outputs": [
    {
     "data": {
      "text/html": [
       "<div>\n",
       "<style scoped>\n",
       "    .dataframe tbody tr th:only-of-type {\n",
       "        vertical-align: middle;\n",
       "    }\n",
       "\n",
       "    .dataframe tbody tr th {\n",
       "        vertical-align: top;\n",
       "    }\n",
       "\n",
       "    .dataframe thead th {\n",
       "        text-align: right;\n",
       "    }\n",
       "</style>\n",
       "<table border=\"1\" class=\"dataframe\">\n",
       "  <thead>\n",
       "    <tr style=\"text-align: right;\">\n",
       "      <th></th>\n",
       "      <th>created_utc</th>\n",
       "      <th>url</th>\n",
       "      <th>id</th>\n",
       "      <th>num_comments</th>\n",
       "      <th>title</th>\n",
       "      <th>selftext</th>\n",
       "      <th>subreddit</th>\n",
       "      <th>timestamp</th>\n",
       "    </tr>\n",
       "  </thead>\n",
       "  <tbody>\n",
       "    <tr>\n",
       "      <th>0</th>\n",
       "      <td>1614894046</td>\n",
       "      <td>https://www.reddit.com/r/Coronavirus/comments/...</td>\n",
       "      <td>lxw6ds</td>\n",
       "      <td>0</td>\n",
       "      <td>Are Face Masks Effective? The Evidence.</td>\n",
       "      <td></td>\n",
       "      <td>Coronavirus</td>\n",
       "      <td>2021-03-04 16:40:46</td>\n",
       "    </tr>\n",
       "    <tr>\n",
       "      <th>1</th>\n",
       "      <td>1614793983</td>\n",
       "      <td>https://www.reddit.com/r/Coronavirus/comments/...</td>\n",
       "      <td>lwzyb8</td>\n",
       "      <td>222</td>\n",
       "      <td>Texas vaccine rollout ranks 48th among states ...</td>\n",
       "      <td></td>\n",
       "      <td>Coronavirus</td>\n",
       "      <td>2021-03-03 12:53:03</td>\n",
       "    </tr>\n",
       "    <tr>\n",
       "      <th>2</th>\n",
       "      <td>1614793915</td>\n",
       "      <td>https://www.reddit.com/r/Coronavirus/comments/...</td>\n",
       "      <td>lwzxe4</td>\n",
       "      <td>1</td>\n",
       "      <td>Texas Vaccine Rollout Ranks 48th Among States ...</td>\n",
       "      <td>[deleted]</td>\n",
       "      <td>Coronavirus</td>\n",
       "      <td>2021-03-03 12:51:55</td>\n",
       "    </tr>\n",
       "    <tr>\n",
       "      <th>3</th>\n",
       "      <td>1614793266</td>\n",
       "      <td>https://www.reddit.com/r/Coronavirus/comments/...</td>\n",
       "      <td>lwznmt</td>\n",
       "      <td>3</td>\n",
       "      <td>In The Biggest Jump of The Pandemic, Brazil Se...</td>\n",
       "      <td></td>\n",
       "      <td>Coronavirus</td>\n",
       "      <td>2021-03-03 12:41:06</td>\n",
       "    </tr>\n",
       "    <tr>\n",
       "      <th>4</th>\n",
       "      <td>1614793259</td>\n",
       "      <td>https://www.reddit.com/r/Coronavirus/comments/...</td>\n",
       "      <td>lwzniu</td>\n",
       "      <td>0</td>\n",
       "      <td>Texas &amp;amp; Mississippi Both Lift Mask Mandate...</td>\n",
       "      <td></td>\n",
       "      <td>Coronavirus</td>\n",
       "      <td>2021-03-03 12:40:59</td>\n",
       "    </tr>\n",
       "  </tbody>\n",
       "</table>\n",
       "</div>"
      ],
      "text/plain": [
       "   created_utc                                                url      id  \\\n",
       "0   1614894046  https://www.reddit.com/r/Coronavirus/comments/...  lxw6ds   \n",
       "1   1614793983  https://www.reddit.com/r/Coronavirus/comments/...  lwzyb8   \n",
       "2   1614793915  https://www.reddit.com/r/Coronavirus/comments/...  lwzxe4   \n",
       "3   1614793266  https://www.reddit.com/r/Coronavirus/comments/...  lwznmt   \n",
       "4   1614793259  https://www.reddit.com/r/Coronavirus/comments/...  lwzniu   \n",
       "\n",
       "   num_comments                                              title   selftext  \\\n",
       "0             0            Are Face Masks Effective? The Evidence.              \n",
       "1           222  Texas vaccine rollout ranks 48th among states ...              \n",
       "2             1  Texas Vaccine Rollout Ranks 48th Among States ...  [deleted]   \n",
       "3             3  In The Biggest Jump of The Pandemic, Brazil Se...              \n",
       "4             0  Texas &amp; Mississippi Both Lift Mask Mandate...              \n",
       "\n",
       "     subreddit           timestamp  \n",
       "0  Coronavirus 2021-03-04 16:40:46  \n",
       "1  Coronavirus 2021-03-03 12:53:03  \n",
       "2  Coronavirus 2021-03-03 12:51:55  \n",
       "3  Coronavirus 2021-03-03 12:41:06  \n",
       "4  Coronavirus 2021-03-03 12:40:59  "
      ]
     },
     "execution_count": 69,
     "metadata": {},
     "output_type": "execute_result"
    }
   ],
   "source": [
    "posts_data.head()"
   ]
  },
  {
   "cell_type": "code",
   "execution_count": 70,
   "metadata": {},
   "outputs": [],
   "source": [
    "# export to csv\n",
    "filetime = time.strftime(\"%y%m%d_%H%M%S\", time.localtime())\n",
    "posts_data.to_csv('/Users/ericrodriguez/Bootcamp/Submissions/Projects/project_3-master/data/{}_{}.csv'.format(subreddit, filetime), index=False)"
   ]
  },
  {
   "cell_type": "code",
   "execution_count": null,
   "metadata": {},
   "outputs": [],
   "source": [
    "# potential update to code to change both date, but also subreddit, and how to push through any issues\n",
    "\n",
    "# present_utc = something, look into UTC time conversion\n",
    "# do it for start of covid to see how mental health and USA covid subreddit compared\n",
    "# then do it for a final UTC, or set it to X amount of posts\n",
    "# don't forget ot convert the dictionary to JSON after data collection\n"
   ]
  }
 ],
 "metadata": {
  "kernelspec": {
   "display_name": "Python 3",
   "language": "python",
   "name": "python3"
  },
  "language_info": {
   "codemirror_mode": {
    "name": "ipython",
    "version": 3
   },
   "file_extension": ".py",
   "mimetype": "text/x-python",
   "name": "python",
   "nbconvert_exporter": "python",
   "pygments_lexer": "ipython3",
   "version": "3.8.5"
  }
 },
 "nbformat": 4,
 "nbformat_minor": 4
}
