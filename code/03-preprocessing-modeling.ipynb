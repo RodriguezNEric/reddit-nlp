{
 "cells": [
  {
   "cell_type": "markdown",
   "metadata": {
    "tags": []
   },
   "source": [
    "# Project 3: Reddit Scraping & NLP\n",
    "\n",
    "## Part 3 - Preprocessing and Modeling"
   ]
  },
  {
   "cell_type": "code",
   "execution_count": 2,
   "metadata": {},
   "outputs": [
    {
     "name": "stderr",
     "output_type": "stream",
     "text": [
      "/Users/ericrodriguez/opt/anaconda3/lib/python3.8/site-packages/xgboost/compat.py:31: FutureWarning: pandas.Int64Index is deprecated and will be removed from pandas in a future version. Use pandas.Index with the appropriate dtype instead.\n",
      "  from pandas import MultiIndex, Int64Index\n"
     ]
    }
   ],
   "source": [
    "# General imports\n",
    "import pandas as pd\n",
    "import numpy as np\n",
    "import matplotlib.pyplot as plt\n",
    "import pickle\n",
    "\n",
    "# For Natural Language Processing\n",
    "from nltk.corpus import stopwords\n",
    "from sklearn.feature_extraction.text import CountVectorizer, TfidfVectorizer\n",
    "\n",
    "# For Classification Modeling\n",
    "from sklearn.model_selection import train_test_split, cross_val_score, GridSearchCV\n",
    "from sklearn.linear_model import LogisticRegression\n",
    "from sklearn.ensemble import RandomForestClassifier, BaggingClassifier, AdaBoostClassifier\n",
    "from sklearn.naive_bayes import MultinomialNB\n",
    "from sklearn.svm import SVC\n",
    "from sklearn.pipeline import Pipeline\n",
    "from sklearn.tree import DecisionTreeClassifier\n",
    "\n",
    "# For Evaluation\n",
    "from sklearn.metrics import (accuracy_score, confusion_matrix, ConfusionMatrixDisplay, \n",
    "                             plot_roc_curve, roc_auc_score, classification_report,\n",
    "                            precision_score, recall_score, f1_score)"
   ]
  },
  {
   "cell_type": "markdown",
   "metadata": {},
   "source": [
    "### Preprocessing"
   ]
  },
  {
   "cell_type": "code",
   "execution_count": 3,
   "metadata": {},
   "outputs": [],
   "source": [
    "# Read in cleaned data and reset index\n",
    "df = pd.read_csv('../data/cleaned_posts.csv', index_col=False)\n",
    "df.reset_index(inplace=True, drop=True)"
   ]
  },
  {
   "cell_type": "code",
   "execution_count": 4,
   "metadata": {},
   "outputs": [
    {
     "data": {
      "text/html": [
       "<div>\n",
       "<style scoped>\n",
       "    .dataframe tbody tr th:only-of-type {\n",
       "        vertical-align: middle;\n",
       "    }\n",
       "\n",
       "    .dataframe tbody tr th {\n",
       "        vertical-align: top;\n",
       "    }\n",
       "\n",
       "    .dataframe thead th {\n",
       "        text-align: right;\n",
       "    }\n",
       "</style>\n",
       "<table border=\"1\" class=\"dataframe\">\n",
       "  <thead>\n",
       "    <tr style=\"text-align: right;\">\n",
       "      <th></th>\n",
       "      <th>created_utc</th>\n",
       "      <th>url</th>\n",
       "      <th>full_link</th>\n",
       "      <th>id</th>\n",
       "      <th>num_comments</th>\n",
       "      <th>title</th>\n",
       "      <th>selftext</th>\n",
       "      <th>subreddit</th>\n",
       "      <th>timestamp</th>\n",
       "      <th>is_mental</th>\n",
       "      <th>title_char_length</th>\n",
       "      <th>title_word_count</th>\n",
       "      <th>sentiment_comp</th>\n",
       "      <th>sentiment_neg</th>\n",
       "      <th>sentiment_neu</th>\n",
       "      <th>sentiment_pos</th>\n",
       "    </tr>\n",
       "  </thead>\n",
       "  <tbody>\n",
       "    <tr>\n",
       "      <th>0</th>\n",
       "      <td>1611140689</td>\n",
       "      <td>https://www.reddit.com/r/mentalhealth/comments...</td>\n",
       "      <td>https://www.reddit.com/r/mentalhealth/comments...</td>\n",
       "      <td>l172x7</td>\n",
       "      <td>3</td>\n",
       "      <td>Has anyone else been completely unable to moni...</td>\n",
       "      <td>I had a psychotic break which seemed to come o...</td>\n",
       "      <td>mentalhealth</td>\n",
       "      <td>2021-01-20 06:04:49</td>\n",
       "      <td>1</td>\n",
       "      <td>70</td>\n",
       "      <td>11</td>\n",
       "      <td>0.0000</td>\n",
       "      <td>0.00</td>\n",
       "      <td>1.000</td>\n",
       "      <td>0.000</td>\n",
       "    </tr>\n",
       "    <tr>\n",
       "      <th>1</th>\n",
       "      <td>1611140753</td>\n",
       "      <td>https://www.reddit.com/r/mentalhealth/comments...</td>\n",
       "      <td>https://www.reddit.com/r/mentalhealth/comments...</td>\n",
       "      <td>l173gi</td>\n",
       "      <td>7</td>\n",
       "      <td>Is it normal to cry when you see someone you love</td>\n",
       "      <td>I know this sounds weird but i guess let me ex...</td>\n",
       "      <td>mentalhealth</td>\n",
       "      <td>2021-01-20 06:05:53</td>\n",
       "      <td>1</td>\n",
       "      <td>49</td>\n",
       "      <td>11</td>\n",
       "      <td>0.2732</td>\n",
       "      <td>0.19</td>\n",
       "      <td>0.552</td>\n",
       "      <td>0.258</td>\n",
       "    </tr>\n",
       "    <tr>\n",
       "      <th>2</th>\n",
       "      <td>1611141523</td>\n",
       "      <td>https://www.reddit.com/r/mentalhealth/comments...</td>\n",
       "      <td>https://www.reddit.com/r/mentalhealth/comments...</td>\n",
       "      <td>l179ft</td>\n",
       "      <td>2</td>\n",
       "      <td>Somethings gotta give</td>\n",
       "      <td>Been living with my mom who has bad mental iss...</td>\n",
       "      <td>mentalhealth</td>\n",
       "      <td>2021-01-20 06:18:43</td>\n",
       "      <td>1</td>\n",
       "      <td>21</td>\n",
       "      <td>3</td>\n",
       "      <td>0.0000</td>\n",
       "      <td>0.00</td>\n",
       "      <td>1.000</td>\n",
       "      <td>0.000</td>\n",
       "    </tr>\n",
       "    <tr>\n",
       "      <th>3</th>\n",
       "      <td>1611141801</td>\n",
       "      <td>https://www.reddit.com/r/mentalhealth/comments...</td>\n",
       "      <td>https://www.reddit.com/r/mentalhealth/comments...</td>\n",
       "      <td>l17bmq</td>\n",
       "      <td>2</td>\n",
       "      <td>Train Your Brain</td>\n",
       "      <td>NaN</td>\n",
       "      <td>mentalhealth</td>\n",
       "      <td>2021-01-20 06:23:21</td>\n",
       "      <td>1</td>\n",
       "      <td>16</td>\n",
       "      <td>3</td>\n",
       "      <td>0.0000</td>\n",
       "      <td>0.00</td>\n",
       "      <td>1.000</td>\n",
       "      <td>0.000</td>\n",
       "    </tr>\n",
       "    <tr>\n",
       "      <th>4</th>\n",
       "      <td>1611143753</td>\n",
       "      <td>https://www.reddit.com/r/mentalhealth/comments...</td>\n",
       "      <td>https://www.reddit.com/r/mentalhealth/comments...</td>\n",
       "      <td>l17rke</td>\n",
       "      <td>3</td>\n",
       "      <td>Rage attacks?</td>\n",
       "      <td>Hello. \\nI usually talk to myself (and Im pret...</td>\n",
       "      <td>mentalhealth</td>\n",
       "      <td>2021-01-20 06:55:53</td>\n",
       "      <td>1</td>\n",
       "      <td>13</td>\n",
       "      <td>2</td>\n",
       "      <td>-0.7579</td>\n",
       "      <td>1.00</td>\n",
       "      <td>0.000</td>\n",
       "      <td>0.000</td>\n",
       "    </tr>\n",
       "  </tbody>\n",
       "</table>\n",
       "</div>"
      ],
      "text/plain": [
       "   created_utc                                                url  \\\n",
       "0   1611140689  https://www.reddit.com/r/mentalhealth/comments...   \n",
       "1   1611140753  https://www.reddit.com/r/mentalhealth/comments...   \n",
       "2   1611141523  https://www.reddit.com/r/mentalhealth/comments...   \n",
       "3   1611141801  https://www.reddit.com/r/mentalhealth/comments...   \n",
       "4   1611143753  https://www.reddit.com/r/mentalhealth/comments...   \n",
       "\n",
       "                                           full_link      id  num_comments  \\\n",
       "0  https://www.reddit.com/r/mentalhealth/comments...  l172x7             3   \n",
       "1  https://www.reddit.com/r/mentalhealth/comments...  l173gi             7   \n",
       "2  https://www.reddit.com/r/mentalhealth/comments...  l179ft             2   \n",
       "3  https://www.reddit.com/r/mentalhealth/comments...  l17bmq             2   \n",
       "4  https://www.reddit.com/r/mentalhealth/comments...  l17rke             3   \n",
       "\n",
       "                                               title  \\\n",
       "0  Has anyone else been completely unable to moni...   \n",
       "1  Is it normal to cry when you see someone you love   \n",
       "2                              Somethings gotta give   \n",
       "3                                   Train Your Brain   \n",
       "4                                      Rage attacks?   \n",
       "\n",
       "                                            selftext     subreddit  \\\n",
       "0  I had a psychotic break which seemed to come o...  mentalhealth   \n",
       "1  I know this sounds weird but i guess let me ex...  mentalhealth   \n",
       "2  Been living with my mom who has bad mental iss...  mentalhealth   \n",
       "3                                                NaN  mentalhealth   \n",
       "4  Hello. \\nI usually talk to myself (and Im pret...  mentalhealth   \n",
       "\n",
       "             timestamp  is_mental  title_char_length  title_word_count  \\\n",
       "0  2021-01-20 06:04:49          1                 70                11   \n",
       "1  2021-01-20 06:05:53          1                 49                11   \n",
       "2  2021-01-20 06:18:43          1                 21                 3   \n",
       "3  2021-01-20 06:23:21          1                 16                 3   \n",
       "4  2021-01-20 06:55:53          1                 13                 2   \n",
       "\n",
       "   sentiment_comp  sentiment_neg  sentiment_neu  sentiment_pos  \n",
       "0          0.0000           0.00          1.000          0.000  \n",
       "1          0.2732           0.19          0.552          0.258  \n",
       "2          0.0000           0.00          1.000          0.000  \n",
       "3          0.0000           0.00          1.000          0.000  \n",
       "4         -0.7579           1.00          0.000          0.000  "
      ]
     },
     "execution_count": 4,
     "metadata": {},
     "output_type": "execute_result"
    }
   ],
   "source": [
    "df.head()"
   ]
  },
  {
   "cell_type": "code",
   "execution_count": 5,
   "metadata": {},
   "outputs": [
    {
     "data": {
      "text/plain": [
       "0"
      ]
     },
     "execution_count": 5,
     "metadata": {},
     "output_type": "execute_result"
    }
   ],
   "source": [
    "# Check for missing values in title\n",
    "df.title.isnull().sum()"
   ]
  },
  {
   "cell_type": "code",
   "execution_count": 6,
   "metadata": {},
   "outputs": [],
   "source": [
    "df2 = pd.read_csv('../data/shared_words.csv')"
   ]
  },
  {
   "cell_type": "code",
   "execution_count": 7,
   "metadata": {},
   "outputs": [],
   "source": [
    "shared_words = list(df2['shared_word'])"
   ]
  },
  {
   "cell_type": "code",
   "execution_count": 8,
   "metadata": {},
   "outputs": [
    {
     "name": "stdout",
     "output_type": "stream",
     "text": [
      "['help', 'like', 'health', 'know', 'i’m', 'just', 'need', 'does', 'don’t', 'think', 'people', 'time', 'going', 'getting', 'make', 'today', 'new', 'right', 'got', 'long', 'best', 'say']\n"
     ]
    }
   ],
   "source": [
    "print(shared_words)"
   ]
  },
  {
   "cell_type": "code",
   "execution_count": 9,
   "metadata": {},
   "outputs": [],
   "source": [
    "# Create my_stopwords model parameter combining English stop words and subreddits shared words\n",
    "my_stopwords = list(TfidfVectorizer(stop_words = 'english').get_stop_words()) + shared_words"
   ]
  },
  {
   "cell_type": "markdown",
   "metadata": {},
   "source": [
    "### Modeling\n",
    "\n",
    "#### The Null Model"
   ]
  },
  {
   "cell_type": "code",
   "execution_count": 10,
   "metadata": {},
   "outputs": [],
   "source": [
    "# Define X and y\n",
    "X = df['title']\n",
    "y = df['is_mental']"
   ]
  },
  {
   "cell_type": "code",
   "execution_count": 11,
   "metadata": {},
   "outputs": [
    {
     "data": {
      "text/plain": [
       "1    0.500382\n",
       "0    0.499618\n",
       "Name: is_mental, dtype: float64"
      ]
     },
     "execution_count": 11,
     "metadata": {},
     "output_type": "execute_result"
    }
   ],
   "source": [
    "# Check class distribution\n",
    "y.value_counts(normalize=True)"
   ]
  },
  {
   "cell_type": "markdown",
   "metadata": {},
   "source": [
    "We can see here that 50.04% of posts are from r/mentalhealth, and 49.96% of posts are from r/CoronavirusUS. The null model is showing that selecting the label r/mentalthealth would result in correctly predicting what subreddit a post came from 50.04% of the time. My goal is to build a model that classifies posts with an accuracy higher than 50.04%."
   ]
  },
  {
   "cell_type": "markdown",
   "metadata": {},
   "source": [
    "#### Model 1: Logistic Regression"
   ]
  },
  {
   "cell_type": "code",
   "execution_count": 12,
   "metadata": {},
   "outputs": [
    {
     "data": {
      "text/plain": [
       "(0.9979612640163099, 0.9205702647657841)"
      ]
     },
     "execution_count": 12,
     "metadata": {},
     "output_type": "execute_result"
    }
   ],
   "source": [
    "# Define X and y\n",
    "X = df['title']\n",
    "y = df['is_mental']\n",
    "\n",
    "# Train test split\n",
    "X_train, X_test, y_train, y_test = train_test_split(X, y, random_state=42)\n",
    "\n",
    "# Set up transformer and estimator via pipeline\n",
    "pipe_lr = Pipeline([\n",
    "    ('tvec', TfidfVectorizer(token_pattern=r'[\\w{2,}\\d*]\\S*\\w+')),\n",
    "    ('logreg', LogisticRegression())\n",
    "])\n",
    "\n",
    "# Set up parameters for pipeline\n",
    "lr_params = {\n",
    "    'tvec__stop_words': [None, 'english', my_stopwords],\n",
    "    'tvec__min_df': [1, 5, 10],\n",
    "    'tvec__ngram_range': [(1,1), (1,2), (2,2)],\n",
    "    'logreg__C': [0.1, 1, 10]  \n",
    "}\n",
    "\n",
    "# Instantiate GridSearchCV\n",
    "gs_lr = GridSearchCV(estimator=pipe_lr,\n",
    "                      param_grid=lr_params,\n",
    "                      cv=5,\n",
    "                      verbose=0)\n",
    "\n",
    "# Fit GridSearchCV\n",
    "gs_lr.fit(X_train, y_train)\n",
    "\n",
    "# Accuracy score\n",
    "gs_lr.score(X_train, y_train), gs_lr.score(X_test, y_test)"
   ]
  },
  {
   "cell_type": "code",
   "execution_count": 13,
   "metadata": {},
   "outputs": [
    {
     "data": {
      "image/png": "[encoded data removed]",
      "text/plain": [
       "<Figure size 432x288 with 2 Axes>"
      ]
     },
     "metadata": {
      "needs_background": "light"
     },
     "output_type": "display_data"
    }
   ],
   "source": [
    "# Predicted y test values\n",
    "lr_preds = gs_lr.predict(X_test)\n",
    "\n",
    "# Plot a confusion matrix\n",
    "ConfusionMatrixDisplay.from_estimator(gs_lr, X_test, y_test, display_labels=['MH','COVID'], cmap='plasma');"
   ]
  },
  {
   "cell_type": "code",
   "execution_count": 14,
   "metadata": {},
   "outputs": [
    {
     "name": "stdout",
     "output_type": "stream",
     "text": [
      "              precision    recall  f1-score   support\n",
      "\n",
      "          MH       0.94      0.90      0.92       485\n",
      "       COVID       0.90      0.94      0.92       497\n",
      "\n",
      "    accuracy                           0.92       982\n",
      "   macro avg       0.92      0.92      0.92       982\n",
      "weighted avg       0.92      0.92      0.92       982\n",
      "\n"
     ]
    }
   ],
   "source": [
    "# Model evaluation metrics\n",
    "print(classification_report(y_test, lr_preds, target_names=['MH', 'COVID']))"
   ]
  },
  {
   "cell_type": "code",
   "execution_count": 15,
   "metadata": {
    "tags": []
   },
   "outputs": [
    {
     "data": {
      "text/plain": [
       "{'logreg__C': 10,\n",
       " 'tvec__min_df': 1,\n",
       " 'tvec__ngram_range': (1, 2),\n",
       " 'tvec__stop_words': 'english'}"
      ]
     },
     "execution_count": 15,
     "metadata": {},
     "output_type": "execute_result"
    }
   ],
   "source": [
    "# # Best parameters (uncomment to run)\n",
    "# gs_lr.best_params_"
   ]
  },
  {
   "cell_type": "markdown",
   "metadata": {},
   "source": [
    "**Interpretation:** Model 1 is a logistic regression model that utilizes TF-IDF vectorizer and a pipline/gridsearch in order to predict the correct subreedit of a post. TF-IDF vectoriziation is used because it better differentiates rare words and gives weights to all of the words, unlike Countvectorizer which gives equal weights to all words. The most desirable parameters that maximizes accuracy include 'english\" as the stop words, and an ngram range of (1,2), meaning the model creates unigram and bigram vectors. The testing accuracy score of 92.1% on unseen data means that this model surpasses the baseline model in its ability to classify reddit posts. However, given a training score of 99.86%, this model is clearly overfit. Between precision and recall, we are more concerned with not missing r/mentalhealth posts, and this model returns a recall score of .90, which is good. Overall, this model is still largely robust in it's ability to predict the correct subreddit of a post."
   ]
  },
  {
   "cell_type": "markdown",
   "metadata": {},
   "source": [
    "#### Model 2: Decision Tree Classifier"
   ]
  },
  {
   "cell_type": "code",
   "execution_count": 16,
   "metadata": {},
   "outputs": [
    {
     "data": {
      "text/plain": [
       "(0.9034998301053347, 0.895112016293279)"
      ]
     },
     "execution_count": 16,
     "metadata": {},
     "output_type": "execute_result"
    }
   ],
   "source": [
    "# Define X and y\n",
    "X = df['title']\n",
    "y = df['is_mental']\n",
    "\n",
    "# Train test split\n",
    "X_train, X_test, y_train, y_test = train_test_split(X, y, random_state=42)\n",
    "\n",
    "# Set up pipeline\n",
    "pipe_dtc = Pipeline([\n",
    "    ('tvec', TfidfVectorizer(token_pattern=r'[\\w{2,}\\d*]\\S*\\w+')),\n",
    "    ('dct', DecisionTreeClassifier(min_samples_leaf=2))\n",
    "])\n",
    "\n",
    "# Set up parameters for pipeline\n",
    "dtc_params = {\n",
    "    'tvec__stop_words': [None, 'english', my_stopwords],\n",
    "    'tvec__min_df': [1, 5, 10],\n",
    "    'tvec__ngram_range': [(1,1), (1,2), (2,2)],\n",
    "    'dct__max_depth': [None, 10, 20, 40, 100]\n",
    "}\n",
    "\n",
    "# Instantiate GridSearchCV\n",
    "gs_dtc = GridSearchCV(estimator=pipe_dtc,\n",
    "                      param_grid=dtc_params,\n",
    "                      cv=5,\n",
    "                      verbose=0)\n",
    "\n",
    "# Fit GridSearchCV\n",
    "gs_dtc.fit(X_train, y_train)\n",
    "\n",
    "# Accuracy score\n",
    "gs_dtc.score(X_train, y_train), gs_dtc.score(X_test, y_test)"
   ]
  },
  {
   "cell_type": "code",
   "execution_count": 17,
   "metadata": {},
   "outputs": [
    {
     "data": {
      "image/png": "[encoded data removed]",
      "text/plain": [
       "<Figure size 432x288 with 2 Axes>"
      ]
     },
     "metadata": {
      "needs_background": "light"
     },
     "output_type": "display_data"
    }
   ],
   "source": [
    "# Predicted y test values\n",
    "dtc_preds = gs_dtc.predict(X_test)\n",
    "\n",
    "# Plot a confusion matrix\n",
    "ConfusionMatrixDisplay.from_estimator(gs_dtc, X_test, y_test, display_labels=['MH','COVID'], cmap='plasma');"
   ]
  },
  {
   "cell_type": "code",
   "execution_count": 18,
   "metadata": {},
   "outputs": [
    {
     "name": "stdout",
     "output_type": "stream",
     "text": [
      "              precision    recall  f1-score   support\n",
      "\n",
      "          MH       0.98      0.81      0.88       485\n",
      "       COVID       0.84      0.98      0.90       497\n",
      "\n",
      "    accuracy                           0.90       982\n",
      "   macro avg       0.91      0.89      0.89       982\n",
      "weighted avg       0.91      0.90      0.89       982\n",
      "\n"
     ]
    }
   ],
   "source": [
    "# Model evaluation metrics\n",
    "print(classification_report(y_test, dtc_preds, target_names=['MH', 'COVID']))"
   ]
  },
  {
   "cell_type": "code",
   "execution_count": 19,
   "metadata": {
    "collapsed": true,
    "jupyter": {
     "outputs_hidden": true
    },
    "tags": []
   },
   "outputs": [
    {
     "data": {
      "text/plain": [
       "{'dct__max_depth': 40,\n",
       " 'tvec__min_df': 10,\n",
       " 'tvec__ngram_range': (1, 2),\n",
       " 'tvec__stop_words': ['toward',\n",
       "  'hereby',\n",
       "  'eleven',\n",
       "  'against',\n",
       "  'though',\n",
       "  'who',\n",
       "  'system',\n",
       "  'all',\n",
       "  'most',\n",
       "  'empty',\n",
       "  'myself',\n",
       "  'thereupon',\n",
       "  'only',\n",
       "  'may',\n",
       "  'where',\n",
       "  'because',\n",
       "  'together',\n",
       "  'fire',\n",
       "  'etc',\n",
       "  'every',\n",
       "  'own',\n",
       "  'a',\n",
       "  'take',\n",
       "  'across',\n",
       "  'forty',\n",
       "  'less',\n",
       "  'this',\n",
       "  'than',\n",
       "  'move',\n",
       "  'serious',\n",
       "  'its',\n",
       "  'about',\n",
       "  'has',\n",
       "  'keep',\n",
       "  'among',\n",
       "  'becoming',\n",
       "  'down',\n",
       "  'beforehand',\n",
       "  'everything',\n",
       "  'elsewhere',\n",
       "  'few',\n",
       "  'with',\n",
       "  'everyone',\n",
       "  'after',\n",
       "  'whoever',\n",
       "  'or',\n",
       "  'besides',\n",
       "  'here',\n",
       "  'nowhere',\n",
       "  'were',\n",
       "  'should',\n",
       "  'namely',\n",
       "  'anyway',\n",
       "  'ltd',\n",
       "  'seeming',\n",
       "  'already',\n",
       "  'rather',\n",
       "  'almost',\n",
       "  'through',\n",
       "  'being',\n",
       "  'once',\n",
       "  'seemed',\n",
       "  'next',\n",
       "  'do',\n",
       "  'below',\n",
       "  'when',\n",
       "  'our',\n",
       "  'around',\n",
       "  'enough',\n",
       "  'if',\n",
       "  'over',\n",
       "  'often',\n",
       "  'none',\n",
       "  'always',\n",
       "  'hers',\n",
       "  'thereby',\n",
       "  'although',\n",
       "  'themselves',\n",
       "  'these',\n",
       "  'yours',\n",
       "  'fill',\n",
       "  'anywhere',\n",
       "  'you',\n",
       "  'out',\n",
       "  'sixty',\n",
       "  'whereby',\n",
       "  'why',\n",
       "  'four',\n",
       "  'but',\n",
       "  'along',\n",
       "  'within',\n",
       "  'ourselves',\n",
       "  'cant',\n",
       "  'eg',\n",
       "  'further',\n",
       "  'towards',\n",
       "  'moreover',\n",
       "  'sincere',\n",
       "  'even',\n",
       "  'put',\n",
       "  'whose',\n",
       "  'whole',\n",
       "  'find',\n",
       "  'to',\n",
       "  'thick',\n",
       "  'part',\n",
       "  'under',\n",
       "  'us',\n",
       "  'any',\n",
       "  'ie',\n",
       "  'upon',\n",
       "  'detail',\n",
       "  'we',\n",
       "  'inc',\n",
       "  'up',\n",
       "  'anyone',\n",
       "  'found',\n",
       "  'thereafter',\n",
       "  'am',\n",
       "  'whereas',\n",
       "  'what',\n",
       "  'nobody',\n",
       "  'least',\n",
       "  'will',\n",
       "  'neither',\n",
       "  'not',\n",
       "  'whither',\n",
       "  'get',\n",
       "  'behind',\n",
       "  'itself',\n",
       "  'now',\n",
       "  'indeed',\n",
       "  'someone',\n",
       "  'give',\n",
       "  'mine',\n",
       "  'of',\n",
       "  'wherein',\n",
       "  'until',\n",
       "  'sometimes',\n",
       "  'noone',\n",
       "  'that',\n",
       "  'whom',\n",
       "  'last',\n",
       "  'an',\n",
       "  'cry',\n",
       "  'by',\n",
       "  'describe',\n",
       "  'however',\n",
       "  'front',\n",
       "  'how',\n",
       "  'cannot',\n",
       "  'formerly',\n",
       "  'show',\n",
       "  'amount',\n",
       "  'either',\n",
       "  'co',\n",
       "  'and',\n",
       "  'herein',\n",
       "  'onto',\n",
       "  'therefore',\n",
       "  'could',\n",
       "  'else',\n",
       "  'on',\n",
       "  'latterly',\n",
       "  'name',\n",
       "  'more',\n",
       "  'five',\n",
       "  'please',\n",
       "  'nevertheless',\n",
       "  'thus',\n",
       "  'via',\n",
       "  'whereafter',\n",
       "  'one',\n",
       "  'fifty',\n",
       "  'other',\n",
       "  'very',\n",
       "  'meanwhile',\n",
       "  'same',\n",
       "  'while',\n",
       "  'also',\n",
       "  'which',\n",
       "  'would',\n",
       "  'hereafter',\n",
       "  'them',\n",
       "  'into',\n",
       "  'since',\n",
       "  'nothing',\n",
       "  'in',\n",
       "  'can',\n",
       "  'nor',\n",
       "  'bottom',\n",
       "  'interest',\n",
       "  'never',\n",
       "  'two',\n",
       "  'six',\n",
       "  'become',\n",
       "  'otherwise',\n",
       "  'first',\n",
       "  'hence',\n",
       "  'de',\n",
       "  'they',\n",
       "  'somehow',\n",
       "  'thin',\n",
       "  'might',\n",
       "  'those',\n",
       "  'beside',\n",
       "  'herself',\n",
       "  'yourself',\n",
       "  'such',\n",
       "  'whereupon',\n",
       "  'too',\n",
       "  're',\n",
       "  'seem',\n",
       "  'both',\n",
       "  'hasnt',\n",
       "  'whenever',\n",
       "  'each',\n",
       "  'was',\n",
       "  'my',\n",
       "  'ever',\n",
       "  'the',\n",
       "  'amoungst',\n",
       "  'yet',\n",
       "  'thence',\n",
       "  'full',\n",
       "  'becomes',\n",
       "  'she',\n",
       "  'mill',\n",
       "  'therein',\n",
       "  'yourselves',\n",
       "  'before',\n",
       "  'himself',\n",
       "  'without',\n",
       "  'so',\n",
       "  'some',\n",
       "  'anyhow',\n",
       "  'anything',\n",
       "  'fifteen',\n",
       "  'their',\n",
       "  'above',\n",
       "  'became',\n",
       "  'see',\n",
       "  'side',\n",
       "  'must',\n",
       "  'ten',\n",
       "  'former',\n",
       "  'wherever',\n",
       "  'throughout',\n",
       "  'much',\n",
       "  'due',\n",
       "  'back',\n",
       "  'whatever',\n",
       "  'three',\n",
       "  'others',\n",
       "  'had',\n",
       "  'seems',\n",
       "  'still',\n",
       "  'somewhere',\n",
       "  'for',\n",
       "  'something',\n",
       "  'made',\n",
       "  'alone',\n",
       "  'several',\n",
       "  'couldnt',\n",
       "  'again',\n",
       "  'sometime',\n",
       "  'done',\n",
       "  'him',\n",
       "  'eight',\n",
       "  'there',\n",
       "  'no',\n",
       "  'off',\n",
       "  'me',\n",
       "  'have',\n",
       "  'been',\n",
       "  'are',\n",
       "  'her',\n",
       "  'he',\n",
       "  'beyond',\n",
       "  'many',\n",
       "  'your',\n",
       "  'perhaps',\n",
       "  'then',\n",
       "  'mostly',\n",
       "  'at',\n",
       "  'con',\n",
       "  'except',\n",
       "  'it',\n",
       "  'call',\n",
       "  'afterwards',\n",
       "  'everywhere',\n",
       "  'top',\n",
       "  'whence',\n",
       "  'during',\n",
       "  'ours',\n",
       "  'well',\n",
       "  'another',\n",
       "  'i',\n",
       "  'hundred',\n",
       "  'amongst',\n",
       "  'nine',\n",
       "  'per',\n",
       "  'be',\n",
       "  'is',\n",
       "  'between',\n",
       "  'go',\n",
       "  'un',\n",
       "  'from',\n",
       "  'twelve',\n",
       "  'latter',\n",
       "  'bill',\n",
       "  'twenty',\n",
       "  'his',\n",
       "  'third',\n",
       "  'hereupon',\n",
       "  'as',\n",
       "  'thru',\n",
       "  'whether',\n",
       "  'help',\n",
       "  'like',\n",
       "  'health',\n",
       "  'know',\n",
       "  'i’m',\n",
       "  'just',\n",
       "  'need',\n",
       "  'does',\n",
       "  'don’t',\n",
       "  'think',\n",
       "  'people',\n",
       "  'time',\n",
       "  'going',\n",
       "  'getting',\n",
       "  'make',\n",
       "  'today',\n",
       "  'new',\n",
       "  'right',\n",
       "  'got',\n",
       "  'long',\n",
       "  'best',\n",
       "  'say']}"
      ]
     },
     "execution_count": 19,
     "metadata": {},
     "output_type": "execute_result"
    }
   ],
   "source": [
    "# # Best parameters (uncomment to run)\n",
    "# gs_dtc.best_params_"
   ]
  },
  {
   "cell_type": "markdown",
   "metadata": {},
   "source": [
    "**Interpretation:** Model 2's testing accuracy of 89.5% on unseen data means that this model surpasses the baseline model in its ability to classify reddit posts. Given a training score of 90.3%, this model shows a balanced bias-variance tradeoff. Between precision and recall, we are more concerned with not missing r/mentalhealth posts, and this model returns a recall score of .81, which is good, but not as high as Model 1."
   ]
  },
  {
   "cell_type": "markdown",
   "metadata": {},
   "source": [
    "#### Model 3: Bagging Classifier"
   ]
  },
  {
   "cell_type": "code",
   "execution_count": 20,
   "metadata": {},
   "outputs": [
    {
     "data": {
      "text/plain": [
       "(0.9908256880733946, 0.9164969450101833)"
      ]
     },
     "execution_count": 20,
     "metadata": {},
     "output_type": "execute_result"
    }
   ],
   "source": [
    "# Define X and y\n",
    "X = df['title']\n",
    "y = df['is_mental']\n",
    "\n",
    "# Train test split\n",
    "X_train, X_test, y_train, y_test = train_test_split(X, y, random_state=42)\n",
    "\n",
    "# Set up pipeline\n",
    "pipe_bag = Pipeline([\n",
    "    ('tvec', TfidfVectorizer(token_pattern=r'[\\w{2,}\\d*]\\S*\\w+')),\n",
    "    ('bag', BaggingClassifier())\n",
    "])\n",
    "\n",
    "# Set up parameters for pipeline\n",
    "bag_params = {\n",
    "    'tvec__stop_words': [None, 'english', my_stopwords],\n",
    "    'tvec__min_df': [1, 5, 10],\n",
    "    'tvec__ngram_range': [(1,1), (1,2), (2,2)],\n",
    "    'bag__n_estimators': [10, 15, 20]\n",
    "}\n",
    "\n",
    "# Instantiate GridSearchCV\n",
    "gs_bag = GridSearchCV(estimator=pipe_bag,\n",
    "                      param_grid=bag_params,\n",
    "                      cv=5,\n",
    "                      verbose=0)\n",
    "\n",
    "# Fit GridSearchCV\n",
    "gs_bag.fit(X_train, y_train)\n",
    "\n",
    "# Accuracy score\n",
    "gs_bag.score(X_train, y_train), gs_bag.score(X_test, y_test)"
   ]
  },
  {
   "cell_type": "code",
   "execution_count": 21,
   "metadata": {},
   "outputs": [
    {
     "data": {
      "image/png": "[encoded data removed]",
      "text/plain": [
       "<Figure size 432x288 with 2 Axes>"
      ]
     },
     "metadata": {
      "needs_background": "light"
     },
     "output_type": "display_data"
    }
   ],
   "source": [
    "# Predicted y test values\n",
    "bag_preds = gs_bag.predict(X_test)\n",
    "\n",
    "# Plot a confusion matrix\n",
    "ConfusionMatrixDisplay.from_estimator(gs_bag, X_test, y_test, display_labels=['MH','COVID'], cmap='plasma');"
   ]
  },
  {
   "cell_type": "code",
   "execution_count": 22,
   "metadata": {
    "tags": []
   },
   "outputs": [
    {
     "name": "stdout",
     "output_type": "stream",
     "text": [
      "              precision    recall  f1-score   support\n",
      "\n",
      "          MH       0.96      0.87      0.91       485\n",
      "       COVID       0.88      0.97      0.92       497\n",
      "\n",
      "    accuracy                           0.92       982\n",
      "   macro avg       0.92      0.92      0.92       982\n",
      "weighted avg       0.92      0.92      0.92       982\n",
      "\n"
     ]
    }
   ],
   "source": [
    "# Model evaluation metrics\n",
    "print(classification_report(y_test, bag_preds, target_names=['MH', 'COVID']))"
   ]
  },
  {
   "cell_type": "code",
   "execution_count": 23,
   "metadata": {
    "collapsed": true,
    "jupyter": {
     "outputs_hidden": true
    },
    "tags": []
   },
   "outputs": [
    {
     "data": {
      "text/plain": [
       "{'bag__n_estimators': 15,\n",
       " 'tvec__min_df': 1,\n",
       " 'tvec__ngram_range': (1, 1),\n",
       " 'tvec__stop_words': ['toward',\n",
       "  'hereby',\n",
       "  'eleven',\n",
       "  'against',\n",
       "  'though',\n",
       "  'who',\n",
       "  'system',\n",
       "  'all',\n",
       "  'most',\n",
       "  'empty',\n",
       "  'myself',\n",
       "  'thereupon',\n",
       "  'only',\n",
       "  'may',\n",
       "  'where',\n",
       "  'because',\n",
       "  'together',\n",
       "  'fire',\n",
       "  'etc',\n",
       "  'every',\n",
       "  'own',\n",
       "  'a',\n",
       "  'take',\n",
       "  'across',\n",
       "  'forty',\n",
       "  'less',\n",
       "  'this',\n",
       "  'than',\n",
       "  'move',\n",
       "  'serious',\n",
       "  'its',\n",
       "  'about',\n",
       "  'has',\n",
       "  'keep',\n",
       "  'among',\n",
       "  'becoming',\n",
       "  'down',\n",
       "  'beforehand',\n",
       "  'everything',\n",
       "  'elsewhere',\n",
       "  'few',\n",
       "  'with',\n",
       "  'everyone',\n",
       "  'after',\n",
       "  'whoever',\n",
       "  'or',\n",
       "  'besides',\n",
       "  'here',\n",
       "  'nowhere',\n",
       "  'were',\n",
       "  'should',\n",
       "  'namely',\n",
       "  'anyway',\n",
       "  'ltd',\n",
       "  'seeming',\n",
       "  'already',\n",
       "  'rather',\n",
       "  'almost',\n",
       "  'through',\n",
       "  'being',\n",
       "  'once',\n",
       "  'seemed',\n",
       "  'next',\n",
       "  'do',\n",
       "  'below',\n",
       "  'when',\n",
       "  'our',\n",
       "  'around',\n",
       "  'enough',\n",
       "  'if',\n",
       "  'over',\n",
       "  'often',\n",
       "  'none',\n",
       "  'always',\n",
       "  'hers',\n",
       "  'thereby',\n",
       "  'although',\n",
       "  'themselves',\n",
       "  'these',\n",
       "  'yours',\n",
       "  'fill',\n",
       "  'anywhere',\n",
       "  'you',\n",
       "  'out',\n",
       "  'sixty',\n",
       "  'whereby',\n",
       "  'why',\n",
       "  'four',\n",
       "  'but',\n",
       "  'along',\n",
       "  'within',\n",
       "  'ourselves',\n",
       "  'cant',\n",
       "  'eg',\n",
       "  'further',\n",
       "  'towards',\n",
       "  'moreover',\n",
       "  'sincere',\n",
       "  'even',\n",
       "  'put',\n",
       "  'whose',\n",
       "  'whole',\n",
       "  'find',\n",
       "  'to',\n",
       "  'thick',\n",
       "  'part',\n",
       "  'under',\n",
       "  'us',\n",
       "  'any',\n",
       "  'ie',\n",
       "  'upon',\n",
       "  'detail',\n",
       "  'we',\n",
       "  'inc',\n",
       "  'up',\n",
       "  'anyone',\n",
       "  'found',\n",
       "  'thereafter',\n",
       "  'am',\n",
       "  'whereas',\n",
       "  'what',\n",
       "  'nobody',\n",
       "  'least',\n",
       "  'will',\n",
       "  'neither',\n",
       "  'not',\n",
       "  'whither',\n",
       "  'get',\n",
       "  'behind',\n",
       "  'itself',\n",
       "  'now',\n",
       "  'indeed',\n",
       "  'someone',\n",
       "  'give',\n",
       "  'mine',\n",
       "  'of',\n",
       "  'wherein',\n",
       "  'until',\n",
       "  'sometimes',\n",
       "  'noone',\n",
       "  'that',\n",
       "  'whom',\n",
       "  'last',\n",
       "  'an',\n",
       "  'cry',\n",
       "  'by',\n",
       "  'describe',\n",
       "  'however',\n",
       "  'front',\n",
       "  'how',\n",
       "  'cannot',\n",
       "  'formerly',\n",
       "  'show',\n",
       "  'amount',\n",
       "  'either',\n",
       "  'co',\n",
       "  'and',\n",
       "  'herein',\n",
       "  'onto',\n",
       "  'therefore',\n",
       "  'could',\n",
       "  'else',\n",
       "  'on',\n",
       "  'latterly',\n",
       "  'name',\n",
       "  'more',\n",
       "  'five',\n",
       "  'please',\n",
       "  'nevertheless',\n",
       "  'thus',\n",
       "  'via',\n",
       "  'whereafter',\n",
       "  'one',\n",
       "  'fifty',\n",
       "  'other',\n",
       "  'very',\n",
       "  'meanwhile',\n",
       "  'same',\n",
       "  'while',\n",
       "  'also',\n",
       "  'which',\n",
       "  'would',\n",
       "  'hereafter',\n",
       "  'them',\n",
       "  'into',\n",
       "  'since',\n",
       "  'nothing',\n",
       "  'in',\n",
       "  'can',\n",
       "  'nor',\n",
       "  'bottom',\n",
       "  'interest',\n",
       "  'never',\n",
       "  'two',\n",
       "  'six',\n",
       "  'become',\n",
       "  'otherwise',\n",
       "  'first',\n",
       "  'hence',\n",
       "  'de',\n",
       "  'they',\n",
       "  'somehow',\n",
       "  'thin',\n",
       "  'might',\n",
       "  'those',\n",
       "  'beside',\n",
       "  'herself',\n",
       "  'yourself',\n",
       "  'such',\n",
       "  'whereupon',\n",
       "  'too',\n",
       "  're',\n",
       "  'seem',\n",
       "  'both',\n",
       "  'hasnt',\n",
       "  'whenever',\n",
       "  'each',\n",
       "  'was',\n",
       "  'my',\n",
       "  'ever',\n",
       "  'the',\n",
       "  'amoungst',\n",
       "  'yet',\n",
       "  'thence',\n",
       "  'full',\n",
       "  'becomes',\n",
       "  'she',\n",
       "  'mill',\n",
       "  'therein',\n",
       "  'yourselves',\n",
       "  'before',\n",
       "  'himself',\n",
       "  'without',\n",
       "  'so',\n",
       "  'some',\n",
       "  'anyhow',\n",
       "  'anything',\n",
       "  'fifteen',\n",
       "  'their',\n",
       "  'above',\n",
       "  'became',\n",
       "  'see',\n",
       "  'side',\n",
       "  'must',\n",
       "  'ten',\n",
       "  'former',\n",
       "  'wherever',\n",
       "  'throughout',\n",
       "  'much',\n",
       "  'due',\n",
       "  'back',\n",
       "  'whatever',\n",
       "  'three',\n",
       "  'others',\n",
       "  'had',\n",
       "  'seems',\n",
       "  'still',\n",
       "  'somewhere',\n",
       "  'for',\n",
       "  'something',\n",
       "  'made',\n",
       "  'alone',\n",
       "  'several',\n",
       "  'couldnt',\n",
       "  'again',\n",
       "  'sometime',\n",
       "  'done',\n",
       "  'him',\n",
       "  'eight',\n",
       "  'there',\n",
       "  'no',\n",
       "  'off',\n",
       "  'me',\n",
       "  'have',\n",
       "  'been',\n",
       "  'are',\n",
       "  'her',\n",
       "  'he',\n",
       "  'beyond',\n",
       "  'many',\n",
       "  'your',\n",
       "  'perhaps',\n",
       "  'then',\n",
       "  'mostly',\n",
       "  'at',\n",
       "  'con',\n",
       "  'except',\n",
       "  'it',\n",
       "  'call',\n",
       "  'afterwards',\n",
       "  'everywhere',\n",
       "  'top',\n",
       "  'whence',\n",
       "  'during',\n",
       "  'ours',\n",
       "  'well',\n",
       "  'another',\n",
       "  'i',\n",
       "  'hundred',\n",
       "  'amongst',\n",
       "  'nine',\n",
       "  'per',\n",
       "  'be',\n",
       "  'is',\n",
       "  'between',\n",
       "  'go',\n",
       "  'un',\n",
       "  'from',\n",
       "  'twelve',\n",
       "  'latter',\n",
       "  'bill',\n",
       "  'twenty',\n",
       "  'his',\n",
       "  'third',\n",
       "  'hereupon',\n",
       "  'as',\n",
       "  'thru',\n",
       "  'whether',\n",
       "  'help',\n",
       "  'like',\n",
       "  'health',\n",
       "  'know',\n",
       "  'i’m',\n",
       "  'just',\n",
       "  'need',\n",
       "  'does',\n",
       "  'don’t',\n",
       "  'think',\n",
       "  'people',\n",
       "  'time',\n",
       "  'going',\n",
       "  'getting',\n",
       "  'make',\n",
       "  'today',\n",
       "  'new',\n",
       "  'right',\n",
       "  'got',\n",
       "  'long',\n",
       "  'best',\n",
       "  'say']}"
      ]
     },
     "execution_count": 23,
     "metadata": {},
     "output_type": "execute_result"
    }
   ],
   "source": [
    "# # Best parameters (uncomment to run)\n",
    "# gs_bag.best_params_"
   ]
  },
  {
   "cell_type": "markdown",
   "metadata": {},
   "source": [
    "**Interpretation:** Model 3's testing accuracy is 91.6% on unseen data, which means that this model surpasses the baseline model in its ability to classify reddit posts. Given a training score of 99.1%, this model is quite overfit. This model returns a recall score for mentalhealth posts of .87, which is good, but not as high as Model 1."
   ]
  },
  {
   "cell_type": "markdown",
   "metadata": {},
   "source": [
    "#### Model 4: Multinomial Naive Bayes"
   ]
  },
  {
   "cell_type": "code",
   "execution_count": 24,
   "metadata": {},
   "outputs": [
    {
     "data": {
      "text/plain": [
       "(0.9932042133876996, 0.9063136456211812)"
      ]
     },
     "execution_count": 24,
     "metadata": {},
     "output_type": "execute_result"
    }
   ],
   "source": [
    "# Define X and y\n",
    "X = df['title']\n",
    "y = df['is_mental']\n",
    "\n",
    "# Train test split\n",
    "X_train, X_test, y_train, y_test = train_test_split(X, y, random_state=42)\n",
    "\n",
    "# Set up pipeline\n",
    "pipe_mnb = Pipeline([\n",
    "    ('tvec', TfidfVectorizer(token_pattern=r'[\\w{2,}\\d*]\\S*\\w+')),\n",
    "    ('mnb', MultinomialNB())\n",
    "])\n",
    "\n",
    "# Set up parameters for pipeline\n",
    "mnb_params = {\n",
    "    'tvec__stop_words': [None, 'english', my_stopwords],\n",
    "    'tvec__min_df': [1, 5, 10],\n",
    "    'tvec__ngram_range': [(1,1), (1,2), (2,2)],\n",
    "    'mnb__alpha': [1.0, 0.75, 0.5, 0.25]\n",
    "}\n",
    "\n",
    "# Instantiate GridSearchCV\n",
    "gs_mnb = GridSearchCV(pipe_mnb,\n",
    "                      param_grid=mnb_params,\n",
    "                      cv=5,\n",
    "                     verbose=0)\n",
    "\n",
    "# Fit GridSearchCV\n",
    "gs_mnb.fit(X_train, y_train)\n",
    "\n",
    "# Accuracy score\n",
    "gs_mnb.score(X_train, y_train), gs_mnb.score(X_test, y_test)"
   ]
  },
  {
   "cell_type": "code",
   "execution_count": 25,
   "metadata": {},
   "outputs": [
    {
     "data": {
      "image/png": "[encoded data removed]",
      "text/plain": [
       "<Figure size 432x288 with 2 Axes>"
      ]
     },
     "metadata": {
      "needs_background": "light"
     },
     "output_type": "display_data"
    }
   ],
   "source": [
    "# Predicted y test values\n",
    "mnb_preds = gs_mnb.predict(X_test)\n",
    "\n",
    "# Plot a confusion matrix\n",
    "ConfusionMatrixDisplay.from_estimator(gs_mnb, X_test, y_test, display_labels=['MH','COVID'], cmap='plasma');"
   ]
  },
  {
   "cell_type": "code",
   "execution_count": 26,
   "metadata": {},
   "outputs": [
    {
     "name": "stdout",
     "output_type": "stream",
     "text": [
      "              precision    recall  f1-score   support\n",
      "\n",
      "          MH       0.92      0.89      0.90       485\n",
      "       COVID       0.89      0.92      0.91       497\n",
      "\n",
      "    accuracy                           0.91       982\n",
      "   macro avg       0.91      0.91      0.91       982\n",
      "weighted avg       0.91      0.91      0.91       982\n",
      "\n"
     ]
    }
   ],
   "source": [
    "# Model evaluation metrics\n",
    "print(classification_report(y_test, mnb_preds, target_names=['MH', 'COVID']))"
   ]
  },
  {
   "cell_type": "code",
   "execution_count": 27,
   "metadata": {},
   "outputs": [
    {
     "data": {
      "text/plain": [
       "{'mnb__alpha': 0.25,\n",
       " 'tvec__min_df': 1,\n",
       " 'tvec__ngram_range': (1, 2),\n",
       " 'tvec__stop_words': None}"
      ]
     },
     "execution_count": 27,
     "metadata": {},
     "output_type": "execute_result"
    }
   ],
   "source": [
    "# # Best parameters (uncomment to run)\n",
    "# gs_mnb.best_params_"
   ]
  },
  {
   "cell_type": "markdown",
   "metadata": {},
   "source": [
    "**Interpretation:** Model 4's testing accuracy is 90.6% on unseen data, which means that this model surpasses the baseline model in its ability to classify reddit posts. Given a training score of 99.3%, this model is quite overfit. This model returns a recall score for mentalhealth posts of .89, which is high, but not as high as Model 1."
   ]
  },
  {
   "cell_type": "markdown",
   "metadata": {},
   "source": [
    "#### Model 5: AdaBoost Classifier"
   ]
  },
  {
   "cell_type": "code",
   "execution_count": 28,
   "metadata": {},
   "outputs": [
    {
     "data": {
      "text/plain": [
       "(0.9164118246687054, 0.8890020366598778)"
      ]
     },
     "execution_count": 28,
     "metadata": {},
     "output_type": "execute_result"
    }
   ],
   "source": [
    "# Define X and y\n",
    "X = df['title']\n",
    "y = df['is_mental']\n",
    "\n",
    "# Train test split\n",
    "X_train, X_test, y_train, y_test = train_test_split(X, y, random_state=42)\n",
    "\n",
    "# Set up transformer and estimator via pipeline\n",
    "pipe_abc = Pipeline([\n",
    "    ('tvec', TfidfVectorizer(token_pattern=r'[\\w{2,}\\d*]\\S*\\w+')),\n",
    "    ('abc', AdaBoostClassifier())\n",
    "])\n",
    "\n",
    "# Set up parameters for pipeline\n",
    "abc_params = {\n",
    "    'tvec__stop_words': [None, 'english', my_stopwords],\n",
    "    'tvec__min_df': [1, 5, 10],\n",
    "    'tvec__ngram_range': [(1,1), (1,2), (2,2)],\n",
    "    'abc__n_estimators': [25, 50, 100]\n",
    "}\n",
    "\n",
    "# Instantiate GridSearchCV    \n",
    "gs_abc = GridSearchCV(pipe_abc,\n",
    "                      param_grid=abc_params,\n",
    "                      cv=5,\n",
    "                     verbose=0)\n",
    "\n",
    "# Fit GridSearchCV\n",
    "gs_abc.fit(X_train,y_train)\n",
    "\n",
    "# Accuracy score\n",
    "gs_abc.score(X_train,y_train), gs_abc.score(X_test,y_test)"
   ]
  },
  {
   "cell_type": "code",
   "execution_count": 29,
   "metadata": {
    "tags": []
   },
   "outputs": [
    {
     "data": {
      "image/png": "[encoded data removed]",
      "text/plain": [
       "<Figure size 432x288 with 2 Axes>"
      ]
     },
     "metadata": {
      "needs_background": "light"
     },
     "output_type": "display_data"
    }
   ],
   "source": [
    "# Predicted y test values\n",
    "abc_preds = gs_abc.predict(X_test)\n",
    "\n",
    "# Plot a confusion matrix\n",
    "ConfusionMatrixDisplay.from_estimator(gs_abc, X_test, y_test, display_labels=['MH','COVID'], cmap='plasma');"
   ]
  },
  {
   "cell_type": "code",
   "execution_count": 30,
   "metadata": {},
   "outputs": [
    {
     "name": "stdout",
     "output_type": "stream",
     "text": [
      "              precision    recall  f1-score   support\n",
      "\n",
      "          MH       0.94      0.83      0.88       485\n",
      "       COVID       0.85      0.94      0.90       497\n",
      "\n",
      "    accuracy                           0.89       982\n",
      "   macro avg       0.89      0.89      0.89       982\n",
      "weighted avg       0.89      0.89      0.89       982\n",
      "\n"
     ]
    }
   ],
   "source": [
    "# Model evaluation metrics\n",
    "print(classification_report(y_test, abc_preds, target_names=['MH', 'COVID']))"
   ]
  },
  {
   "cell_type": "code",
   "execution_count": 31,
   "metadata": {},
   "outputs": [
    {
     "data": {
      "text/plain": [
       "{'abc__n_estimators': 100,\n",
       " 'tvec__min_df': 10,\n",
       " 'tvec__ngram_range': (1, 1),\n",
       " 'tvec__stop_words': 'english'}"
      ]
     },
     "execution_count": 31,
     "metadata": {},
     "output_type": "execute_result"
    }
   ],
   "source": [
    "# # Best parameters (uncomment to run)\n",
    "# gs_abc.best_params_"
   ]
  },
  {
   "cell_type": "markdown",
   "metadata": {},
   "source": [
    "**Interpretation:** Model 5's testing accuracy is 88.9% on unseen data, which means that this model surpasses the baseline model in its ability to classify reddit posts. Given a training score of 91.6%, this model has a balanced bias-variance tradeoff. This model returns a recall score for mentalhealth posts of .83, which is good, but not as high as Model 1."
   ]
  },
  {
   "cell_type": "markdown",
   "metadata": {},
   "source": [
    "#### Model 6: Random Forest Classifier"
   ]
  },
  {
   "cell_type": "code",
   "execution_count": 32,
   "metadata": {},
   "outputs": [
    {
     "data": {
      "text/plain": [
       "(0.9979612640163099, 0.924643584521385)"
      ]
     },
     "execution_count": 32,
     "metadata": {},
     "output_type": "execute_result"
    }
   ],
   "source": [
    "# Define X and y\n",
    "X = df['title']\n",
    "y = df['is_mental']\n",
    "\n",
    "# Train test split\n",
    "X_train, X_test, y_train, y_test = train_test_split(X, y, random_state=42)\n",
    "\n",
    "# Set up pipeline\n",
    "pipe_rfc = Pipeline([\n",
    "    ('tvec', TfidfVectorizer(token_pattern=r'[\\w{2,}\\d*]\\S*\\w+')),\n",
    "    ('rfc', RandomForestClassifier())\n",
    "])\n",
    "\n",
    "# Set up parameters for pipeline\n",
    "rfc_params = {\n",
    "    'tvec__stop_words': [None, 'english', my_stopwords],\n",
    "    'tvec__min_df': [1, 5, 10],\n",
    "    'tvec__ngram_range': [(1,1), (1,2), (2,2)],\n",
    "    'rfc__n_estimators': [50, 100, 200],\n",
    "    'rfc__max_depth': [None, 5, 10, 20]\n",
    "}\n",
    "\n",
    "# Instantiate GridSearchCV\n",
    "gs_rfc = GridSearchCV(estimator=pipe_rfc,\n",
    "                      param_grid=rfc_params,\n",
    "                      cv=5,\n",
    "                      verbose=0)\n",
    "\n",
    "# Fit GridSearchCV\n",
    "gs_rfc.fit(X_train, y_train)\n",
    "\n",
    "# Accuracy score for random forest\n",
    "gs_rfc.score(X_train, y_train), gs_rfc.score(X_test, y_test)"
   ]
  },
  {
   "cell_type": "code",
   "execution_count": 33,
   "metadata": {},
   "outputs": [
    {
     "data": {
      "image/png": "[encoded data removed]",
      "text/plain": [
       "<Figure size 432x288 with 2 Axes>"
      ]
     },
     "metadata": {
      "needs_background": "light"
     },
     "output_type": "display_data"
    }
   ],
   "source": [
    "# Predicted y test values\n",
    "rfc_preds = gs_rfc.predict(X_test)\n",
    "\n",
    "# Plot a confusion matrix\n",
    "ConfusionMatrixDisplay.from_estimator(gs_rfc, X_test, y_test, display_labels=['MH','COVID'], cmap='plasma');"
   ]
  },
  {
   "cell_type": "code",
   "execution_count": 34,
   "metadata": {
    "tags": []
   },
   "outputs": [
    {
     "name": "stdout",
     "output_type": "stream",
     "text": [
      "              precision    recall  f1-score   support\n",
      "\n",
      "          MH       0.98      0.86      0.92       485\n",
      "       COVID       0.88      0.98      0.93       497\n",
      "\n",
      "    accuracy                           0.92       982\n",
      "   macro avg       0.93      0.92      0.92       982\n",
      "weighted avg       0.93      0.92      0.92       982\n",
      "\n"
     ]
    }
   ],
   "source": [
    "# Model evaluation metrics\n",
    "print(classification_report(y_test, rfc_preds, target_names=['MH', 'COVID']))"
   ]
  },
  {
   "cell_type": "code",
   "execution_count": 35,
   "metadata": {
    "collapsed": true,
    "jupyter": {
     "outputs_hidden": true
    },
    "tags": []
   },
   "outputs": [
    {
     "data": {
      "text/plain": [
       "{'rfc__max_depth': None,\n",
       " 'rfc__n_estimators': 200,\n",
       " 'tvec__min_df': 1,\n",
       " 'tvec__ngram_range': (1, 1),\n",
       " 'tvec__stop_words': ['toward',\n",
       "  'hereby',\n",
       "  'eleven',\n",
       "  'against',\n",
       "  'though',\n",
       "  'who',\n",
       "  'system',\n",
       "  'all',\n",
       "  'most',\n",
       "  'empty',\n",
       "  'myself',\n",
       "  'thereupon',\n",
       "  'only',\n",
       "  'may',\n",
       "  'where',\n",
       "  'because',\n",
       "  'together',\n",
       "  'fire',\n",
       "  'etc',\n",
       "  'every',\n",
       "  'own',\n",
       "  'a',\n",
       "  'take',\n",
       "  'across',\n",
       "  'forty',\n",
       "  'less',\n",
       "  'this',\n",
       "  'than',\n",
       "  'move',\n",
       "  'serious',\n",
       "  'its',\n",
       "  'about',\n",
       "  'has',\n",
       "  'keep',\n",
       "  'among',\n",
       "  'becoming',\n",
       "  'down',\n",
       "  'beforehand',\n",
       "  'everything',\n",
       "  'elsewhere',\n",
       "  'few',\n",
       "  'with',\n",
       "  'everyone',\n",
       "  'after',\n",
       "  'whoever',\n",
       "  'or',\n",
       "  'besides',\n",
       "  'here',\n",
       "  'nowhere',\n",
       "  'were',\n",
       "  'should',\n",
       "  'namely',\n",
       "  'anyway',\n",
       "  'ltd',\n",
       "  'seeming',\n",
       "  'already',\n",
       "  'rather',\n",
       "  'almost',\n",
       "  'through',\n",
       "  'being',\n",
       "  'once',\n",
       "  'seemed',\n",
       "  'next',\n",
       "  'do',\n",
       "  'below',\n",
       "  'when',\n",
       "  'our',\n",
       "  'around',\n",
       "  'enough',\n",
       "  'if',\n",
       "  'over',\n",
       "  'often',\n",
       "  'none',\n",
       "  'always',\n",
       "  'hers',\n",
       "  'thereby',\n",
       "  'although',\n",
       "  'themselves',\n",
       "  'these',\n",
       "  'yours',\n",
       "  'fill',\n",
       "  'anywhere',\n",
       "  'you',\n",
       "  'out',\n",
       "  'sixty',\n",
       "  'whereby',\n",
       "  'why',\n",
       "  'four',\n",
       "  'but',\n",
       "  'along',\n",
       "  'within',\n",
       "  'ourselves',\n",
       "  'cant',\n",
       "  'eg',\n",
       "  'further',\n",
       "  'towards',\n",
       "  'moreover',\n",
       "  'sincere',\n",
       "  'even',\n",
       "  'put',\n",
       "  'whose',\n",
       "  'whole',\n",
       "  'find',\n",
       "  'to',\n",
       "  'thick',\n",
       "  'part',\n",
       "  'under',\n",
       "  'us',\n",
       "  'any',\n",
       "  'ie',\n",
       "  'upon',\n",
       "  'detail',\n",
       "  'we',\n",
       "  'inc',\n",
       "  'up',\n",
       "  'anyone',\n",
       "  'found',\n",
       "  'thereafter',\n",
       "  'am',\n",
       "  'whereas',\n",
       "  'what',\n",
       "  'nobody',\n",
       "  'least',\n",
       "  'will',\n",
       "  'neither',\n",
       "  'not',\n",
       "  'whither',\n",
       "  'get',\n",
       "  'behind',\n",
       "  'itself',\n",
       "  'now',\n",
       "  'indeed',\n",
       "  'someone',\n",
       "  'give',\n",
       "  'mine',\n",
       "  'of',\n",
       "  'wherein',\n",
       "  'until',\n",
       "  'sometimes',\n",
       "  'noone',\n",
       "  'that',\n",
       "  'whom',\n",
       "  'last',\n",
       "  'an',\n",
       "  'cry',\n",
       "  'by',\n",
       "  'describe',\n",
       "  'however',\n",
       "  'front',\n",
       "  'how',\n",
       "  'cannot',\n",
       "  'formerly',\n",
       "  'show',\n",
       "  'amount',\n",
       "  'either',\n",
       "  'co',\n",
       "  'and',\n",
       "  'herein',\n",
       "  'onto',\n",
       "  'therefore',\n",
       "  'could',\n",
       "  'else',\n",
       "  'on',\n",
       "  'latterly',\n",
       "  'name',\n",
       "  'more',\n",
       "  'five',\n",
       "  'please',\n",
       "  'nevertheless',\n",
       "  'thus',\n",
       "  'via',\n",
       "  'whereafter',\n",
       "  'one',\n",
       "  'fifty',\n",
       "  'other',\n",
       "  'very',\n",
       "  'meanwhile',\n",
       "  'same',\n",
       "  'while',\n",
       "  'also',\n",
       "  'which',\n",
       "  'would',\n",
       "  'hereafter',\n",
       "  'them',\n",
       "  'into',\n",
       "  'since',\n",
       "  'nothing',\n",
       "  'in',\n",
       "  'can',\n",
       "  'nor',\n",
       "  'bottom',\n",
       "  'interest',\n",
       "  'never',\n",
       "  'two',\n",
       "  'six',\n",
       "  'become',\n",
       "  'otherwise',\n",
       "  'first',\n",
       "  'hence',\n",
       "  'de',\n",
       "  'they',\n",
       "  'somehow',\n",
       "  'thin',\n",
       "  'might',\n",
       "  'those',\n",
       "  'beside',\n",
       "  'herself',\n",
       "  'yourself',\n",
       "  'such',\n",
       "  'whereupon',\n",
       "  'too',\n",
       "  're',\n",
       "  'seem',\n",
       "  'both',\n",
       "  'hasnt',\n",
       "  'whenever',\n",
       "  'each',\n",
       "  'was',\n",
       "  'my',\n",
       "  'ever',\n",
       "  'the',\n",
       "  'amoungst',\n",
       "  'yet',\n",
       "  'thence',\n",
       "  'full',\n",
       "  'becomes',\n",
       "  'she',\n",
       "  'mill',\n",
       "  'therein',\n",
       "  'yourselves',\n",
       "  'before',\n",
       "  'himself',\n",
       "  'without',\n",
       "  'so',\n",
       "  'some',\n",
       "  'anyhow',\n",
       "  'anything',\n",
       "  'fifteen',\n",
       "  'their',\n",
       "  'above',\n",
       "  'became',\n",
       "  'see',\n",
       "  'side',\n",
       "  'must',\n",
       "  'ten',\n",
       "  'former',\n",
       "  'wherever',\n",
       "  'throughout',\n",
       "  'much',\n",
       "  'due',\n",
       "  'back',\n",
       "  'whatever',\n",
       "  'three',\n",
       "  'others',\n",
       "  'had',\n",
       "  'seems',\n",
       "  'still',\n",
       "  'somewhere',\n",
       "  'for',\n",
       "  'something',\n",
       "  'made',\n",
       "  'alone',\n",
       "  'several',\n",
       "  'couldnt',\n",
       "  'again',\n",
       "  'sometime',\n",
       "  'done',\n",
       "  'him',\n",
       "  'eight',\n",
       "  'there',\n",
       "  'no',\n",
       "  'off',\n",
       "  'me',\n",
       "  'have',\n",
       "  'been',\n",
       "  'are',\n",
       "  'her',\n",
       "  'he',\n",
       "  'beyond',\n",
       "  'many',\n",
       "  'your',\n",
       "  'perhaps',\n",
       "  'then',\n",
       "  'mostly',\n",
       "  'at',\n",
       "  'con',\n",
       "  'except',\n",
       "  'it',\n",
       "  'call',\n",
       "  'afterwards',\n",
       "  'everywhere',\n",
       "  'top',\n",
       "  'whence',\n",
       "  'during',\n",
       "  'ours',\n",
       "  'well',\n",
       "  'another',\n",
       "  'i',\n",
       "  'hundred',\n",
       "  'amongst',\n",
       "  'nine',\n",
       "  'per',\n",
       "  'be',\n",
       "  'is',\n",
       "  'between',\n",
       "  'go',\n",
       "  'un',\n",
       "  'from',\n",
       "  'twelve',\n",
       "  'latter',\n",
       "  'bill',\n",
       "  'twenty',\n",
       "  'his',\n",
       "  'third',\n",
       "  'hereupon',\n",
       "  'as',\n",
       "  'thru',\n",
       "  'whether',\n",
       "  'help',\n",
       "  'like',\n",
       "  'health',\n",
       "  'know',\n",
       "  'i’m',\n",
       "  'just',\n",
       "  'need',\n",
       "  'does',\n",
       "  'don’t',\n",
       "  'think',\n",
       "  'people',\n",
       "  'time',\n",
       "  'going',\n",
       "  'getting',\n",
       "  'make',\n",
       "  'today',\n",
       "  'new',\n",
       "  'right',\n",
       "  'got',\n",
       "  'long',\n",
       "  'best',\n",
       "  'say']}"
      ]
     },
     "execution_count": 35,
     "metadata": {},
     "output_type": "execute_result"
    }
   ],
   "source": [
    "# # Best parameters (uncomment to run)\n",
    "# gs_rfc.best_params_"
   ]
  },
  {
   "cell_type": "markdown",
   "metadata": {},
   "source": [
    "**Interpretation:** Model 6's testing accuracy is 92.5% on unseen data, which means that this model surpasses the baseline model in its ability to classify reddit posts. Given a training score of 99.8%, this model has extrememly high training accuracy but is extremely overfit. This model returns a recall score for mentalhealth posts of .86, which is good, but not as high as Model 1."
   ]
  },
  {
   "cell_type": "markdown",
   "metadata": {},
   "source": [
    "#### Model 7: Support Vector Classifier"
   ]
  },
  {
   "cell_type": "code",
   "execution_count": 36,
   "metadata": {},
   "outputs": [
    {
     "data": {
      "text/plain": [
       "(0.9945633707101597, 0.9175152749490835)"
      ]
     },
     "execution_count": 36,
     "metadata": {},
     "output_type": "execute_result"
    }
   ],
   "source": [
    "# Define X and y\n",
    "X = df['title']\n",
    "y = df['is_mental']\n",
    "\n",
    "# Train test split\n",
    "X_train, X_test, y_train, y_test = train_test_split(X, y, random_state=42)\n",
    "\n",
    "# Set up transformer and estimator via pipeline\n",
    "pipe_svc = Pipeline([\n",
    "    ('tvec', TfidfVectorizer(token_pattern=r'[\\w{2,}\\d*]\\S*\\w+')),\n",
    "    ('svc', SVC())\n",
    "])\n",
    "\n",
    "# Set up parameters for pipeline\n",
    "svc_params = {\n",
    "    'tvec__stop_words': [None, 'english', my_stopwords],\n",
    "    'tvec__min_df': [1, 5, 10],\n",
    "    'tvec__ngram_range': [(1,1), (1,2), (2,2)],\n",
    "    'svc__kernel': ['linear', 'rbf', 'poly', 'sigmoid']\n",
    "}\n",
    "\n",
    "# Instantiate GridSearchCV    \n",
    "gs_svc = GridSearchCV(pipe_svc,\n",
    "                      param_grid=svc_params,\n",
    "                      cv=5,\n",
    "                     verbose=0)\n",
    "\n",
    "# Fit GridSearchCV\n",
    "gs_svc.fit(X_train,y_train)\n",
    "\n",
    "# Accuracy score\n",
    "gs_svc.score(X_train,y_train), gs_svc.score(X_test,y_test)"
   ]
  },
  {
   "cell_type": "code",
   "execution_count": 37,
   "metadata": {},
   "outputs": [
    {
     "data": {
      "image/png": "[encoded data removed]",
      "text/plain": [
       "<Figure size 432x288 with 2 Axes>"
      ]
     },
     "metadata": {
      "needs_background": "light"
     },
     "output_type": "display_data"
    }
   ],
   "source": [
    "# Predicted y test values\n",
    "svc_preds = gs_svc.predict(X_test)\n",
    "\n",
    "# Plot a confusion matrix\n",
    "ConfusionMatrixDisplay.from_estimator(gs_svc, X_test, y_test, display_labels=['MH','COVID'], cmap='plasma');"
   ]
  },
  {
   "cell_type": "code",
   "execution_count": 38,
   "metadata": {},
   "outputs": [
    {
     "name": "stdout",
     "output_type": "stream",
     "text": [
      "              precision    recall  f1-score   support\n",
      "\n",
      "          MH       0.94      0.89      0.91       485\n",
      "       COVID       0.90      0.94      0.92       497\n",
      "\n",
      "    accuracy                           0.92       982\n",
      "   macro avg       0.92      0.92      0.92       982\n",
      "weighted avg       0.92      0.92      0.92       982\n",
      "\n"
     ]
    }
   ],
   "source": [
    "# Model evaluation metrics\n",
    "print(classification_report(y_test, svc_preds, target_names=['MH', 'COVID']))"
   ]
  },
  {
   "cell_type": "code",
   "execution_count": 39,
   "metadata": {},
   "outputs": [
    {
     "data": {
      "text/plain": [
       "{'svc__kernel': 'linear',\n",
       " 'tvec__min_df': 1,\n",
       " 'tvec__ngram_range': (1, 2),\n",
       " 'tvec__stop_words': 'english'}"
      ]
     },
     "execution_count": 39,
     "metadata": {},
     "output_type": "execute_result"
    }
   ],
   "source": [
    "# # Best parameters (uncomment to run)\n",
    "# gs_svc.best_params_"
   ]
  },
  {
   "cell_type": "markdown",
   "metadata": {},
   "source": [
    "**Interpretation:** Model 7's testing accuracy is 91.8% on unseen data, which means that this model surpasses the baseline model in its ability to classify reddit posts. Given a training score of 99.5%, this model is quite overfit. This model returns a recall score for mentalhealth posts of .89, which is high, but not as high as Model 1."
   ]
  },
  {
   "cell_type": "markdown",
   "metadata": {},
   "source": [
    "### Production Model"
   ]
  },
  {
   "cell_type": "markdown",
   "metadata": {},
   "source": [
    "Because the logistic regression model had the highest performance in terms of accuracy, I did addtional analysis on posts incorrectly classified from this model."
   ]
  },
  {
   "cell_type": "code",
   "execution_count": 40,
   "metadata": {},
   "outputs": [],
   "source": [
    "# Create Dataframe with correct and incorrect predictions\n",
    "lr_df = pd.DataFrame({'title': X_test, 'true_subreddit': y_test,\n",
    "                      'predicted_subreddit': gs_lr.predict(X_test)})\n",
    "# Create Dataframe with only incorrect predictions\n",
    "lr_df = lr_df.loc[lr_df['true_subreddit'] != lr_df['predicted_subreddit']]"
   ]
  },
  {
   "cell_type": "code",
   "execution_count": 41,
   "metadata": {},
   "outputs": [
    {
     "data": {
      "text/html": [
       "<div>\n",
       "<style scoped>\n",
       "    .dataframe tbody tr th:only-of-type {\n",
       "        vertical-align: middle;\n",
       "    }\n",
       "\n",
       "    .dataframe tbody tr th {\n",
       "        vertical-align: top;\n",
       "    }\n",
       "\n",
       "    .dataframe thead th {\n",
       "        text-align: right;\n",
       "    }\n",
       "</style>\n",
       "<table border=\"1\" class=\"dataframe\">\n",
       "  <thead>\n",
       "    <tr style=\"text-align: right;\">\n",
       "      <th></th>\n",
       "      <th>title</th>\n",
       "      <th>true_subreddit</th>\n",
       "      <th>predicted_subreddit</th>\n",
       "    </tr>\n",
       "  </thead>\n",
       "  <tbody>\n",
       "    <tr>\n",
       "      <th>3598</th>\n",
       "      <td>Delta employee: “I f*cked the captain to keep ...</td>\n",
       "      <td>0</td>\n",
       "      <td>1</td>\n",
       "    </tr>\n",
       "    <tr>\n",
       "      <th>270</th>\n",
       "      <td>Fake personality with EVERYONE</td>\n",
       "      <td>1</td>\n",
       "      <td>0</td>\n",
       "    </tr>\n",
       "    <tr>\n",
       "      <th>720</th>\n",
       "      <td>Associating negative emotions with positive im...</td>\n",
       "      <td>1</td>\n",
       "      <td>0</td>\n",
       "    </tr>\n",
       "    <tr>\n",
       "      <th>3487</th>\n",
       "      <td>Can someone explain to me as if I am a toddler</td>\n",
       "      <td>0</td>\n",
       "      <td>1</td>\n",
       "    </tr>\n",
       "    <tr>\n",
       "      <th>3867</th>\n",
       "      <td>Employers just don't care and denial is real, ...</td>\n",
       "      <td>0</td>\n",
       "      <td>1</td>\n",
       "    </tr>\n",
       "  </tbody>\n",
       "</table>\n",
       "</div>"
      ],
      "text/plain": [
       "                                                  title  true_subreddit  \\\n",
       "3598  Delta employee: “I f*cked the captain to keep ...               0   \n",
       "270                      Fake personality with EVERYONE               1   \n",
       "720   Associating negative emotions with positive im...               1   \n",
       "3487     Can someone explain to me as if I am a toddler               0   \n",
       "3867  Employers just don't care and denial is real, ...               0   \n",
       "\n",
       "      predicted_subreddit  \n",
       "3598                    1  \n",
       "270                     0  \n",
       "720                     0  \n",
       "3487                    1  \n",
       "3867                    1  "
      ]
     },
     "execution_count": 41,
     "metadata": {},
     "output_type": "execute_result"
    }
   ],
   "source": [
    "# View Dataframe with incorrect predictions\n",
    "lr_df.head()"
   ]
  },
  {
   "cell_type": "code",
   "execution_count": 42,
   "metadata": {
    "tags": []
   },
   "outputs": [
    {
     "data": {
      "image/png": "[encoded data removed]",
      "text/plain": [
       "<Figure size 432x288 with 1 Axes>"
      ]
     },
     "metadata": {
      "needs_background": "light"
     },
     "output_type": "display_data"
    }
   ],
   "source": [
    "# Define X\n",
    "X = lr_df['title']\n",
    "\n",
    "# Instantiate a CV object\n",
    "cv = CountVectorizer(stop_words='english', token_pattern = r'[\\w{2,}\\d*]\\S*\\w+')\n",
    "\n",
    "# Fit and transform the CV\n",
    "X_cv = cv.fit_transform(X)\n",
    "\n",
    "# Convert to a dataframe\n",
    "cv_df = pd.DataFrame(X_cv.todense(), columns=cv.get_feature_names_out())\n",
    "\n",
    "# Plot the top 10 words that are misclassified\n",
    "cv_df.sum().sort_values(ascending=False).head(20).plot(kind='barh')\n",
    "plt.title('Top 10 Misclassified Words')\n",
    "plt.xlabel('Work Count')\n",
    "plt.ylabel('Words');"
   ]
  },
  {
   "cell_type": "code",
   "execution_count": 43,
   "metadata": {},
   "outputs": [],
   "source": [
    "misclassified_words = cv_df.sum().sort_values(ascending=False)"
   ]
  },
  {
   "cell_type": "code",
   "execution_count": 44,
   "metadata": {},
   "outputs": [
    {
     "data": {
      "text/plain": [
       "22"
      ]
     },
     "execution_count": 44,
     "metadata": {},
     "output_type": "execute_result"
    }
   ],
   "source": [
    "len(shared_words)"
   ]
  },
  {
   "cell_type": "code",
   "execution_count": 45,
   "metadata": {},
   "outputs": [
    {
     "name": "stdout",
     "output_type": "stream",
     "text": [
      "17\n",
      "['help', 'going', 'right', 'health', 'does', 'need', 'just', 'long', 'don’t', 'know', 'people', 'new', 'today', 'time', 'like', 'best', 'getting']\n"
     ]
    }
   ],
   "source": [
    "# created list of common words between misclassified popular and my stop words\n",
    "misclassified_shared_words = []\n",
    "for word in misclassified_words.index:\n",
    "    if word in shared_words:\n",
    "        misclassified_shared_words.append(word)\n",
    "print(len(misclassified_shared_words))\n",
    "print(misclassified_shared_words)"
   ]
  },
  {
   "cell_type": "markdown",
   "metadata": {},
   "source": [
    "**Interpretation:** The model most frequently misclassifies posts where the 17 words shown above appear. Out of the 22 words included in the \"shared_words\" list, 17 of these words are present in the misclassified posts. The original logisitic regression model didn't included the \"shared_word\" list as part of it's stop words. How will the model perform if we include the \"shared_words\" list in the stop word list?"
   ]
  },
  {
   "cell_type": "code",
   "execution_count": 46,
   "metadata": {},
   "outputs": [
    {
     "data": {
      "text/plain": [
       "(0.9979612640163099, 0.9205702647657841)"
      ]
     },
     "execution_count": 46,
     "metadata": {},
     "output_type": "execute_result"
    }
   ],
   "source": [
    "# Define X and y\n",
    "X = df['title']\n",
    "y = df['is_mental']\n",
    "\n",
    "# Train test split\n",
    "X_train, X_test, y_train, y_test = train_test_split(X, y, random_state=42)\n",
    "\n",
    "# Set up transformer and estimator via pipeline\n",
    "pipe_lr = Pipeline([\n",
    "    ('tvec', TfidfVectorizer(token_pattern=r'[\\w{2,}\\d*]\\S*\\w+')),\n",
    "    ('logreg', LogisticRegression())\n",
    "])\n",
    "\n",
    "# Set up parameters for pipeline\n",
    "lr_params = {\n",
    "    'tvec__stop_words': [my_stopwords],\n",
    "    'tvec__min_df': [1, 5, 10],\n",
    "    'tvec__ngram_range': [(1,1), (1,2), (2,2)],\n",
    "    'logreg__C': [0.1, .9, 1, 1.1, 10]  \n",
    "}\n",
    "\n",
    "# Instantiate GridSearchCV\n",
    "gs_lr = GridSearchCV(estimator=pipe_lr,\n",
    "                      param_grid=lr_params,\n",
    "                      cv=5,\n",
    "                      verbose=0)\n",
    "\n",
    "# Fit GridSearchCV\n",
    "gs_lr.fit(X_train, y_train)\n",
    "\n",
    "# Accuracy score\n",
    "gs_lr.score(X_train, y_train), gs_lr.score(X_test, y_test)"
   ]
  },
  {
   "cell_type": "code",
   "execution_count": 47,
   "metadata": {},
   "outputs": [
    {
     "data": {
      "image/png": "[encoded data removed]",
      "text/plain": [
       "<Figure size 432x288 with 2 Axes>"
      ]
     },
     "metadata": {
      "needs_background": "light"
     },
     "output_type": "display_data"
    }
   ],
   "source": [
    "# Predicted y test values\n",
    "lr_preds = gs_lr.predict(X_test)\n",
    "\n",
    "# Plot a confusion matrix\n",
    "ConfusionMatrixDisplay.from_estimator(gs_lr, X_test, y_test, display_labels=['MH','COVID'], cmap='plasma');"
   ]
  },
  {
   "cell_type": "code",
   "execution_count": 48,
   "metadata": {},
   "outputs": [
    {
     "name": "stdout",
     "output_type": "stream",
     "text": [
      "              precision    recall  f1-score   support\n",
      "\n",
      "          MH       0.94      0.90      0.92       485\n",
      "       COVID       0.91      0.94      0.92       497\n",
      "\n",
      "    accuracy                           0.92       982\n",
      "   macro avg       0.92      0.92      0.92       982\n",
      "weighted avg       0.92      0.92      0.92       982\n",
      "\n"
     ]
    }
   ],
   "source": [
    "# Model evaluation metrics\n",
    "print(classification_report(y_test, lr_preds, target_names=['MH', 'COVID']))"
   ]
  },
  {
   "cell_type": "markdown",
   "metadata": {},
   "source": [
    "**Interpretation:** This logistic regression model performs virtually the same - r/mentalhealth recall is marginally higher (it misclassified 48 posts instead of the original 50), but the model is still slightly overfit."
   ]
  },
  {
   "cell_type": "markdown",
   "metadata": {},
   "source": [
    "#### Evaluate tfidf weights"
   ]
  },
  {
   "cell_type": "code",
   "execution_count": 49,
   "metadata": {},
   "outputs": [
    {
     "data": {
      "text/html": [
       "<div>\n",
       "<style scoped>\n",
       "    .dataframe tbody tr th:only-of-type {\n",
       "        vertical-align: middle;\n",
       "    }\n",
       "\n",
       "    .dataframe tbody tr th {\n",
       "        vertical-align: top;\n",
       "    }\n",
       "\n",
       "    .dataframe thead th {\n",
       "        text-align: right;\n",
       "    }\n",
       "</style>\n",
       "<table border=\"1\" class=\"dataframe\">\n",
       "  <thead>\n",
       "    <tr style=\"text-align: right;\">\n",
       "      <th></th>\n",
       "      <th>feature_name</th>\n",
       "      <th>tfidf_weight</th>\n",
       "    </tr>\n",
       "  </thead>\n",
       "  <tbody>\n",
       "    <tr>\n",
       "      <th>2372</th>\n",
       "      <td>landlord</td>\n",
       "      <td>8.294377</td>\n",
       "    </tr>\n",
       "    <tr>\n",
       "      <th>2763</th>\n",
       "      <td>mundo</td>\n",
       "      <td>8.294377</td>\n",
       "    </tr>\n",
       "    <tr>\n",
       "      <th>2747</th>\n",
       "      <td>motive</td>\n",
       "      <td>8.294377</td>\n",
       "    </tr>\n",
       "    <tr>\n",
       "      <th>2749</th>\n",
       "      <td>mounted</td>\n",
       "      <td>8.294377</td>\n",
       "    </tr>\n",
       "    <tr>\n",
       "      <th>2750</th>\n",
       "      <td>mounts</td>\n",
       "      <td>8.294377</td>\n",
       "    </tr>\n",
       "    <tr>\n",
       "      <th>2751</th>\n",
       "      <td>mourning</td>\n",
       "      <td>8.294377</td>\n",
       "    </tr>\n",
       "    <tr>\n",
       "      <th>2752</th>\n",
       "      <td>movements</td>\n",
       "      <td>8.294377</td>\n",
       "    </tr>\n",
       "    <tr>\n",
       "      <th>2753</th>\n",
       "      <td>movie</td>\n",
       "      <td>8.294377</td>\n",
       "    </tr>\n",
       "    <tr>\n",
       "      <th>2756</th>\n",
       "      <td>mta</td>\n",
       "      <td>8.294377</td>\n",
       "    </tr>\n",
       "    <tr>\n",
       "      <th>2757</th>\n",
       "      <td>mthfr</td>\n",
       "      <td>8.294377</td>\n",
       "    </tr>\n",
       "  </tbody>\n",
       "</table>\n",
       "</div>"
      ],
      "text/plain": [
       "     feature_name  tfidf_weight\n",
       "2372     landlord      8.294377\n",
       "2763        mundo      8.294377\n",
       "2747       motive      8.294377\n",
       "2749      mounted      8.294377\n",
       "2750       mounts      8.294377\n",
       "2751     mourning      8.294377\n",
       "2752    movements      8.294377\n",
       "2753        movie      8.294377\n",
       "2756          mta      8.294377\n",
       "2757        mthfr      8.294377"
      ]
     },
     "execution_count": 49,
     "metadata": {},
     "output_type": "execute_result"
    }
   ],
   "source": [
    "# Instantiate and fit the transformer\n",
    "tvec = TfidfVectorizer(stop_words='english', min_df=1)\n",
    "X_train_tvec = tvec.fit_transform(X_train)\n",
    "X_test_tvec = tvec.transform(X_test)\n",
    "\n",
    "# Instantiate and fit logistic regression\n",
    "logreg = LogisticRegression(C=1)\n",
    "logreg.fit(X_train_tvec, y_train)\n",
    "\n",
    "# Create a dataframe showing the feature name and tf-idf weight of the word\n",
    "my_dict = dict(zip(tvec.get_feature_names_out(), tvec.idf_))\n",
    "features_df = pd.DataFrame(data=my_dict.items(), columns=['feature_name','tfidf_weight'])\n",
    "\n",
    "# View the 10 highest weighted feature names\n",
    "features_df.sort_values(by=['tfidf_weight'], ascending=False).head(10)"
   ]
  },
  {
   "cell_type": "markdown",
   "metadata": {},
   "source": [
    "**Interpretion:** Words with a weight of 8.294377 influence the classification the most."
   ]
  },
  {
   "cell_type": "code",
   "execution_count": 50,
   "metadata": {},
   "outputs": [
    {
     "data": {
      "text/plain": [
       "0.9757721587255491"
      ]
     },
     "execution_count": 50,
     "metadata": {},
     "output_type": "execute_result"
    }
   ],
   "source": [
    "# ROC AUC Score\n",
    "roc_auc_score(y_test, gs_lr.predict_proba(X_test)[:, 1])"
   ]
  },
  {
   "cell_type": "code",
   "execution_count": 51,
   "metadata": {},
   "outputs": [
    {
     "name": "stderr",
     "output_type": "stream",
     "text": [
      "/Users/ericrodriguez/opt/anaconda3/lib/python3.8/site-packages/sklearn/utils/deprecation.py:87: FutureWarning: Function plot_roc_curve is deprecated; Function :func:`plot_roc_curve` is deprecated in 1.0 and will be removed in 1.2. Use one of the class methods: :meth:`sklearn.metric.RocCurveDisplay.from_predictions` or :meth:`sklearn.metric.RocCurveDisplay.from_estimator`.\n",
      "  warnings.warn(msg, category=FutureWarning)\n"
     ]
    },
    {
     "data": {
      "image/png": "[encoded data removed]",
      "text/plain": [
       "<Figure size 432x288 with 1 Axes>"
      ]
     },
     "metadata": {
      "needs_background": "light"
     },
     "output_type": "display_data"
    }
   ],
   "source": [
    "# Receiver Operating Characteristic (ROC) Curve\n",
    "plot_roc_curve(gs_lr, X_test, y_test)\n",
    "plt.plot([0, 1], [0, 1],\n",
    "        label='baseline', linestyle='--')\n",
    "plt.legend();"
   ]
  },
  {
   "cell_type": "markdown",
   "metadata": {},
   "source": [
    "**Interpretation:** The area under the ROC curve tells how much the model is capable of distingusihing between classes. More area under the curve means the distributions are better separated. This ROC AUC of 0.98 indicates that the true positive rate and the false positive rate are well separated."
   ]
  },
  {
   "cell_type": "code",
   "execution_count": 54,
   "metadata": {},
   "outputs": [],
   "source": [
    "# Since my production model utilizing the custom stopword list has a marginally higher recall score\n",
    "# for mentalhealth posts, I'm going to pickle this model \n",
    "with open('../data/production_model.pkl', 'wb') as pickle_out:\n",
    "    pickle_out = pickle.dump(gs_lr, pickle_out)"
   ]
  },
  {
   "cell_type": "markdown",
   "metadata": {},
   "source": [
    "## Conclusion\n",
    "\n",
    "My baseline model had an accuracy score of 50%, and my logistic regression model has an accuracy of 92.1%, showing that the logisitc regression model is significantly better at predicting the correct subreddit.\n",
    "\n"
   ]
  },
  {
   "cell_type": "code",
   "execution_count": null,
   "metadata": {},
   "outputs": [],
   "source": []
  }
 ],
 "metadata": {
  "kernelspec": {
   "display_name": "Python 3 (ipykernel)",
   "language": "python",
   "name": "python3"
  },
  "language_info": {
   "codemirror_mode": {
    "name": "ipython",
    "version": 3
   },
   "file_extension": ".py",
   "mimetype": "text/x-python",
   "name": "python",
   "nbconvert_exporter": "python",
   "pygments_lexer": "ipython3",
   "version": "3.8.5"
  }
 },
 "nbformat": 4,
 "nbformat_minor": 4
}
