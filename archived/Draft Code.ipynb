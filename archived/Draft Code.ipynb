{
 "cells": [
  {
   "cell_type": "markdown",
   "metadata": {},
   "source": [
    "# Old code and ideas"
   ]
  },
  {
   "cell_type": "code",
   "execution_count": 1,
   "metadata": {},
   "outputs": [],
   "source": [
    "# Import libraries\n",
    "import pandas as pd\n",
    "import numpy as np\n",
    "import requests\n",
    "import json\n",
    "import csv\n",
    "import time\n",
    "import datetime as dt\n",
    "import math\n",
    "import itertools"
   ]
  },
  {
   "cell_type": "code",
   "execution_count": 2,
   "metadata": {},
   "outputs": [
    {
     "data": {
      "text/plain": [
       "(50, 4)"
      ]
     },
     "execution_count": 2,
     "metadata": {},
     "output_type": "execute_result"
    }
   ],
   "source": [
    "# first subreddit\n",
    "subreddit = 'mentalhealth'\n",
    "\n",
    "url = 'https://api.pushshift.io/reddit/search/submission?subreddit=mentalhealth'\n",
    "headers = {'User-agent': 'enr11'}\n",
    "res = requests.get(url, headers=headers)\n",
    "res.status_code\n",
    "\n",
    "if res.status_code == 200:\n",
    "    subreddit = res.json()\n",
    "\n",
    "subreddit.keys()\n",
    "\n",
    "subreddit['data'][0]\n",
    "\n",
    "posts = subreddit['data']\n",
    "topics_dict = { 'title':[],\n",
    "               'selftext':[],\n",
    "                'id':[],\n",
    "                'subreddit': []\n",
    "              }\n",
    "\n",
    "for i in range(2):\n",
    "    for post in posts:\n",
    "        topics_dict['title'].append(post['title'])\n",
    "        topics_dict['id'].append(post['id'])\n",
    "        topics_dict['selftext'].append(post['selftext'])\n",
    "        topics_dict['subreddit'].append(post['subreddit'])\n",
    "\n",
    "topics_data = pd.DataFrame(topics_dict)\n",
    "topics_data.head()\n",
    "\n",
    "topics_data.shape"
   ]
  },
  {
   "cell_type": "code",
   "execution_count": 3,
   "metadata": {},
   "outputs": [],
   "source": [
    "# was running into issues pulling more than 1200, it said error: selftext. presumably because\n",
    "# there were no selftext values in the pull of 50 posts after 1200\n",
    "# I tried doing:\n",
    "#   try:\n",
    "#             posts_data['created_utc'].append(post['created_utc'])\n",
    "#             posts_data['url'].append(post['full_link'])\n",
    "#             posts_data['id'].append(post['id'])\n",
    "#             posts_data['num_comments'].append(post['num_comments'])\n",
    "#             posts_data['title'].append(post['title'])\n",
    "#             posts_data['selftext'].append(post['selftext'])\n",
    "#             posts_data['subreddit'].append(post['subreddit'])\n",
    "#         except KeyError:\n",
    "#              'selftext' = \"NaN\"\n",
    "# but it said arrays must be the same length"
   ]
  },
  {
   "cell_type": "code",
   "execution_count": 4,
   "metadata": {},
   "outputs": [],
   "source": [
    "# Subreddit to be scraped\n",
    "subreddit = 'mentalhealth'"
   ]
  },
  {
   "cell_type": "code",
   "execution_count": 6,
   "metadata": {},
   "outputs": [
    {
     "name": "stdout",
     "output_type": "stream",
     "text": [
      "0\n",
      "50\n",
      "100\n",
      "150\n",
      "200\n",
      "250\n",
      "300\n",
      "350\n",
      "400\n",
      "450\n",
      "500\n",
      "550\n",
      "600\n",
      "650\n",
      "700\n",
      "750\n",
      "800\n",
      "850\n",
      "900\n",
      "950\n",
      "1000\n",
      "1050\n",
      "1100\n",
      "1150\n",
      "1200\n",
      "1250\n"
     ]
    }
   ],
   "source": [
    "# h/t stack overflow \n",
    "# Set up dict for info to collect\n",
    "posts_data = {'created_utc':[],\n",
    "              'url':[],\n",
    "              'id':[],\n",
    "              'num_comments':[],\n",
    "              'title':[],\n",
    "              'selftext':[],\n",
    "              'subreddit':[]\n",
    "              }\n",
    "\n",
    "headers = {'User-agent': 'Reddit Post Collector'}\n",
    "\n",
    "# Set up function to return submission data\n",
    "def get_submissions(**kwargs):\n",
    "    res = requests.get(\"https://api.pushshift.io/reddit/submission/search/\",\n",
    "                       params=kwargs,\n",
    "                       headers=headers)\n",
    "    if res.status_code == 200:\n",
    "        data = res.json()\n",
    "        return data['data']\n",
    "    else:\n",
    "        print(res.status_code)\n",
    "\n",
    "before = None\n",
    "count = 0\n",
    "\n",
    "# Collect up to 1,250 posts as long as there are posts to collect\n",
    "while True and len(set(posts_data['created_utc'])) < 1250:\n",
    "    print(count)\n",
    "    count += 1*50\n",
    "    \n",
    "    posts = get_submissions(subreddit=subreddit,\n",
    "                            size=50,\n",
    "                            before=before,\n",
    "                            sort='desc',\n",
    "                            sort_type='created_utc')\n",
    "    if not posts:\n",
    "        break\n",
    "\n",
    "    for post in posts:\n",
    "        # Keep track of position for the next call in while loop\n",
    "        before = post['created_utc']\n",
    "\n",
    "        # Append info to posts_data dict\n",
    "        posts_data['created_utc'].append(post['created_utc'])\n",
    "        posts_data['url'].append(post['full_link'])\n",
    "        posts_data['id'].append(post['id'])\n",
    "        posts_data['num_comments'].append(post['num_comments'])\n",
    "        posts_data['title'].append(post['title'])\n",
    "        posts_data['selftext'].append(post['selftext'])\n",
    "        posts_data['subreddit'].append(post['subreddit'])\n",
    "\n",
    "    time.sleep(3)\n",
    "\n",
    "# Save posts to dataframe\n",
    "posts_data = pd.DataFrame(posts_data)\n",
    "\n",
    "# Create `timestamp` column with `created_utc` translated into readable time\n",
    "def get_date(created):\n",
    "    return dt.datetime.fromtimestamp(created)\n",
    "\n",
    "_timestamp = posts_data['created_utc'].apply(get_date)\n",
    "posts_data = posts_data.assign(timestamp = _timestamp)"
   ]
  },
  {
   "cell_type": "code",
   "execution_count": 7,
   "metadata": {},
   "outputs": [],
   "source": [
    "# # for after the dataframe is created and during preprocessing\n",
    "# # Add lematized words to dataframe\n",
    "# df = df.assign(lemmatized = tokens_lem)\n",
    "# df.head(3)\n",
    "\n",
    "# # had issues figuring out how to add lemmatized words, do it later\n",
    "# # chose to do lematization because it takes in context and doesn't convert the word to a hard to interpret base"
   ]
  },
  {
   "cell_type": "code",
   "execution_count": 8,
   "metadata": {},
   "outputs": [],
   "source": [
    "# properly get rid of other symbols and stopwords"
   ]
  },
  {
   "cell_type": "code",
   "execution_count": null,
   "metadata": {},
   "outputs": [],
   "source": [
    "# count vectorizer "
   ]
  }
 ],
 "metadata": {
  "kernelspec": {
   "display_name": "Python 3",
   "language": "python",
   "name": "python3"
  },
  "language_info": {
   "codemirror_mode": {
    "name": "ipython",
    "version": 3
   },
   "file_extension": ".py",
   "mimetype": "text/x-python",
   "name": "python",
   "nbconvert_exporter": "python",
   "pygments_lexer": "ipython3",
   "version": "3.8.5"
  }
 },
 "nbformat": 4,
 "nbformat_minor": 4
}
